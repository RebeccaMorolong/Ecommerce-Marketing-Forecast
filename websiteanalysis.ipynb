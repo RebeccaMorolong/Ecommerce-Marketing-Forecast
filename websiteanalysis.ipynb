{
 "cells": [
  {
   "cell_type": "markdown",
   "id": "94bd0993",
   "metadata": {},
   "source": [
    "#  E-Commerce Marketing Analysis"
   ]
  },
  {
   "cell_type": "markdown",
   "id": "c8ec72ab",
   "metadata": {},
   "source": [
    "\n",
    "Scenario:\n",
    "You're a marketing analyst at an e-commerce company that's noticing a plateau in sales despite increased online traffic and engagement. Leadership is wondering why this is happening—and how to fix it\n"
   ]
  },
  {
   "cell_type": "markdown",
   "id": "2e980300",
   "metadata": {},
   "source": [
    "# 🔎 Business Question:\n",
    "* \"Why is high website traffic not translating into increased sales, and how can we improve conversion?\"\n",
    "\n",
    " This question breaks into two parts:\n",
    "- Identify the bottlenecks in your current customer journey.\n",
    "- Recommend strategies to boost conversions.\n",
    "\n"
   ]
  },
  {
   "cell_type": "code",
   "execution_count": 32,
   "id": "e1aa2778",
   "metadata": {},
   "outputs": [
    {
     "name": "stderr",
     "output_type": "stream",
     "text": [
      "C:\\Users\\Rebecca\\AppData\\Local\\Temp\\ipykernel_19268\\121117712.py:15: UserWarning:\n",
      "\n",
      "pandas only supports SQLAlchemy connectable (engine/connection) or database string URI or sqlite3 DBAPI2 connection. Other DBAPI2 objects are not tested. Please consider using SQLAlchemy.\n",
      "\n"
     ]
    },
    {
     "data": {
      "text/html": [
       "<div>\n",
       "<style scoped>\n",
       "    .dataframe tbody tr th:only-of-type {\n",
       "        vertical-align: middle;\n",
       "    }\n",
       "\n",
       "    .dataframe tbody tr th {\n",
       "        vertical-align: top;\n",
       "    }\n",
       "\n",
       "    .dataframe thead th {\n",
       "        text-align: right;\n",
       "    }\n",
       "</style>\n",
       "<table border=\"1\" class=\"dataframe\">\n",
       "  <thead>\n",
       "    <tr style=\"text-align: right;\">\n",
       "      <th></th>\n",
       "      <th>id</th>\n",
       "      <th>customer_behavior</th>\n",
       "      <th>market_trends</th>\n",
       "      <th>seasonal_fluctuations</th>\n",
       "      <th>product_availability</th>\n",
       "      <th>customer_demographics</th>\n",
       "      <th>website_traffic</th>\n",
       "      <th>engagement_rate</th>\n",
       "      <th>sales_forecast</th>\n",
       "    </tr>\n",
       "  </thead>\n",
       "  <tbody>\n",
       "    <tr>\n",
       "      <th>0</th>\n",
       "      <td>1</td>\n",
       "      <td>54.324590</td>\n",
       "      <td>1.2</td>\n",
       "      <td>High</td>\n",
       "      <td>80</td>\n",
       "      <td>36-45</td>\n",
       "      <td>200</td>\n",
       "      <td>0.016666</td>\n",
       "      <td>95</td>\n",
       "    </tr>\n",
       "    <tr>\n",
       "      <th>1</th>\n",
       "      <td>2</td>\n",
       "      <td>33.448665</td>\n",
       "      <td>0.8</td>\n",
       "      <td>High</td>\n",
       "      <td>32</td>\n",
       "      <td>26-35</td>\n",
       "      <td>194</td>\n",
       "      <td>0.048364</td>\n",
       "      <td>486</td>\n",
       "    </tr>\n",
       "    <tr>\n",
       "      <th>2</th>\n",
       "      <td>3</td>\n",
       "      <td>66.118228</td>\n",
       "      <td>1.0</td>\n",
       "      <td>Medium</td>\n",
       "      <td>54</td>\n",
       "      <td>36-45</td>\n",
       "      <td>191</td>\n",
       "      <td>0.038420</td>\n",
       "      <td>268</td>\n",
       "    </tr>\n",
       "    <tr>\n",
       "      <th>3</th>\n",
       "      <td>4</td>\n",
       "      <td>38.547058</td>\n",
       "      <td>0.8</td>\n",
       "      <td>Low</td>\n",
       "      <td>30</td>\n",
       "      <td>46-60</td>\n",
       "      <td>209</td>\n",
       "      <td>0.076997</td>\n",
       "      <td>453</td>\n",
       "    </tr>\n",
       "    <tr>\n",
       "      <th>4</th>\n",
       "      <td>5</td>\n",
       "      <td>42.952826</td>\n",
       "      <td>1.2</td>\n",
       "      <td>Low</td>\n",
       "      <td>37</td>\n",
       "      <td>26-35</td>\n",
       "      <td>192</td>\n",
       "      <td>0.010529</td>\n",
       "      <td>265</td>\n",
       "    </tr>\n",
       "  </tbody>\n",
       "</table>\n",
       "</div>"
      ],
      "text/plain": [
       "   id  customer_behavior  market_trends seasonal_fluctuations  \\\n",
       "0   1          54.324590            1.2                  High   \n",
       "1   2          33.448665            0.8                  High   \n",
       "2   3          66.118228            1.0                Medium   \n",
       "3   4          38.547058            0.8                   Low   \n",
       "4   5          42.952826            1.2                   Low   \n",
       "\n",
       "   product_availability customer_demographics  website_traffic  \\\n",
       "0                    80                 36-45              200   \n",
       "1                    32                 26-35              194   \n",
       "2                    54                 36-45              191   \n",
       "3                    30                 46-60              209   \n",
       "4                    37                 26-35              192   \n",
       "\n",
       "   engagement_rate  sales_forecast  \n",
       "0         0.016666              95  \n",
       "1         0.048364             486  \n",
       "2         0.038420             268  \n",
       "3         0.076997             453  \n",
       "4         0.010529             265  "
      ]
     },
     "execution_count": 32,
     "metadata": {},
     "output_type": "execute_result"
    }
   ],
   "source": [
    "import psycopg2\n",
    "import pandas as pd\n",
    "\n",
    "# Define connection parameters\n",
    "conn = psycopg2.connect(\n",
    "    host=\"localhost\",\n",
    "    port=\"5432\",\n",
    "    database=\"website_data\",\n",
    "    user=\"postgres\",\n",
    "    password=\"Shane223@@\"\n",
    ")\n",
    "\n",
    "# Query and load into DataFrame\n",
    "query = \"SELECT * FROM website_data;\"\n",
    "df = pd.read_sql_query(query, conn)\n",
    "\n",
    "# Close connection\n",
    "conn.close()\n",
    "\n",
    "# Preview data\n",
    "df.head()"
   ]
  },
  {
   "cell_type": "code",
   "execution_count": 33,
   "id": "12253e8d",
   "metadata": {},
   "outputs": [],
   "source": [
    "#save the sql query script to a file\n",
    "with open('website_data_query.sql', 'w') as file:\n",
    "    file.write(query)\n",
    "\n",
    "# Save the DataFrame to a CSV file\n",
    "df.to_csv('website_data.csv', index=False)"
   ]
  },
  {
   "cell_type": "markdown",
   "id": "321652de",
   "metadata": {},
   "source": [
    "# Data Cleaning and Preparation"
   ]
  },
  {
   "cell_type": "code",
   "execution_count": 34,
   "id": "563698ec",
   "metadata": {},
   "outputs": [],
   "source": [
    "#imort necessary libraries\n",
    "import pandas as pd\n",
    "import numpy as np\n",
    "import matplotlib.pyplot as plt\n",
    "import seaborn as sns\n",
    "import plotly.express as px\n",
    "import plotly.graph_objects as go\n",
    "from sklearn.preprocessing import StandardScaler"
   ]
  },
  {
   "cell_type": "code",
   "execution_count": 35,
   "id": "8214f8ac",
   "metadata": {},
   "outputs": [
    {
     "data": {
      "text/html": [
       "<div>\n",
       "<style scoped>\n",
       "    .dataframe tbody tr th:only-of-type {\n",
       "        vertical-align: middle;\n",
       "    }\n",
       "\n",
       "    .dataframe tbody tr th {\n",
       "        vertical-align: top;\n",
       "    }\n",
       "\n",
       "    .dataframe thead th {\n",
       "        text-align: right;\n",
       "    }\n",
       "</style>\n",
       "<table border=\"1\" class=\"dataframe\">\n",
       "  <thead>\n",
       "    <tr style=\"text-align: right;\">\n",
       "      <th></th>\n",
       "      <th>id</th>\n",
       "      <th>customer_behavior</th>\n",
       "      <th>market_trends</th>\n",
       "      <th>seasonal_fluctuations</th>\n",
       "      <th>product_availability</th>\n",
       "      <th>customer_demographics</th>\n",
       "      <th>website_traffic</th>\n",
       "      <th>engagement_rate</th>\n",
       "      <th>sales_forecast</th>\n",
       "    </tr>\n",
       "  </thead>\n",
       "  <tbody>\n",
       "    <tr>\n",
       "      <th>0</th>\n",
       "      <td>1</td>\n",
       "      <td>54.324590</td>\n",
       "      <td>1.2</td>\n",
       "      <td>High</td>\n",
       "      <td>80</td>\n",
       "      <td>36-45</td>\n",
       "      <td>200</td>\n",
       "      <td>0.016666</td>\n",
       "      <td>95</td>\n",
       "    </tr>\n",
       "    <tr>\n",
       "      <th>1</th>\n",
       "      <td>2</td>\n",
       "      <td>33.448665</td>\n",
       "      <td>0.8</td>\n",
       "      <td>High</td>\n",
       "      <td>32</td>\n",
       "      <td>26-35</td>\n",
       "      <td>194</td>\n",
       "      <td>0.048364</td>\n",
       "      <td>486</td>\n",
       "    </tr>\n",
       "    <tr>\n",
       "      <th>2</th>\n",
       "      <td>3</td>\n",
       "      <td>66.118228</td>\n",
       "      <td>1.0</td>\n",
       "      <td>Medium</td>\n",
       "      <td>54</td>\n",
       "      <td>36-45</td>\n",
       "      <td>191</td>\n",
       "      <td>0.038420</td>\n",
       "      <td>268</td>\n",
       "    </tr>\n",
       "    <tr>\n",
       "      <th>3</th>\n",
       "      <td>4</td>\n",
       "      <td>38.547058</td>\n",
       "      <td>0.8</td>\n",
       "      <td>Low</td>\n",
       "      <td>30</td>\n",
       "      <td>46-60</td>\n",
       "      <td>209</td>\n",
       "      <td>0.076997</td>\n",
       "      <td>453</td>\n",
       "    </tr>\n",
       "    <tr>\n",
       "      <th>4</th>\n",
       "      <td>5</td>\n",
       "      <td>42.952826</td>\n",
       "      <td>1.2</td>\n",
       "      <td>Low</td>\n",
       "      <td>37</td>\n",
       "      <td>26-35</td>\n",
       "      <td>192</td>\n",
       "      <td>0.010529</td>\n",
       "      <td>265</td>\n",
       "    </tr>\n",
       "  </tbody>\n",
       "</table>\n",
       "</div>"
      ],
      "text/plain": [
       "   id  customer_behavior  market_trends seasonal_fluctuations  \\\n",
       "0   1          54.324590            1.2                  High   \n",
       "1   2          33.448665            0.8                  High   \n",
       "2   3          66.118228            1.0                Medium   \n",
       "3   4          38.547058            0.8                   Low   \n",
       "4   5          42.952826            1.2                   Low   \n",
       "\n",
       "   product_availability customer_demographics  website_traffic  \\\n",
       "0                    80                 36-45              200   \n",
       "1                    32                 26-35              194   \n",
       "2                    54                 36-45              191   \n",
       "3                    30                 46-60              209   \n",
       "4                    37                 26-35              192   \n",
       "\n",
       "   engagement_rate  sales_forecast  \n",
       "0         0.016666              95  \n",
       "1         0.048364             486  \n",
       "2         0.038420             268  \n",
       "3         0.076997             453  \n",
       "4         0.010529             265  "
      ]
     },
     "execution_count": 35,
     "metadata": {},
     "output_type": "execute_result"
    }
   ],
   "source": [
    "# load the dataset\n",
    "def load_data(filepath):\n",
    "    df = pd.read_csv(filepath)\n",
    "    return df.head()\n",
    "\n",
    "load_data(r\"C:\\Users\\Rebecca\\Desktop\\Marketing trends analysis\\website_data.csv\")"
   ]
  },
  {
   "cell_type": "code",
   "execution_count": 36,
   "id": "3ca31bc5",
   "metadata": {},
   "outputs": [
    {
     "name": "stdout",
     "output_type": "stream",
     "text": [
      "Data Types:\n",
      "id                         int64\n",
      "customer_behavior        float64\n",
      "market_trends            float64\n",
      "seasonal_fluctuations     object\n",
      "product_availability       int64\n",
      "customer_demographics     object\n",
      "website_traffic            int64\n",
      "engagement_rate          float64\n",
      "sales_forecast             int64\n",
      "dtype: object\n",
      "\n",
      "Null Values:\n",
      "id                       0\n",
      "customer_behavior        0\n",
      "market_trends            0\n",
      "seasonal_fluctuations    0\n",
      "product_availability     0\n",
      "customer_demographics    0\n",
      "website_traffic          0\n",
      "engagement_rate          0\n",
      "sales_forecast           0\n",
      "dtype: int64\n"
     ]
    }
   ],
   "source": [
    "#check the data types and null values\n",
    "def check_data_types(df):\n",
    "    print(\"Data Types:\")\n",
    "    print(df.dtypes)\n",
    "    print(\"\\nNull Values:\")\n",
    "    print(df.isnull().sum())\n",
    "check_data_types(df)"
   ]
  },
  {
   "cell_type": "code",
   "execution_count": 37,
   "id": "2ffa221b",
   "metadata": {},
   "outputs": [
    {
     "name": "stdout",
     "output_type": "stream",
     "text": [
      "Number of duplicate rows: 0\n"
     ]
    },
    {
     "data": {
      "text/plain": [
       "0"
      ]
     },
     "execution_count": 37,
     "metadata": {},
     "output_type": "execute_result"
    }
   ],
   "source": [
    "#check for duplicates\n",
    "def check_duplicates(df):\n",
    "    duplicates = df.duplicated().sum()\n",
    "    print(f\"Number of duplicate rows: {duplicates}\")\n",
    "    return duplicates\n",
    "check_duplicates(df)"
   ]
  },
  {
   "cell_type": "code",
   "execution_count": 38,
   "id": "7c246cc1",
   "metadata": {},
   "outputs": [
    {
     "name": "stdout",
     "output_type": "stream",
     "text": [
      "Cleaned data saved to C:\\Users\\Rebecca\\Desktop\\Marketing trends analysis\\cleaned_website_data.csv\n"
     ]
    }
   ],
   "source": [
    "#save cleaned data to a new CSV file\n",
    "def save_cleaned_data(df, filepath):\n",
    "    df.to_csv(filepath, index=False)\n",
    "    print(f\"Cleaned data saved to {filepath}\")\n",
    "save_cleaned_data(df, r\"C:\\Users\\Rebecca\\Desktop\\Marketing trends analysis\\cleaned_website_data.csv\")"
   ]
  },
  {
   "cell_type": "markdown",
   "id": "941f316e",
   "metadata": {},
   "source": [
    "# Exploritory Data Analysis"
   ]
  },
  {
   "cell_type": "code",
   "execution_count": 39,
   "id": "b53464e5",
   "metadata": {},
   "outputs": [
    {
     "data": {
      "application/vnd.plotly.v1+json": {
       "config": {
        "plotlyServerURL": "https://plot.ly"
       },
       "data": [
        {
         "alignmentgroup": "True",
         "bingroup": "x",
         "hovertemplate": "website_traffic=%{x}<br>count=%{y}<extra></extra>",
         "legendgroup": "",
         "marker": {
          "color": "#636efa",
          "pattern": {
           "shape": ""
          }
         },
         "name": "",
         "offsetgroup": "",
         "orientation": "v",
         "showlegend": false,
         "type": "histogram",
         "x": [
          200,
          194,
          191,
          209,
          192,
          235,
          196,
          214,
          197,
          218,
          206,
          193,
          196,
          206,
          212,
          188,
          189,
          207,
          202,
          221,
          188,
          199,
          214,
          207,
          201,
          188,
          202,
          204,
          208,
          201,
          192,
          201,
          216,
          178,
          198,
          200,
          212,
          201,
          185,
          189,
          206,
          223,
          197,
          193,
          221,
          180,
          161,
          193,
          213,
          192,
          211,
          204,
          205,
          173,
          204,
          200,
          218,
          198,
          216,
          219,
          213,
          202,
          217,
          194,
          225,
          198,
          218,
          189,
          181,
          214,
          199,
          192,
          178,
          230,
          211,
          201,
          204,
          200,
          212,
          189,
          167,
          200,
          198,
          206,
          198,
          194,
          189,
          208,
          205,
          208,
          216,
          204,
          208,
          198,
          195,
          230,
          199,
          208,
          198,
          193,
          213,
          185,
          190,
          192,
          210,
          187,
          195,
          212,
          203,
          223,
          192,
          196,
          189,
          193,
          191,
          172,
          207,
          207,
          192,
          185,
          212,
          165,
          200,
          200,
          197,
          187,
          197,
          195,
          199,
          195,
          198,
          179,
          196,
          200,
          223,
          197,
          207,
          194,
          196,
          192,
          204,
          176,
          191,
          231,
          209,
          198,
          197,
          196,
          202,
          206,
          189,
          199,
          192,
          211,
          188,
          180,
          191,
          199,
          217,
          199,
          207,
          224,
          204,
          188,
          199,
          209,
          200,
          176,
          187,
          239,
          204,
          200,
          205,
          177,
          209,
          206,
          208,
          179,
          216,
          227,
          199,
          211,
          198,
          203,
          220,
          201,
          190,
          160,
          212,
          189,
          203,
          208,
          193,
          194,
          204,
          192,
          165,
          205,
          203,
          220,
          187,
          208,
          201,
          206,
          229,
          210,
          192,
          226,
          192,
          218,
          197,
          211,
          194,
          184,
          169,
          195,
          206,
          192,
          205,
          200,
          205,
          202,
          217,
          207,
          168,
          199,
          188,
          198,
          209,
          216,
          224,
          213,
          208,
          205,
          228,
          246,
          189,
          213,
          222,
          222,
          195,
          201,
          213,
          218,
          195,
          227,
          188,
          211,
          189,
          198,
          186,
          220,
          203,
          212,
          168,
          185,
          207,
          195,
          208,
          207,
          222,
          215,
          205,
          220,
          219,
          200,
          188,
          194,
          210,
          184,
          204,
          198,
          228,
          203,
          197,
          187,
          214,
          194,
          206,
          171,
          192,
          192,
          226,
          198,
          187,
          185,
          207,
          186,
          218,
          189,
          184,
          195,
          217,
          228,
          194,
          205,
          191,
          200,
          186,
          188,
          216,
          210,
          207,
          218,
          206,
          200,
          184,
          179,
          189,
          192,
          192,
          203,
          182,
          179,
          185,
          201,
          205,
          195,
          203,
          212,
          177,
          199,
          181,
          214,
          192,
          190,
          227,
          221,
          186,
          213,
          178,
          199,
          205,
          188,
          199,
          173,
          199,
          205,
          199,
          186,
          194,
          197,
          197,
          189,
          193,
          203,
          200,
          237,
          222,
          218,
          202,
          187,
          200,
          192,
          202,
          211,
          205,
          195,
          191,
          205,
          173,
          211,
          188,
          221,
          221,
          181,
          209,
          191,
          210,
          191,
          226,
          203,
          208,
          168,
          198,
          200,
          208,
          194,
          191,
          229,
          204,
          199,
          192,
          199,
          204,
          180,
          217,
          199,
          181,
          222,
          197,
          201,
          219,
          206,
          188,
          185,
          203,
          180,
          202,
          192,
          172,
          193,
          208,
          211,
          232,
          219,
          196,
          203,
          173,
          222,
          188,
          211,
          188,
          225,
          196,
          189,
          205,
          185,
          204,
          218,
          187,
          233,
          188,
          245,
          207,
          189,
          183,
          196,
          224,
          188,
          214,
          200,
          205,
          198,
          196,
          202,
          201,
          192,
          208,
          211,
          194,
          195,
          190,
          182,
          181,
          210,
          203,
          221,
          195,
          215,
          207,
          173,
          192,
          192,
          195,
          214,
          198,
          209,
          175,
          217,
          194,
          196,
          218,
          186,
          185,
          205,
          200,
          198,
          189,
          183,
          207,
          206,
          206,
          221,
          216,
          210,
          174,
          194,
          180,
          191,
          165,
          230,
          205,
          196,
          207,
          207,
          194,
          210,
          197,
          211,
          188,
          169,
          183,
          204,
          198,
          195,
          200,
          193,
          219,
          197,
          212,
          188,
          210,
          208,
          206,
          190,
          226,
          180,
          199,
          217,
          199,
          186,
          201,
          195,
          197,
          203,
          205,
          197,
          205,
          208,
          216,
          217,
          212,
          220,
          174,
          203,
          199,
          169,
          196,
          185,
          199,
          217,
          181,
          191,
          202,
          193,
          207,
          187,
          202,
          191,
          222,
          187,
          218,
          199,
          191,
          215,
          188,
          214,
          200,
          204,
          202,
          209,
          190,
          192,
          192,
          212,
          210,
          221,
          173,
          223,
          201,
          192,
          252,
          220,
          198,
          190,
          191,
          180,
          193,
          204,
          205,
          191,
          225,
          210,
          188,
          188,
          224,
          196,
          176,
          180,
          192,
          190,
          192,
          234,
          219,
          179,
          192,
          203,
          172,
          190,
          209,
          201,
          200,
          203,
          216,
          199,
          202,
          229,
          205,
          205,
          216,
          204,
          198,
          210,
          217,
          189,
          209,
          239,
          199,
          209,
          209,
          181,
          187,
          206,
          181,
          214,
          206,
          216,
          203,
          207,
          193,
          171,
          192,
          194,
          197,
          198,
          200,
          228,
          196,
          188,
          193,
          220,
          194,
          195,
          171,
          210,
          198,
          196,
          201,
          188,
          203,
          203,
          223,
          217,
          180,
          174,
          191,
          211,
          230,
          202,
          190,
          226,
          197,
          196,
          177,
          195,
          227,
          208,
          171,
          185,
          203,
          194,
          221,
          191,
          200,
          169,
          229,
          209,
          211,
          207,
          208,
          191,
          200,
          179,
          197,
          182,
          204,
          198,
          225,
          204,
          203,
          215,
          182,
          173,
          191,
          213,
          206,
          214,
          189,
          184,
          192,
          203,
          169,
          206,
          208,
          210,
          207,
          196,
          211,
          224,
          198,
          205,
          200,
          202,
          197,
          205,
          191,
          184,
          211,
          201,
          206,
          185,
          213,
          182,
          198,
          208,
          214,
          190,
          230,
          199,
          194,
          182,
          201,
          189,
          205,
          192,
          196,
          185,
          201,
          208,
          189,
          198,
          203,
          205,
          201,
          192,
          229,
          202,
          211,
          218,
          238,
          204,
          186,
          215,
          214,
          180,
          212,
          193,
          178,
          197,
          207,
          190,
          171,
          206,
          188,
          186,
          200,
          223,
          193,
          183,
          201,
          218,
          197,
          207,
          195,
          203,
          242,
          184,
          208,
          190,
          191,
          211,
          190,
          193,
          211,
          187,
          188,
          204,
          210,
          203,
          210,
          189,
          207,
          206,
          224,
          193,
          211,
          165,
          208,
          208,
          207,
          211,
          184,
          170,
          214,
          183,
          190,
          194,
          197,
          187,
          196,
          188,
          193,
          209,
          207,
          203,
          227,
          216,
          191,
          195,
          201,
          216,
          184,
          211,
          193,
          209,
          197,
          222,
          207,
          183,
          210,
          184,
          188,
          199,
          213,
          178,
          181,
          233,
          205,
          201,
          184,
          192,
          195,
          195,
          216,
          198,
          177,
          200,
          193,
          176,
          196,
          216,
          210,
          195,
          210,
          219,
          207,
          190,
          208,
          198,
          193,
          191,
          228,
          203,
          198,
          199,
          209,
          193,
          183,
          192,
          184,
          197,
          199,
          205,
          190,
          182,
          171,
          172,
          212,
          233,
          189,
          197,
          192,
          209,
          215,
          222,
          193,
          191,
          192,
          182,
          205,
          199,
          201,
          183,
          207,
          227,
          200,
          178,
          213,
          202,
          196,
          189,
          211,
          200,
          235,
          195,
          194,
          194,
          194,
          180,
          207,
          224,
          200,
          189,
          187,
          198,
          201,
          225,
          194,
          208,
          184,
          205,
          224,
          205,
          196,
          195,
          212,
          195,
          189,
          200,
          202,
          204,
          188,
          222,
          206,
          217,
          201,
          213,
          209,
          203,
          198,
          198,
          199,
          210,
          166,
          209,
          221,
          212,
          213,
          186,
          209,
          210,
          217,
          199,
          223,
          231,
          200,
          208,
          176,
          189,
          193,
          189,
          232,
          202,
          191,
          214,
          214,
          171,
          177,
          178,
          192,
          209,
          210,
          203,
          194,
          189,
          196,
          204,
          194,
          196,
          216,
          227,
          204,
          198,
          193,
          197,
          180,
          201,
          209,
          201,
          177,
          180,
          202,
          210,
          189,
          193,
          193,
          179,
          206,
          205,
          208,
          207,
          192,
          184,
          214,
          200,
          195,
          195,
          224,
          207
         ],
         "xaxis": "x",
         "yaxis": "y"
        }
       ],
       "layout": {
        "barmode": "relative",
        "legend": {
         "tracegroupgap": 0
        },
        "template": {
         "data": {
          "bar": [
           {
            "error_x": {
             "color": "#2a3f5f"
            },
            "error_y": {
             "color": "#2a3f5f"
            },
            "marker": {
             "line": {
              "color": "#E5ECF6",
              "width": 0.5
             },
             "pattern": {
              "fillmode": "overlay",
              "size": 10,
              "solidity": 0.2
             }
            },
            "type": "bar"
           }
          ],
          "barpolar": [
           {
            "marker": {
             "line": {
              "color": "#E5ECF6",
              "width": 0.5
             },
             "pattern": {
              "fillmode": "overlay",
              "size": 10,
              "solidity": 0.2
             }
            },
            "type": "barpolar"
           }
          ],
          "carpet": [
           {
            "aaxis": {
             "endlinecolor": "#2a3f5f",
             "gridcolor": "white",
             "linecolor": "white",
             "minorgridcolor": "white",
             "startlinecolor": "#2a3f5f"
            },
            "baxis": {
             "endlinecolor": "#2a3f5f",
             "gridcolor": "white",
             "linecolor": "white",
             "minorgridcolor": "white",
             "startlinecolor": "#2a3f5f"
            },
            "type": "carpet"
           }
          ],
          "choropleth": [
           {
            "colorbar": {
             "outlinewidth": 0,
             "ticks": ""
            },
            "type": "choropleth"
           }
          ],
          "contour": [
           {
            "colorbar": {
             "outlinewidth": 0,
             "ticks": ""
            },
            "colorscale": [
             [
              0,
              "#0d0887"
             ],
             [
              0.1111111111111111,
              "#46039f"
             ],
             [
              0.2222222222222222,
              "#7201a8"
             ],
             [
              0.3333333333333333,
              "#9c179e"
             ],
             [
              0.4444444444444444,
              "#bd3786"
             ],
             [
              0.5555555555555556,
              "#d8576b"
             ],
             [
              0.6666666666666666,
              "#ed7953"
             ],
             [
              0.7777777777777778,
              "#fb9f3a"
             ],
             [
              0.8888888888888888,
              "#fdca26"
             ],
             [
              1,
              "#f0f921"
             ]
            ],
            "type": "contour"
           }
          ],
          "contourcarpet": [
           {
            "colorbar": {
             "outlinewidth": 0,
             "ticks": ""
            },
            "type": "contourcarpet"
           }
          ],
          "heatmap": [
           {
            "colorbar": {
             "outlinewidth": 0,
             "ticks": ""
            },
            "colorscale": [
             [
              0,
              "#0d0887"
             ],
             [
              0.1111111111111111,
              "#46039f"
             ],
             [
              0.2222222222222222,
              "#7201a8"
             ],
             [
              0.3333333333333333,
              "#9c179e"
             ],
             [
              0.4444444444444444,
              "#bd3786"
             ],
             [
              0.5555555555555556,
              "#d8576b"
             ],
             [
              0.6666666666666666,
              "#ed7953"
             ],
             [
              0.7777777777777778,
              "#fb9f3a"
             ],
             [
              0.8888888888888888,
              "#fdca26"
             ],
             [
              1,
              "#f0f921"
             ]
            ],
            "type": "heatmap"
           }
          ],
          "heatmapgl": [
           {
            "colorbar": {
             "outlinewidth": 0,
             "ticks": ""
            },
            "colorscale": [
             [
              0,
              "#0d0887"
             ],
             [
              0.1111111111111111,
              "#46039f"
             ],
             [
              0.2222222222222222,
              "#7201a8"
             ],
             [
              0.3333333333333333,
              "#9c179e"
             ],
             [
              0.4444444444444444,
              "#bd3786"
             ],
             [
              0.5555555555555556,
              "#d8576b"
             ],
             [
              0.6666666666666666,
              "#ed7953"
             ],
             [
              0.7777777777777778,
              "#fb9f3a"
             ],
             [
              0.8888888888888888,
              "#fdca26"
             ],
             [
              1,
              "#f0f921"
             ]
            ],
            "type": "heatmapgl"
           }
          ],
          "histogram": [
           {
            "marker": {
             "pattern": {
              "fillmode": "overlay",
              "size": 10,
              "solidity": 0.2
             }
            },
            "type": "histogram"
           }
          ],
          "histogram2d": [
           {
            "colorbar": {
             "outlinewidth": 0,
             "ticks": ""
            },
            "colorscale": [
             [
              0,
              "#0d0887"
             ],
             [
              0.1111111111111111,
              "#46039f"
             ],
             [
              0.2222222222222222,
              "#7201a8"
             ],
             [
              0.3333333333333333,
              "#9c179e"
             ],
             [
              0.4444444444444444,
              "#bd3786"
             ],
             [
              0.5555555555555556,
              "#d8576b"
             ],
             [
              0.6666666666666666,
              "#ed7953"
             ],
             [
              0.7777777777777778,
              "#fb9f3a"
             ],
             [
              0.8888888888888888,
              "#fdca26"
             ],
             [
              1,
              "#f0f921"
             ]
            ],
            "type": "histogram2d"
           }
          ],
          "histogram2dcontour": [
           {
            "colorbar": {
             "outlinewidth": 0,
             "ticks": ""
            },
            "colorscale": [
             [
              0,
              "#0d0887"
             ],
             [
              0.1111111111111111,
              "#46039f"
             ],
             [
              0.2222222222222222,
              "#7201a8"
             ],
             [
              0.3333333333333333,
              "#9c179e"
             ],
             [
              0.4444444444444444,
              "#bd3786"
             ],
             [
              0.5555555555555556,
              "#d8576b"
             ],
             [
              0.6666666666666666,
              "#ed7953"
             ],
             [
              0.7777777777777778,
              "#fb9f3a"
             ],
             [
              0.8888888888888888,
              "#fdca26"
             ],
             [
              1,
              "#f0f921"
             ]
            ],
            "type": "histogram2dcontour"
           }
          ],
          "mesh3d": [
           {
            "colorbar": {
             "outlinewidth": 0,
             "ticks": ""
            },
            "type": "mesh3d"
           }
          ],
          "parcoords": [
           {
            "line": {
             "colorbar": {
              "outlinewidth": 0,
              "ticks": ""
             }
            },
            "type": "parcoords"
           }
          ],
          "pie": [
           {
            "automargin": true,
            "type": "pie"
           }
          ],
          "scatter": [
           {
            "fillpattern": {
             "fillmode": "overlay",
             "size": 10,
             "solidity": 0.2
            },
            "type": "scatter"
           }
          ],
          "scatter3d": [
           {
            "line": {
             "colorbar": {
              "outlinewidth": 0,
              "ticks": ""
             }
            },
            "marker": {
             "colorbar": {
              "outlinewidth": 0,
              "ticks": ""
             }
            },
            "type": "scatter3d"
           }
          ],
          "scattercarpet": [
           {
            "marker": {
             "colorbar": {
              "outlinewidth": 0,
              "ticks": ""
             }
            },
            "type": "scattercarpet"
           }
          ],
          "scattergeo": [
           {
            "marker": {
             "colorbar": {
              "outlinewidth": 0,
              "ticks": ""
             }
            },
            "type": "scattergeo"
           }
          ],
          "scattergl": [
           {
            "marker": {
             "colorbar": {
              "outlinewidth": 0,
              "ticks": ""
             }
            },
            "type": "scattergl"
           }
          ],
          "scattermapbox": [
           {
            "marker": {
             "colorbar": {
              "outlinewidth": 0,
              "ticks": ""
             }
            },
            "type": "scattermapbox"
           }
          ],
          "scatterpolar": [
           {
            "marker": {
             "colorbar": {
              "outlinewidth": 0,
              "ticks": ""
             }
            },
            "type": "scatterpolar"
           }
          ],
          "scatterpolargl": [
           {
            "marker": {
             "colorbar": {
              "outlinewidth": 0,
              "ticks": ""
             }
            },
            "type": "scatterpolargl"
           }
          ],
          "scatterternary": [
           {
            "marker": {
             "colorbar": {
              "outlinewidth": 0,
              "ticks": ""
             }
            },
            "type": "scatterternary"
           }
          ],
          "surface": [
           {
            "colorbar": {
             "outlinewidth": 0,
             "ticks": ""
            },
            "colorscale": [
             [
              0,
              "#0d0887"
             ],
             [
              0.1111111111111111,
              "#46039f"
             ],
             [
              0.2222222222222222,
              "#7201a8"
             ],
             [
              0.3333333333333333,
              "#9c179e"
             ],
             [
              0.4444444444444444,
              "#bd3786"
             ],
             [
              0.5555555555555556,
              "#d8576b"
             ],
             [
              0.6666666666666666,
              "#ed7953"
             ],
             [
              0.7777777777777778,
              "#fb9f3a"
             ],
             [
              0.8888888888888888,
              "#fdca26"
             ],
             [
              1,
              "#f0f921"
             ]
            ],
            "type": "surface"
           }
          ],
          "table": [
           {
            "cells": {
             "fill": {
              "color": "#EBF0F8"
             },
             "line": {
              "color": "white"
             }
            },
            "header": {
             "fill": {
              "color": "#C8D4E3"
             },
             "line": {
              "color": "white"
             }
            },
            "type": "table"
           }
          ]
         },
         "layout": {
          "annotationdefaults": {
           "arrowcolor": "#2a3f5f",
           "arrowhead": 0,
           "arrowwidth": 1
          },
          "autotypenumbers": "strict",
          "coloraxis": {
           "colorbar": {
            "outlinewidth": 0,
            "ticks": ""
           }
          },
          "colorscale": {
           "diverging": [
            [
             0,
             "#8e0152"
            ],
            [
             0.1,
             "#c51b7d"
            ],
            [
             0.2,
             "#de77ae"
            ],
            [
             0.3,
             "#f1b6da"
            ],
            [
             0.4,
             "#fde0ef"
            ],
            [
             0.5,
             "#f7f7f7"
            ],
            [
             0.6,
             "#e6f5d0"
            ],
            [
             0.7,
             "#b8e186"
            ],
            [
             0.8,
             "#7fbc41"
            ],
            [
             0.9,
             "#4d9221"
            ],
            [
             1,
             "#276419"
            ]
           ],
           "sequential": [
            [
             0,
             "#0d0887"
            ],
            [
             0.1111111111111111,
             "#46039f"
            ],
            [
             0.2222222222222222,
             "#7201a8"
            ],
            [
             0.3333333333333333,
             "#9c179e"
            ],
            [
             0.4444444444444444,
             "#bd3786"
            ],
            [
             0.5555555555555556,
             "#d8576b"
            ],
            [
             0.6666666666666666,
             "#ed7953"
            ],
            [
             0.7777777777777778,
             "#fb9f3a"
            ],
            [
             0.8888888888888888,
             "#fdca26"
            ],
            [
             1,
             "#f0f921"
            ]
           ],
           "sequentialminus": [
            [
             0,
             "#0d0887"
            ],
            [
             0.1111111111111111,
             "#46039f"
            ],
            [
             0.2222222222222222,
             "#7201a8"
            ],
            [
             0.3333333333333333,
             "#9c179e"
            ],
            [
             0.4444444444444444,
             "#bd3786"
            ],
            [
             0.5555555555555556,
             "#d8576b"
            ],
            [
             0.6666666666666666,
             "#ed7953"
            ],
            [
             0.7777777777777778,
             "#fb9f3a"
            ],
            [
             0.8888888888888888,
             "#fdca26"
            ],
            [
             1,
             "#f0f921"
            ]
           ]
          },
          "colorway": [
           "#636efa",
           "#EF553B",
           "#00cc96",
           "#ab63fa",
           "#FFA15A",
           "#19d3f3",
           "#FF6692",
           "#B6E880",
           "#FF97FF",
           "#FECB52"
          ],
          "font": {
           "color": "#2a3f5f"
          },
          "geo": {
           "bgcolor": "white",
           "lakecolor": "white",
           "landcolor": "#E5ECF6",
           "showlakes": true,
           "showland": true,
           "subunitcolor": "white"
          },
          "hoverlabel": {
           "align": "left"
          },
          "hovermode": "closest",
          "mapbox": {
           "style": "light"
          },
          "paper_bgcolor": "white",
          "plot_bgcolor": "#E5ECF6",
          "polar": {
           "angularaxis": {
            "gridcolor": "white",
            "linecolor": "white",
            "ticks": ""
           },
           "bgcolor": "#E5ECF6",
           "radialaxis": {
            "gridcolor": "white",
            "linecolor": "white",
            "ticks": ""
           }
          },
          "scene": {
           "xaxis": {
            "backgroundcolor": "#E5ECF6",
            "gridcolor": "white",
            "gridwidth": 2,
            "linecolor": "white",
            "showbackground": true,
            "ticks": "",
            "zerolinecolor": "white"
           },
           "yaxis": {
            "backgroundcolor": "#E5ECF6",
            "gridcolor": "white",
            "gridwidth": 2,
            "linecolor": "white",
            "showbackground": true,
            "ticks": "",
            "zerolinecolor": "white"
           },
           "zaxis": {
            "backgroundcolor": "#E5ECF6",
            "gridcolor": "white",
            "gridwidth": 2,
            "linecolor": "white",
            "showbackground": true,
            "ticks": "",
            "zerolinecolor": "white"
           }
          },
          "shapedefaults": {
           "line": {
            "color": "#2a3f5f"
           }
          },
          "ternary": {
           "aaxis": {
            "gridcolor": "white",
            "linecolor": "white",
            "ticks": ""
           },
           "baxis": {
            "gridcolor": "white",
            "linecolor": "white",
            "ticks": ""
           },
           "bgcolor": "#E5ECF6",
           "caxis": {
            "gridcolor": "white",
            "linecolor": "white",
            "ticks": ""
           }
          },
          "title": {
           "x": 0.05
          },
          "xaxis": {
           "automargin": true,
           "gridcolor": "white",
           "linecolor": "white",
           "ticks": "",
           "title": {
            "standoff": 15
           },
           "zerolinecolor": "white",
           "zerolinewidth": 2
          },
          "yaxis": {
           "automargin": true,
           "gridcolor": "white",
           "linecolor": "white",
           "ticks": "",
           "title": {
            "standoff": 15
           },
           "zerolinecolor": "white",
           "zerolinewidth": 2
          }
         }
        },
        "title": {
         "text": "Website Traffic Distribution"
        },
        "xaxis": {
         "anchor": "y",
         "domain": [
          0,
          1
         ],
         "title": {
          "text": "Website Traffic"
         }
        },
        "yaxis": {
         "anchor": "x",
         "domain": [
          0,
          1
         ],
         "title": {
          "text": "Frequency"
         }
        }
       }
      }
     },
     "metadata": {},
     "output_type": "display_data"
    }
   ],
   "source": [
    "# histogram for website traffic using plotly \n",
    "def plot_website_traffic(df):\n",
    "    fig = px.histogram(df, x='website_traffic', title='Website Traffic Distribution')\n",
    "    fig.update_layout(xaxis_title='Website Traffic', yaxis_title='Frequency')\n",
    "    fig.show()\n",
    "plot_website_traffic(df)"
   ]
  },
  {
   "cell_type": "markdown",
   "id": "9104f32a",
   "metadata": {},
   "source": [
    "insight: the figure shows a flat tailed distribution , which means there are outliers "
   ]
  },
  {
   "cell_type": "code",
   "execution_count": 40,
   "id": "deddd775",
   "metadata": {},
   "outputs": [
    {
     "data": {
      "application/vnd.plotly.v1+json": {
       "config": {
        "plotlyServerURL": "https://plot.ly"
       },
       "data": [
        {
         "alignmentgroup": "True",
         "bingroup": "x",
         "hovertemplate": "engagement_rate=%{x}<br>count=%{y}<extra></extra>",
         "legendgroup": "",
         "marker": {
          "color": "#636efa",
          "pattern": {
           "shape": ""
          }
         },
         "name": "",
         "offsetgroup": "",
         "orientation": "v",
         "showlegend": false,
         "type": "histogram",
         "x": [
          0.01666550627134195,
          0.0483644404282401,
          0.038419934155662354,
          0.07699708375161039,
          0.010528958245765089,
          0.020537831708010518,
          0.0900645970564657,
          0.07071101566621255,
          0.05775836681679041,
          0.027607399169078464,
          0.06066538956250592,
          0.06553636472384984,
          0.052558086620075536,
          0.0794111913573507,
          0.0957815868463175,
          0.02556069895694573,
          0.0787181845299401,
          0.09003677038319076,
          0.08286190800664107,
          0.06582699434578347,
          0.08939276373528719,
          0.03469923716323503,
          0.01188071849943035,
          0.026086549274762644,
          0.017013749860475134,
          0.03661637141604915,
          0.01577838146626105,
          0.03298694918581856,
          0.06689981298842838,
          0.038960578503024146,
          0.08513071548058189,
          0.059816159385262524,
          0.07387224418954158,
          0.06549436463292994,
          0.0946551174339818,
          0.03200393712666717,
          0.022149975146078534,
          0.03866509705020849,
          0.028683987035686753,
          0.036973763774479355,
          0.07135278036857488,
          0.09382401404649529,
          0.041553194915509926,
          0.011249128390482255,
          0.0908844806729873,
          0.0784214511874415,
          0.07487275656888907,
          0.042765803664417845,
          0.0616817756746647,
          0.012022011219955511,
          0.08135487468598561,
          0.0803267894205241,
          0.01427728414156466,
          0.02114467293857082,
          0.09800349160139199,
          0.06266186789003161,
          0.026227930123601494,
          0.08131197132524949,
          0.029430920489916267,
          0.08505424661210363,
          0.08953601714013523,
          0.07063620827923166,
          0.08035350613746944,
          0.09792878335774659,
          0.011103311145537897,
          0.06956210330778353,
          0.07579688538858666,
          0.02563197721494001,
          0.019554284108963427,
          0.03601889906418043,
          0.06349344204530101,
          0.09503318092103033,
          0.02354823703274403,
          0.010254898759024689,
          0.08956185636158202,
          0.09175031548721024,
          0.06395573977199505,
          0.05395334561540264,
          0.06321764272098279,
          0.028341314180665815,
          0.07869047902054556,
          0.038527813953524004,
          0.06324703308962633,
          0.05589164528400521,
          0.08997773108593034,
          0.03346926984287966,
          0.04738480196690918,
          0.09656969122802891,
          0.09914809905421726,
          0.09232618955419689,
          0.06086036243185552,
          0.06372301028185333,
          0.03606798434681252,
          0.04343910115954088,
          0.05243037727539994,
          0.05508215750382312,
          0.05403277090922479,
          0.08336845860113662,
          0.06072908480814889,
          0.035265274948015075,
          0.0580821436380584,
          0.08588610501415761,
          0.09807862012948851,
          0.05472236379696214,
          0.0375888615590103,
          0.099831873247836,
          0.07480842981050297,
          0.029429497392414766,
          0.01048557721115948,
          0.05950179473669239,
          0.09503331824917986,
          0.08031931338782805,
          0.07172053587766236,
          0.0677914422674335,
          0.053028751622589784,
          0.012320083426015517,
          0.09465518071843348,
          0.07831342481108831,
          0.038829942667774515,
          0.03321002880326586,
          0.062212023211075766,
          0.011103450510798408,
          0.05207546395859977,
          0.04009561251497261,
          0.08179732860159038,
          0.036617024257360915,
          0.09834118066509943,
          0.09786130330956992,
          0.02809951748928779,
          0.022058821736869128,
          0.01582230951857922,
          0.02985222476933925,
          0.08915385794754045,
          0.02216154176104508,
          0.031512542211819726,
          0.04223793513486421,
          0.03800165315847903,
          0.0875114100480067,
          0.04342829472584759,
          0.03241977469126469,
          0.04626753919230375,
          0.08736629486620415,
          0.07769253890700616,
          0.0737165169251325,
          0.0933509099060874,
          0.017950897462060262,
          0.09580938516184524,
          0.09512370190543092,
          0.06594983408366803,
          0.03171732765775546,
          0.026856136427137474,
          0.07986675956285376,
          0.08331365843268486,
          0.0312317052853692,
          0.061778124466065204,
          0.021755269670357576,
          0.09237751490738666,
          0.05727193257526779,
          0.06838687427188773,
          0.044391209149525296,
          0.06131701515825147,
          0.04471970270020657,
          0.07065267167922595,
          0.053294376801472435,
          0.08340947026861037,
          0.018499766154528842,
          0.01628956793994407,
          0.0830235444333782,
          0.011575761660351645,
          0.041485838688579274,
          0.028597124023284896,
          0.0809464753810301,
          0.0793924018268974,
          0.05051504805696183,
          0.047533920164072825,
          0.08407081497669873,
          0.08131260792444917,
          0.04567726522293798,
          0.06727494443610081,
          0.029558444219793395,
          0.011350141912932286,
          0.04451361136060613,
          0.07980112080627401,
          0.021669067211248824,
          0.08583306945725609,
          0.08596614264258773,
          0.0862808638132302,
          0.03520381056248082,
          0.06772428109592865,
          0.0730074079669574,
          0.03992421082650919,
          0.012365741161949509,
          0.06816890693779641,
          0.03506159360227499,
          0.03414320705124798,
          0.05875148105943557,
          0.010203293106471105,
          0.07324239221434303,
          0.025052479432557864,
          0.07172818336384686,
          0.03638664906126051,
          0.06186621127972637,
          0.07925255270217477,
          0.08221919062614462,
          0.07494543914927733,
          0.014631791985520438,
          0.06089486019546964,
          0.08205182238178109,
          0.07403433194521808,
          0.04007999791693718,
          0.02804805468856296,
          0.06174483505336403,
          0.03865221399329784,
          0.041272417735646015,
          0.07617772212908924,
          0.07844365448721671,
          0.03195311826226613,
          0.05204871048819778,
          0.04868079283911657,
          0.08909315901785259,
          0.03318130963773764,
          0.05805143279077834,
          0.021804427973750203,
          0.07758425954976574,
          0.02444658942450571,
          0.06996839282033282,
          0.08042785218434612,
          0.0641643909850902,
          0.08662007432496656,
          0.07576033612731796,
          0.03187031024745611,
          0.035239188060648935,
          0.06986587231532158,
          0.030433880247413538,
          0.09812173505968115,
          0.08889685926931089,
          0.09001465413507828,
          0.05802370232574496,
          0.058562115357663994,
          0.0508177171505685,
          0.07651992989429256,
          0.06117766732370468,
          0.05517622466898386,
          0.09738304841837701,
          0.05097912270799401,
          0.015099728634943453,
          0.07595667960748248,
          0.07160467953614824,
          0.057659402582242385,
          0.09189110890790067,
          0.06862253489176491,
          0.06447368150852585,
          0.07086938783086905,
          0.08458115239957671,
          0.07686256367643217,
          0.07453331320135903,
          0.035128679605780096,
          0.023752251013434634,
          0.037862907506587246,
          0.06766223580129452,
          0.018255014695263562,
          0.06802702988117286,
          0.02015733855655962,
          0.017786732549868553,
          0.09946729394848848,
          0.05333022383437671,
          0.034641692639571516,
          0.04195143817719298,
          0.06701447303174722,
          0.09091775091821393,
          0.06075709103613904,
          0.0682179997241838,
          0.07286013187900911,
          0.04809841471810045,
          0.01244225392915947,
          0.011582175596905839,
          0.08467930886103833,
          0.014890388750593387,
          0.088716603561391,
          0.06844074215789539,
          0.0881897111927581,
          0.022336627373635974,
          0.07426720622903386,
          0.04578825130878084,
          0.07374224188477449,
          0.09287499067855917,
          0.02783623766609916,
          0.06928688420185945,
          0.09812359003954024,
          0.04032249336944281,
          0.06215231761435152,
          0.02037696288092771,
          0.030304806435599414,
          0.025435418816033374,
          0.01635188720630837,
          0.055489852054469144,
          0.02947725732468741,
          0.07932825623650742,
          0.027905629790816636,
          0.011297732904370967,
          0.07320172002935062,
          0.04210172828290292,
          0.012998135189923512,
          0.033255167681875565,
          0.06098329155981336,
          0.053980607545695974,
          0.07181526646965057,
          0.07015312596234503,
          0.0510373127658213,
          0.020530078564001016,
          0.023700650232026207,
          0.08782640000274364,
          0.059915866005957615,
          0.021209872084294742,
          0.08854586138385927,
          0.06781791924675981,
          0.053200489126365554,
          0.09574323347651222,
          0.09206241658285867,
          0.017019017226205455,
          0.07022704846923461,
          0.08766944692819138,
          0.0918778029330867,
          0.034976456680509284,
          0.07549187238895746,
          0.07484684456136977,
          0.01682733586186572,
          0.024242707801542078,
          0.03826129196785957,
          0.01869849311484072,
          0.06899955305154433,
          0.0965367953852849,
          0.04930186792567983,
          0.04231532598678908,
          0.05435813484110521,
          0.08493015833328005,
          0.07836711492871018,
          0.0769281511562335,
          0.06711105375942392,
          0.013490375857809628,
          0.05787108635471835,
          0.08733911153679305,
          0.05668360031480144,
          0.011953103115503521,
          0.0314286326862536,
          0.042588435759317075,
          0.036640972237664264,
          0.013371141848164417,
          0.04518910404920738,
          0.04926379866753495,
          0.010522515928709057,
          0.08073180675419829,
          0.047000812781577285,
          0.08781253821177294,
          0.08660378621172028,
          0.035069802408793614,
          0.03131142465408169,
          0.08739533907700134,
          0.06522231365818834,
          0.044020782203795183,
          0.018037669105949623,
          0.07436144162935227,
          0.023904472404378728,
          0.05239895207928998,
          0.028989987148194667,
          0.03753228315828686,
          0.04364063286708163,
          0.0483712608276946,
          0.07766828508501278,
          0.01123257646965592,
          0.05079053354356933,
          0.07740590360749731,
          0.04546919478805849,
          0.09400017229692986,
          0.0779944248019543,
          0.05396563215292907,
          0.021856444672212996,
          0.09014163409404856,
          0.06687027589328914,
          0.020735095371610404,
          0.09457229860877579,
          0.09168290965116374,
          0.07481316189561012,
          0.08838437970006988,
          0.05606675680489718,
          0.011593128301743624,
          0.043566640447311206,
          0.09584261765993614,
          0.058056373255198926,
          0.06593348017295123,
          0.031094865388997188,
          0.04007530169378552,
          0.07745775476103958,
          0.05998876269904809,
          0.0995217401759986,
          0.07701808486467918,
          0.010266356791955165,
          0.04135655788631604,
          0.014221506573151571,
          0.053555491209140924,
          0.06858060274394882,
          0.09774329289669167,
          0.01750182428579663,
          0.09300243327492132,
          0.014229486055145919,
          0.07024801231282805,
          0.041992832469831605,
          0.06252619576084116,
          0.08847568230919771,
          0.05453337670946204,
          0.08479857713312652,
          0.08694024427009525,
          0.015082442171221878,
          0.09260444420944659,
          0.06273154465904193,
          0.030051929491695745,
          0.03147056594085754,
          0.033574987828621186,
          0.07305416386188857,
          0.09568688416453193,
          0.04447418067727919,
          0.07788733522276997,
          0.05437376241785219,
          0.011629572077584555,
          0.06694189767277227,
          0.09979308912356345,
          0.05041515384092902,
          0.03211005638702454,
          0.051235453732984555,
          0.06544412875731884,
          0.09848893891064013,
          0.012715609849036871,
          0.0878331124613194,
          0.09846950583318352,
          0.05008822258176349,
          0.08480665229519524,
          0.08097559622200438,
          0.0453136837378525,
          0.03218366452300294,
          0.07150681661801456,
          0.09241163671989566,
          0.07051307723224308,
          0.026062219882916376,
          0.03944700617857856,
          0.02034092856920824,
          0.0655538362881094,
          0.021580453100614565,
          0.09489250162121499,
          0.09602501115392523,
          0.03992859485396403,
          0.07106206799300804,
          0.07761028139904244,
          0.04826599122698713,
          0.07195949757958134,
          0.08608168921367085,
          0.058150614239624386,
          0.08505787282762137,
          0.01814007759902107,
          0.0256424478836261,
          0.0460617077381014,
          0.07175758594734623,
          0.08889104998408758,
          0.02624101861582167,
          0.024771285439038233,
          0.03584625328068552,
          0.05943178774873692,
          0.025813922582993733,
          0.04387284699936425,
          0.028091795763062352,
          0.040982937571863096,
          0.041047382438965566,
          0.02323416628428523,
          0.044914293712091054,
          0.039414626120950494,
          0.07563441799677238,
          0.06767112502425163,
          0.03759845618761963,
          0.05978466226951148,
          0.07116568130514682,
          0.038008656437884016,
          0.029607004835580812,
          0.030271631680366243,
          0.09530379848545309,
          0.0901668028538663,
          0.09614310859681185,
          0.011101413582281191,
          0.024365118377718244,
          0.06103830138422546,
          0.016589096469140457,
          0.0552978115204238,
          0.08373472548654202,
          0.07969558316929808,
          0.05935851174656667,
          0.0759486848374308,
          0.04483814622115131,
          0.05834063980151719,
          0.07096605285601428,
          0.0593839878315091,
          0.06171366365117071,
          0.04262601772681495,
          0.06174472099715831,
          0.06352092820177012,
          0.07656283911915429,
          0.04502257839032262,
          0.09876804210139163,
          0.013252096956928928,
          0.08438280817868464,
          0.045518829966472614,
          0.0544403972529577,
          0.07211281907105108,
          0.09515833634481481,
          0.06748549353350076,
          0.07700091156392876,
          0.08463641657791586,
          0.058339728804826345,
          0.03198714436604213,
          0.028098591906269947,
          0.05029256771871603,
          0.07512575843085546,
          0.01948768276027455,
          0.0780993531247924,
          0.05116626475604717,
          0.017202694647184755,
          0.07637593499947556,
          0.039660091325239066,
          0.0418536000961919,
          0.029183821798277464,
          0.02393778902519221,
          0.05170746780602855,
          0.028717293991966278,
          0.020372821694478394,
          0.03174996861429378,
          0.015798716848243362,
          0.09343065902750419,
          0.0805911051366766,
          0.023247681112043513,
          0.06519452146141226,
          0.06823551956203085,
          0.03788600441203178,
          0.03227103412788781,
          0.030102715950579402,
          0.06777074634326515,
          0.0455172102216041,
          0.04927296503733024,
          0.018989184127572008,
          0.06971793645012014,
          0.05774050489556184,
          0.045343557472632884,
          0.07718221232653126,
          0.08669557136985422,
          0.08719462705052919,
          0.08433082788284675,
          0.0579932521705404,
          0.06858865398433481,
          0.04805431994596291,
          0.06189172167871464,
          0.013597813865511179,
          0.04735554364563517,
          0.056272356873250495,
          0.018742634459536854,
          0.09608576784982065,
          0.04443489152996,
          0.09719678659094508,
          0.04118227058316581,
          0.03486719236282602,
          0.025788905645764595,
          0.08094627281292036,
          0.0437323349383665,
          0.05069552941054125,
          0.049903946469874505,
          0.041596502327251476,
          0.06447507079693604,
          0.09129056792806312,
          0.029416822936987067,
          0.08372408602525411,
          0.09806731380380064,
          0.06279452236328725,
          0.02711504743068123,
          0.013729479241527872,
          0.011723013906417794,
          0.014095781333051158,
          0.09890970674406731,
          0.025569746325316278,
          0.03604786018858853,
          0.09419354900945257,
          0.033833735324409635,
          0.010204056812117617,
          0.017897086853743034,
          0.01898627121134148,
          0.08473504724398827,
          0.042584351582475824,
          0.0353159843403084,
          0.06749616464961676,
          0.022225241080807832,
          0.06140376108852207,
          0.07194971027733661,
          0.05124059174149459,
          0.09914927075308459,
          0.06950436427039473,
          0.03904319707852927,
          0.08761959918291282,
          0.04638161751322532,
          0.04036337638359141,
          0.0560301224206218,
          0.09773910986578822,
          0.050597543518265786,
          0.06240419239609285,
          0.0631496835777058,
          0.01042782562700782,
          0.06109184131959405,
          0.019542317259066688,
          0.04716867949588746,
          0.07595839002103302,
          0.048307038734988324,
          0.04930295360786829,
          0.0195604010380761,
          0.043094335129134395,
          0.06319301608640417,
          0.08596403186512859,
          0.08052964368989146,
          0.029228456422319728,
          0.0375915284136588,
          0.01981715051948829,
          0.018769944031825386,
          0.08588398901230744,
          0.0512064873228657,
          0.08542619643103282,
          0.07804388080670613,
          0.048749963022760426,
          0.08698686547029143,
          0.033842654506609164,
          0.035501989168326135,
          0.06869115405942829,
          0.061754643180798,
          0.015308618931762235,
          0.07379081190826661,
          0.07571503449379988,
          0.0937212293997981,
          0.0381949706865464,
          0.04472320790987346,
          0.07009122741929016,
          0.03586082881861059,
          0.09625239746271762,
          0.06840029339235684,
          0.021839277228695064,
          0.018573892277988186,
          0.05707021373371908,
          0.09658452835043706,
          0.08635302708502496,
          0.06898991172884145,
          0.038575317984167,
          0.028591574775960922,
          0.06822624120051238,
          0.017099036194218806,
          0.03859614534567833,
          0.05076609169997262,
          0.038028125836049996,
          0.046872820700960195,
          0.019968820387359483,
          0.08331829742249029,
          0.03819875135115053,
          0.025821791243854766,
          0.05891075520034699,
          0.05893609145766832,
          0.08523497955490482,
          0.07301895938429788,
          0.09117670800713738,
          0.09674924666012025,
          0.06481201238544508,
          0.04252313061018531,
          0.09068640878329058,
          0.03769410813693909,
          0.016840640648681772,
          0.03708738674694639,
          0.09852716513010734,
          0.027133179839192202,
          0.08710708129328282,
          0.09187804349050144,
          0.015070814623412889,
          0.07733376027888485,
          0.036820537919483746,
          0.08894725371763591,
          0.06235412587560204,
          0.07829822278839614,
          0.024213911802792976,
          0.02934735631489368,
          0.09684562667725202,
          0.06742498668556661,
          0.09036374715710821,
          0.041029829603316345,
          0.04818666300285078,
          0.09856981859959432,
          0.05058328780771211,
          0.07904058084868132,
          0.05659971070024199,
          0.057121415648174266,
          0.084212689571867,
          0.0821319440656127,
          0.061236223543624096,
          0.023595046726461427,
          0.019857401207472404,
          0.08925087483220298,
          0.044138351040057804,
          0.07681097550906632,
          0.02173644064914621,
          0.03254879799240804,
          0.023225867486430928,
          0.08472942666543226,
          0.030615815657525823,
          0.06820691500190419,
          0.031151477163879178,
          0.04606563938269404,
          0.027171080463487117,
          0.08130247918410013,
          0.03936463479737977,
          0.014790043384806913,
          0.06891574229033456,
          0.028903933152164427,
          0.07942874582025655,
          0.07922675022553512,
          0.08848571269688191,
          0.07088314841673969,
          0.03380603538970582,
          0.04501605822878826,
          0.041885184850509884,
          0.024399169978506267,
          0.06444360061178285,
          0.049066159932592716,
          0.01815331658166619,
          0.08455771220071334,
          0.027641934275237146,
          0.06627038910576923,
          0.09555629581314241,
          0.06623691000234029,
          0.011275045293419484,
          0.09474520256494831,
          0.05578776105893096,
          0.02484240986432773,
          0.030681556288967828,
          0.07122372532791693,
          0.0517073884699021,
          0.03501108438364138,
          0.06990765538485395,
          0.08300858211177856,
          0.02691634188955508,
          0.09084861241775427,
          0.08510384668417603,
          0.057007056383408077,
          0.043269525853324706,
          0.05061031145109233,
          0.028948890031340213,
          0.07488670670053818,
          0.040451620069547674,
          0.011010083686202,
          0.08837051392462177,
          0.06755848877132363,
          0.07143492302328253,
          0.033838470537904966,
          0.08056878662118033,
          0.017420908346893072,
          0.010622720877436972,
          0.016972966521956522,
          0.06316041402995916,
          0.06941463294966624,
          0.07412110693822933,
          0.048670775738196406,
          0.014503020643195677,
          0.06134787518305584,
          0.061763074974531686,
          0.08025820104227147,
          0.08705057653726105,
          0.04835048967240485,
          0.09079533323313282,
          0.02958852780053578,
          0.0314403906841861,
          0.012037915105547994,
          0.011641345924627733,
          0.028254009311966338,
          0.03597444823849481,
          0.09172600607701567,
          0.011281702889768718,
          0.07774255841617869,
          0.08936815201394079,
          0.03944672267517264,
          0.06626937983125825,
          0.0515013326972819,
          0.0753484836597483,
          0.059884313385626456,
          0.025821272163361247,
          0.08248466621550482,
          0.0962811551712773,
          0.07440644626427718,
          0.07278867403928183,
          0.06413432878960465,
          0.030292130807469793,
          0.015576965173175111,
          0.012797579424476468,
          0.06069870291476779,
          0.013407242632769495,
          0.019242277220356277,
          0.04016396723214755,
          0.03347817059346454,
          0.053094262571446074,
          0.051808691843630655,
          0.08295522863929997,
          0.07983826939765981,
          0.013388552289254604,
          0.06320501560271594,
          0.07420160830149851,
          0.06865901281508754,
          0.02966360170377614,
          0.06534903675544283,
          0.09263350149610247,
          0.07065538742456566,
          0.02941325636067587,
          0.09427358017400611,
          0.06317033405081426,
          0.08891599742216856,
          0.01742185849861763,
          0.041111319014114474,
          0.09589541497722748,
          0.044999775090192415,
          0.0550602918682328,
          0.025728247364976274,
          0.09888348357013743,
          0.04916310805274157,
          0.04772331917357413,
          0.03274036053712443,
          0.08042212241105773,
          0.04483220502767067,
          0.06678171425827042,
          0.07557758969433341,
          0.0711363590121105,
          0.0603757503682444,
          0.0678776789042607,
          0.024723288381915072,
          0.030184150602892104,
          0.04398217231937042,
          0.09760507012060303,
          0.08488188445765894,
          0.06303042930281189,
          0.013420923328699113,
          0.031234253062051513,
          0.030712318538290484,
          0.04969452874976022,
          0.05644675479506035,
          0.06265749991191524,
          0.022882186029361467,
          0.03000663700882958,
          0.05408864349919567,
          0.0945544999651981,
          0.036473922840844,
          0.07829730598960914,
          0.05798988318399625,
          0.04476153689842771,
          0.053389999210261455,
          0.07243028140819212,
          0.0423279503158915,
          0.0196179024802835,
          0.04485147462063778,
          0.05291199374180771,
          0.0733846995649516,
          0.06274806596978628,
          0.05340400823370419,
          0.038242474473458625,
          0.07300123089160256,
          0.09789315229868982,
          0.028558859156816364,
          0.025534553271447227,
          0.04392739757317204,
          0.0115520625652204,
          0.0707552511439087,
          0.060400007973349074,
          0.03279764808825297,
          0.04693867770245557,
          0.03565723486977436,
          0.056114717803077356,
          0.04160116207585894,
          0.015650487702594314,
          0.06179957425081094,
          0.016694119939308735,
          0.09187731276527818,
          0.09566765734192671,
          0.06879954797309844,
          0.02271917501978596,
          0.06391528471081186,
          0.09216472733696213,
          0.0652252649387215,
          0.01861161194262719,
          0.07036863048270686,
          0.06034438500351023,
          0.041086151655109655,
          0.04509891728497452,
          0.04059382588970383,
          0.05294999355147999,
          0.023073542564026613,
          0.013503685470957164,
          0.01808620907183451,
          0.0652585130849193,
          0.015103948916898067,
          0.016095621391979772,
          0.052287905120970875,
          0.04175133107628894,
          0.014113729737087775,
          0.05126739378772747,
          0.08335349279820006,
          0.05846959665529183,
          0.08781309154577491,
          0.05055796932604482,
          0.07161192560769992,
          0.07618226112848303,
          0.05363515320995246,
          0.05816288715435082,
          0.0648423827061831,
          0.011827826135690916,
          0.07512301916935067,
          0.030771094096942134,
          0.05664284805419525,
          0.051613584207029,
          0.02206907821128309,
          0.03187229310546197,
          0.0695641959543487,
          0.0676702105517733,
          0.02050117401435171,
          0.02766074407035274,
          0.06110575545478687,
          0.03408952620944482,
          0.02547190608577342,
          0.08054390119853004,
          0.05885905664603558,
          0.04910851474253667,
          0.031281199387690486,
          0.06204918538138784,
          0.011947959380406124,
          0.07886204551428756,
          0.08891644945204798,
          0.06246324192989543,
          0.03172481336676844,
          0.05084486118412125,
          0.03474491299657797,
          0.05980843592118457,
          0.03625279610935652,
          0.045971109765001565,
          0.07713968168116499,
          0.037578709807782745,
          0.030418031387888747,
          0.09016743530579717,
          0.01135107189718848,
          0.01513364357799743,
          0.08154690397628542,
          0.059876582033630006,
          0.09606054336707856,
          0.04892109182665744,
          0.07096049274126379,
          0.03532866334724113,
          0.01791760925088683,
          0.08980211033080505,
          0.05586575629630781,
          0.0688634139103616,
          0.022521708544762827,
          0.060541738171685455,
          0.07288061767576744,
          0.05876612663498326,
          0.08696725954197107,
          0.07176668483549893,
          0.04433772500106479,
          0.0766727497949609,
          0.08501385670912119,
          0.011496671128810105,
          0.012396397302689127,
          0.07118365222893167,
          0.09457104046291588,
          0.011505142934601363,
          0.09836543897710379,
          0.0387344579230288,
          0.01341288010194918,
          0.07710131195984017,
          0.09670425908343856,
          0.03222009708671912,
          0.09047506817240988,
          0.042491902219828806,
          0.09245620173733252,
          0.03722543918379349,
          0.06903904370895736,
          0.01962614449500962,
          0.054912618307444844,
          0.0400357001749729,
          0.026915688145697912,
          0.06058748831644109,
          0.05901609086247858,
          0.09180479969829941,
          0.08349336490976386,
          0.017830507047487655,
          0.08614953845553872,
          0.04155901108472305,
          0.07822481349343206,
          0.07112295871150479,
          0.046923598985509685,
          0.03610423251853257,
          0.053048366365654416
         ],
         "xaxis": "x",
         "yaxis": "y"
        }
       ],
       "layout": {
        "barmode": "relative",
        "legend": {
         "tracegroupgap": 0
        },
        "template": {
         "data": {
          "bar": [
           {
            "error_x": {
             "color": "#2a3f5f"
            },
            "error_y": {
             "color": "#2a3f5f"
            },
            "marker": {
             "line": {
              "color": "#E5ECF6",
              "width": 0.5
             },
             "pattern": {
              "fillmode": "overlay",
              "size": 10,
              "solidity": 0.2
             }
            },
            "type": "bar"
           }
          ],
          "barpolar": [
           {
            "marker": {
             "line": {
              "color": "#E5ECF6",
              "width": 0.5
             },
             "pattern": {
              "fillmode": "overlay",
              "size": 10,
              "solidity": 0.2
             }
            },
            "type": "barpolar"
           }
          ],
          "carpet": [
           {
            "aaxis": {
             "endlinecolor": "#2a3f5f",
             "gridcolor": "white",
             "linecolor": "white",
             "minorgridcolor": "white",
             "startlinecolor": "#2a3f5f"
            },
            "baxis": {
             "endlinecolor": "#2a3f5f",
             "gridcolor": "white",
             "linecolor": "white",
             "minorgridcolor": "white",
             "startlinecolor": "#2a3f5f"
            },
            "type": "carpet"
           }
          ],
          "choropleth": [
           {
            "colorbar": {
             "outlinewidth": 0,
             "ticks": ""
            },
            "type": "choropleth"
           }
          ],
          "contour": [
           {
            "colorbar": {
             "outlinewidth": 0,
             "ticks": ""
            },
            "colorscale": [
             [
              0,
              "#0d0887"
             ],
             [
              0.1111111111111111,
              "#46039f"
             ],
             [
              0.2222222222222222,
              "#7201a8"
             ],
             [
              0.3333333333333333,
              "#9c179e"
             ],
             [
              0.4444444444444444,
              "#bd3786"
             ],
             [
              0.5555555555555556,
              "#d8576b"
             ],
             [
              0.6666666666666666,
              "#ed7953"
             ],
             [
              0.7777777777777778,
              "#fb9f3a"
             ],
             [
              0.8888888888888888,
              "#fdca26"
             ],
             [
              1,
              "#f0f921"
             ]
            ],
            "type": "contour"
           }
          ],
          "contourcarpet": [
           {
            "colorbar": {
             "outlinewidth": 0,
             "ticks": ""
            },
            "type": "contourcarpet"
           }
          ],
          "heatmap": [
           {
            "colorbar": {
             "outlinewidth": 0,
             "ticks": ""
            },
            "colorscale": [
             [
              0,
              "#0d0887"
             ],
             [
              0.1111111111111111,
              "#46039f"
             ],
             [
              0.2222222222222222,
              "#7201a8"
             ],
             [
              0.3333333333333333,
              "#9c179e"
             ],
             [
              0.4444444444444444,
              "#bd3786"
             ],
             [
              0.5555555555555556,
              "#d8576b"
             ],
             [
              0.6666666666666666,
              "#ed7953"
             ],
             [
              0.7777777777777778,
              "#fb9f3a"
             ],
             [
              0.8888888888888888,
              "#fdca26"
             ],
             [
              1,
              "#f0f921"
             ]
            ],
            "type": "heatmap"
           }
          ],
          "heatmapgl": [
           {
            "colorbar": {
             "outlinewidth": 0,
             "ticks": ""
            },
            "colorscale": [
             [
              0,
              "#0d0887"
             ],
             [
              0.1111111111111111,
              "#46039f"
             ],
             [
              0.2222222222222222,
              "#7201a8"
             ],
             [
              0.3333333333333333,
              "#9c179e"
             ],
             [
              0.4444444444444444,
              "#bd3786"
             ],
             [
              0.5555555555555556,
              "#d8576b"
             ],
             [
              0.6666666666666666,
              "#ed7953"
             ],
             [
              0.7777777777777778,
              "#fb9f3a"
             ],
             [
              0.8888888888888888,
              "#fdca26"
             ],
             [
              1,
              "#f0f921"
             ]
            ],
            "type": "heatmapgl"
           }
          ],
          "histogram": [
           {
            "marker": {
             "pattern": {
              "fillmode": "overlay",
              "size": 10,
              "solidity": 0.2
             }
            },
            "type": "histogram"
           }
          ],
          "histogram2d": [
           {
            "colorbar": {
             "outlinewidth": 0,
             "ticks": ""
            },
            "colorscale": [
             [
              0,
              "#0d0887"
             ],
             [
              0.1111111111111111,
              "#46039f"
             ],
             [
              0.2222222222222222,
              "#7201a8"
             ],
             [
              0.3333333333333333,
              "#9c179e"
             ],
             [
              0.4444444444444444,
              "#bd3786"
             ],
             [
              0.5555555555555556,
              "#d8576b"
             ],
             [
              0.6666666666666666,
              "#ed7953"
             ],
             [
              0.7777777777777778,
              "#fb9f3a"
             ],
             [
              0.8888888888888888,
              "#fdca26"
             ],
             [
              1,
              "#f0f921"
             ]
            ],
            "type": "histogram2d"
           }
          ],
          "histogram2dcontour": [
           {
            "colorbar": {
             "outlinewidth": 0,
             "ticks": ""
            },
            "colorscale": [
             [
              0,
              "#0d0887"
             ],
             [
              0.1111111111111111,
              "#46039f"
             ],
             [
              0.2222222222222222,
              "#7201a8"
             ],
             [
              0.3333333333333333,
              "#9c179e"
             ],
             [
              0.4444444444444444,
              "#bd3786"
             ],
             [
              0.5555555555555556,
              "#d8576b"
             ],
             [
              0.6666666666666666,
              "#ed7953"
             ],
             [
              0.7777777777777778,
              "#fb9f3a"
             ],
             [
              0.8888888888888888,
              "#fdca26"
             ],
             [
              1,
              "#f0f921"
             ]
            ],
            "type": "histogram2dcontour"
           }
          ],
          "mesh3d": [
           {
            "colorbar": {
             "outlinewidth": 0,
             "ticks": ""
            },
            "type": "mesh3d"
           }
          ],
          "parcoords": [
           {
            "line": {
             "colorbar": {
              "outlinewidth": 0,
              "ticks": ""
             }
            },
            "type": "parcoords"
           }
          ],
          "pie": [
           {
            "automargin": true,
            "type": "pie"
           }
          ],
          "scatter": [
           {
            "fillpattern": {
             "fillmode": "overlay",
             "size": 10,
             "solidity": 0.2
            },
            "type": "scatter"
           }
          ],
          "scatter3d": [
           {
            "line": {
             "colorbar": {
              "outlinewidth": 0,
              "ticks": ""
             }
            },
            "marker": {
             "colorbar": {
              "outlinewidth": 0,
              "ticks": ""
             }
            },
            "type": "scatter3d"
           }
          ],
          "scattercarpet": [
           {
            "marker": {
             "colorbar": {
              "outlinewidth": 0,
              "ticks": ""
             }
            },
            "type": "scattercarpet"
           }
          ],
          "scattergeo": [
           {
            "marker": {
             "colorbar": {
              "outlinewidth": 0,
              "ticks": ""
             }
            },
            "type": "scattergeo"
           }
          ],
          "scattergl": [
           {
            "marker": {
             "colorbar": {
              "outlinewidth": 0,
              "ticks": ""
             }
            },
            "type": "scattergl"
           }
          ],
          "scattermapbox": [
           {
            "marker": {
             "colorbar": {
              "outlinewidth": 0,
              "ticks": ""
             }
            },
            "type": "scattermapbox"
           }
          ],
          "scatterpolar": [
           {
            "marker": {
             "colorbar": {
              "outlinewidth": 0,
              "ticks": ""
             }
            },
            "type": "scatterpolar"
           }
          ],
          "scatterpolargl": [
           {
            "marker": {
             "colorbar": {
              "outlinewidth": 0,
              "ticks": ""
             }
            },
            "type": "scatterpolargl"
           }
          ],
          "scatterternary": [
           {
            "marker": {
             "colorbar": {
              "outlinewidth": 0,
              "ticks": ""
             }
            },
            "type": "scatterternary"
           }
          ],
          "surface": [
           {
            "colorbar": {
             "outlinewidth": 0,
             "ticks": ""
            },
            "colorscale": [
             [
              0,
              "#0d0887"
             ],
             [
              0.1111111111111111,
              "#46039f"
             ],
             [
              0.2222222222222222,
              "#7201a8"
             ],
             [
              0.3333333333333333,
              "#9c179e"
             ],
             [
              0.4444444444444444,
              "#bd3786"
             ],
             [
              0.5555555555555556,
              "#d8576b"
             ],
             [
              0.6666666666666666,
              "#ed7953"
             ],
             [
              0.7777777777777778,
              "#fb9f3a"
             ],
             [
              0.8888888888888888,
              "#fdca26"
             ],
             [
              1,
              "#f0f921"
             ]
            ],
            "type": "surface"
           }
          ],
          "table": [
           {
            "cells": {
             "fill": {
              "color": "#EBF0F8"
             },
             "line": {
              "color": "white"
             }
            },
            "header": {
             "fill": {
              "color": "#C8D4E3"
             },
             "line": {
              "color": "white"
             }
            },
            "type": "table"
           }
          ]
         },
         "layout": {
          "annotationdefaults": {
           "arrowcolor": "#2a3f5f",
           "arrowhead": 0,
           "arrowwidth": 1
          },
          "autotypenumbers": "strict",
          "coloraxis": {
           "colorbar": {
            "outlinewidth": 0,
            "ticks": ""
           }
          },
          "colorscale": {
           "diverging": [
            [
             0,
             "#8e0152"
            ],
            [
             0.1,
             "#c51b7d"
            ],
            [
             0.2,
             "#de77ae"
            ],
            [
             0.3,
             "#f1b6da"
            ],
            [
             0.4,
             "#fde0ef"
            ],
            [
             0.5,
             "#f7f7f7"
            ],
            [
             0.6,
             "#e6f5d0"
            ],
            [
             0.7,
             "#b8e186"
            ],
            [
             0.8,
             "#7fbc41"
            ],
            [
             0.9,
             "#4d9221"
            ],
            [
             1,
             "#276419"
            ]
           ],
           "sequential": [
            [
             0,
             "#0d0887"
            ],
            [
             0.1111111111111111,
             "#46039f"
            ],
            [
             0.2222222222222222,
             "#7201a8"
            ],
            [
             0.3333333333333333,
             "#9c179e"
            ],
            [
             0.4444444444444444,
             "#bd3786"
            ],
            [
             0.5555555555555556,
             "#d8576b"
            ],
            [
             0.6666666666666666,
             "#ed7953"
            ],
            [
             0.7777777777777778,
             "#fb9f3a"
            ],
            [
             0.8888888888888888,
             "#fdca26"
            ],
            [
             1,
             "#f0f921"
            ]
           ],
           "sequentialminus": [
            [
             0,
             "#0d0887"
            ],
            [
             0.1111111111111111,
             "#46039f"
            ],
            [
             0.2222222222222222,
             "#7201a8"
            ],
            [
             0.3333333333333333,
             "#9c179e"
            ],
            [
             0.4444444444444444,
             "#bd3786"
            ],
            [
             0.5555555555555556,
             "#d8576b"
            ],
            [
             0.6666666666666666,
             "#ed7953"
            ],
            [
             0.7777777777777778,
             "#fb9f3a"
            ],
            [
             0.8888888888888888,
             "#fdca26"
            ],
            [
             1,
             "#f0f921"
            ]
           ]
          },
          "colorway": [
           "#636efa",
           "#EF553B",
           "#00cc96",
           "#ab63fa",
           "#FFA15A",
           "#19d3f3",
           "#FF6692",
           "#B6E880",
           "#FF97FF",
           "#FECB52"
          ],
          "font": {
           "color": "#2a3f5f"
          },
          "geo": {
           "bgcolor": "white",
           "lakecolor": "white",
           "landcolor": "#E5ECF6",
           "showlakes": true,
           "showland": true,
           "subunitcolor": "white"
          },
          "hoverlabel": {
           "align": "left"
          },
          "hovermode": "closest",
          "mapbox": {
           "style": "light"
          },
          "paper_bgcolor": "white",
          "plot_bgcolor": "#E5ECF6",
          "polar": {
           "angularaxis": {
            "gridcolor": "white",
            "linecolor": "white",
            "ticks": ""
           },
           "bgcolor": "#E5ECF6",
           "radialaxis": {
            "gridcolor": "white",
            "linecolor": "white",
            "ticks": ""
           }
          },
          "scene": {
           "xaxis": {
            "backgroundcolor": "#E5ECF6",
            "gridcolor": "white",
            "gridwidth": 2,
            "linecolor": "white",
            "showbackground": true,
            "ticks": "",
            "zerolinecolor": "white"
           },
           "yaxis": {
            "backgroundcolor": "#E5ECF6",
            "gridcolor": "white",
            "gridwidth": 2,
            "linecolor": "white",
            "showbackground": true,
            "ticks": "",
            "zerolinecolor": "white"
           },
           "zaxis": {
            "backgroundcolor": "#E5ECF6",
            "gridcolor": "white",
            "gridwidth": 2,
            "linecolor": "white",
            "showbackground": true,
            "ticks": "",
            "zerolinecolor": "white"
           }
          },
          "shapedefaults": {
           "line": {
            "color": "#2a3f5f"
           }
          },
          "ternary": {
           "aaxis": {
            "gridcolor": "white",
            "linecolor": "white",
            "ticks": ""
           },
           "baxis": {
            "gridcolor": "white",
            "linecolor": "white",
            "ticks": ""
           },
           "bgcolor": "#E5ECF6",
           "caxis": {
            "gridcolor": "white",
            "linecolor": "white",
            "ticks": ""
           }
          },
          "title": {
           "x": 0.05
          },
          "xaxis": {
           "automargin": true,
           "gridcolor": "white",
           "linecolor": "white",
           "ticks": "",
           "title": {
            "standoff": 15
           },
           "zerolinecolor": "white",
           "zerolinewidth": 2
          },
          "yaxis": {
           "automargin": true,
           "gridcolor": "white",
           "linecolor": "white",
           "ticks": "",
           "title": {
            "standoff": 15
           },
           "zerolinecolor": "white",
           "zerolinewidth": 2
          }
         }
        },
        "title": {
         "text": "Engagement Rate Distribution"
        },
        "xaxis": {
         "anchor": "y",
         "domain": [
          0,
          1
         ],
         "title": {
          "text": "Engagement Rate"
         }
        },
        "yaxis": {
         "anchor": "x",
         "domain": [
          0,
          1
         ],
         "title": {
          "text": "Frequency"
         }
        }
       }
      }
     },
     "metadata": {},
     "output_type": "display_data"
    }
   ],
   "source": [
    "#histogram for engagement rate using plotly\n",
    "def plot_engagement_rate(df):\n",
    "    fig = px.histogram(df, x='engagement_rate', title='Engagement Rate Distribution')\n",
    "    fig.update_layout(xaxis_title='Engagement Rate', yaxis_title='Frequency')\n",
    "    fig.show()\n",
    "plot_engagement_rate(df)"
   ]
  },
  {
   "cell_type": "markdown",
   "id": "6af3d8d2",
   "metadata": {},
   "source": [
    "insight: the figure shows a thin tailed distribution , outliers are infrequently."
   ]
  },
  {
   "cell_type": "code",
   "execution_count": 41,
   "id": "e48a78da",
   "metadata": {},
   "outputs": [
    {
     "data": {
      "application/vnd.plotly.v1+json": {
       "config": {
        "plotlyServerURL": "https://plot.ly"
       },
       "data": [
        {
         "alignmentgroup": "True",
         "bingroup": "x",
         "hovertemplate": "sales_forecast=%{x}<br>count=%{y}<extra></extra>",
         "legendgroup": "",
         "marker": {
          "color": "#636efa",
          "pattern": {
           "shape": ""
          }
         },
         "name": "",
         "offsetgroup": "",
         "orientation": "v",
         "showlegend": false,
         "type": "histogram",
         "x": [
          95,
          486,
          268,
          453,
          265,
          319,
          492,
          111,
          65,
          405,
          439,
          256,
          364,
          308,
          136,
          315,
          149,
          222,
          171,
          288,
          358,
          272,
          186,
          473,
          119,
          374,
          344,
          94,
          212,
          60,
          93,
          418,
          349,
          211,
          487,
          324,
          400,
          441,
          251,
          186,
          220,
          128,
          213,
          466,
          188,
          431,
          358,
          160,
          384,
          252,
          253,
          270,
          337,
          342,
          455,
          292,
          332,
          284,
          208,
          447,
          138,
          251,
          473,
          61,
          451,
          477,
          91,
          244,
          177,
          62,
          496,
          418,
          435,
          246,
          88,
          415,
          129,
          492,
          153,
          365,
          219,
          168,
          366,
          228,
          434,
          408,
          151,
          449,
          269,
          465,
          206,
          184,
          56,
          146,
          215,
          301,
          183,
          457,
          378,
          130,
          471,
          67,
          123,
          211,
          58,
          367,
          311,
          360,
          260,
          384,
          435,
          418,
          458,
          148,
          111,
          319,
          98,
          58,
          150,
          349,
          373,
          255,
          59,
          487,
          281,
          252,
          335,
          287,
          440,
          167,
          303,
          425,
          403,
          337,
          435,
          338,
          408,
          270,
          276,
          328,
          193,
          253,
          485,
          231,
          481,
          100,
          468,
          313,
          122,
          70,
          445,
          138,
          98,
          466,
          157,
          163,
          118,
          362,
          440,
          316,
          251,
          383,
          321,
          84,
          452,
          83,
          233,
          161,
          185,
          314,
          213,
          56,
          113,
          163,
          122,
          433,
          222,
          374,
          137,
          258,
          75,
          67,
          496,
          309,
          430,
          387,
          81,
          61,
          222,
          379,
          226,
          385,
          489,
          485,
          187,
          235,
          321,
          90,
          172,
          398,
          275,
          433,
          431,
          287,
          301,
          68,
          243,
          62,
          485,
          290,
          227,
          404,
          246,
          378,
          374,
          215,
          79,
          253,
          446,
          204,
          186,
          107,
          102,
          67,
          159,
          320,
          314,
          210,
          140,
          294,
          216,
          490,
          77,
          362,
          434,
          166,
          160,
          351,
          377,
          471,
          340,
          382,
          383,
          372,
          113,
          209,
          385,
          98,
          189,
          378,
          370,
          168,
          109,
          439,
          458,
          325,
          327,
          79,
          253,
          366,
          98,
          257,
          284,
          413,
          279,
          254,
          443,
          239,
          272,
          141,
          470,
          324,
          128,
          337,
          138,
          402,
          373,
          388,
          380,
          141,
          405,
          275,
          121,
          116,
          494,
          137,
          126,
          280,
          118,
          280,
          384,
          477,
          483,
          288,
          414,
          218,
          313,
          408,
          342,
          65,
          474,
          117,
          156,
          356,
          452,
          440,
          113,
          443,
          170,
          484,
          98,
          205,
          370,
          155,
          189,
          454,
          93,
          357,
          238,
          150,
          157,
          433,
          107,
          319,
          73,
          171,
          411,
          55,
          184,
          243,
          60,
          204,
          439,
          96,
          374,
          219,
          200,
          307,
          307,
          478,
          372,
          405,
          135,
          423,
          314,
          454,
          185,
          155,
          378,
          92,
          362,
          340,
          250,
          164,
          430,
          138,
          141,
          492,
          463,
          390,
          364,
          314,
          289,
          214,
          65,
          456,
          319,
          135,
          164,
          352,
          290,
          287,
          99,
          185,
          366,
          77,
          102,
          359,
          422,
          212,
          360,
          486,
          387,
          228,
          177,
          92,
          273,
          220,
          310,
          347,
          452,
          283,
          124,
          273,
          50,
          238,
          133,
          71,
          187,
          430,
          169,
          438,
          144,
          455,
          66,
          51,
          115,
          211,
          185,
          51,
          145,
          424,
          165,
          108,
          405,
          119,
          133,
          462,
          356,
          285,
          438,
          271,
          283,
          406,
          204,
          411,
          56,
          474,
          99,
          248,
          441,
          459,
          287,
          104,
          76,
          355,
          443,
          274,
          305,
          313,
          236,
          54,
          354,
          60,
          433,
          316,
          264,
          432,
          66,
          169,
          317,
          357,
          133,
          230,
          61,
          494,
          126,
          334,
          469,
          83,
          164,
          88,
          252,
          170,
          267,
          488,
          283,
          235,
          133,
          72,
          467,
          310,
          302,
          127,
          416,
          105,
          424,
          352,
          287,
          312,
          311,
          261,
          360,
          147,
          210,
          398,
          193,
          243,
          421,
          354,
          204,
          329,
          227,
          91,
          274,
          218,
          132,
          160,
          72,
          312,
          263,
          149,
          484,
          111,
          355,
          171,
          306,
          118,
          191,
          114,
          113,
          62,
          199,
          455,
          225,
          492,
          400,
          411,
          93,
          452,
          148,
          413,
          439,
          208,
          62,
          459,
          359,
          208,
          137,
          81,
          229,
          408,
          332,
          424,
          98,
          334,
          283,
          357,
          265,
          454,
          73,
          129,
          288,
          157,
          413,
          390,
          225,
          77,
          60,
          411,
          202,
          384,
          174,
          236,
          375,
          86,
          134,
          404,
          101,
          219,
          490,
          416,
          416,
          151,
          173,
          76,
          138,
          375,
          188,
          209,
          338,
          374,
          473,
          452,
          85,
          402,
          443,
          178,
          344,
          104,
          343,
          348,
          106,
          81,
          247,
          226,
          409,
          275,
          237,
          272,
          441,
          255,
          317,
          99,
          365,
          302,
          83,
          379,
          411,
          425,
          79,
          375,
          445,
          323,
          356,
          104,
          304,
          124,
          462,
          83,
          191,
          74,
          74,
          448,
          230,
          484,
          420,
          97,
          151,
          466,
          417,
          114,
          497,
          451,
          91,
          143,
          153,
          389,
          68,
          352,
          85,
          285,
          437,
          149,
          386,
          65,
          64,
          379,
          155,
          159,
          178,
          441,
          246,
          398,
          372,
          427,
          316,
          477,
          283,
          155,
          479,
          221,
          87,
          168,
          497,
          309,
          96,
          203,
          102,
          304,
          233,
          409,
          195,
          440,
          127,
          406,
          209,
          341,
          233,
          398,
          88,
          192,
          114,
          350,
          274,
          257,
          219,
          329,
          344,
          53,
          153,
          351,
          143,
          114,
          347,
          141,
          337,
          234,
          112,
          309,
          50,
          317,
          483,
          79,
          133,
          85,
          103,
          441,
          75,
          73,
          419,
          311,
          62,
          479,
          285,
          281,
          63,
          352,
          78,
          297,
          80,
          268,
          372,
          383,
          90,
          205,
          297,
          168,
          404,
          159,
          132,
          164,
          282,
          351,
          76,
          262,
          427,
          249,
          335,
          490,
          424,
          146,
          161,
          318,
          64,
          332,
          214,
          68,
          294,
          61,
          312,
          156,
          428,
          153,
          343,
          462,
          377,
          138,
          422,
          302,
          476,
          53,
          269,
          414,
          432,
          208,
          218,
          425,
          271,
          53,
          315,
          102,
          277,
          407,
          415,
          447,
          413,
          201,
          486,
          238,
          496,
          89,
          174,
          434,
          473,
          218,
          439,
          77,
          124,
          389,
          362,
          55,
          65,
          117,
          152,
          443,
          253,
          277,
          79,
          128,
          406,
          456,
          189,
          402,
          461,
          313,
          477,
          416,
          97,
          200,
          400,
          496,
          215,
          409,
          461,
          71,
          360,
          157,
          457,
          450,
          239,
          356,
          100,
          112,
          491,
          473,
          118,
          307,
          473,
          278,
          152,
          423,
          300,
          368,
          390,
          218,
          129,
          454,
          378,
          342,
          262,
          207,
          53,
          408,
          442,
          249,
          384,
          444,
          146,
          211,
          112,
          169,
          208,
          190,
          129,
          162,
          437,
          276,
          481,
          407,
          411,
          148,
          99,
          239,
          171,
          126,
          343,
          55,
          410,
          474,
          150,
          445,
          85,
          176,
          191,
          315,
          349,
          355,
          437,
          425,
          441,
          79,
          113,
          467,
          178,
          364,
          202,
          154,
          195,
          212,
          281,
          213,
          85,
          192,
          171,
          159,
          255,
          456,
          242,
          441,
          378,
          230,
          76,
          346,
          194,
          261,
          144,
          163,
          434,
          476,
          104,
          276,
          180,
          101,
          471,
          236,
          225,
          397,
          65,
          180,
          430,
          269,
          162,
          249,
          59,
          488,
          275,
          282,
          210,
          51,
          103,
          272,
          381,
          431,
          340,
          103,
          330,
          62,
          178,
          210,
          169,
          230,
          373,
          314,
          235,
          328,
          365,
          160,
          170,
          354,
          77,
          338,
          146,
          57,
          147,
          184,
          229,
          277,
          334,
          377,
          70,
          274,
          222,
          391,
          66,
          398,
          286,
          145,
          158,
          260,
          290,
          419,
          102,
          206,
          212,
          101,
          167,
          429,
          102,
          461,
          107,
          117,
          488,
          277,
          485,
          231,
          394,
          484,
          172,
          107,
          240,
          387,
          227,
          86,
          472,
          268,
          190,
          240,
          446,
          465,
          156,
          292,
          432,
          177,
          256,
          84,
          422,
          105,
          312,
          286
         ],
         "xaxis": "x",
         "yaxis": "y"
        }
       ],
       "layout": {
        "barmode": "relative",
        "legend": {
         "tracegroupgap": 0
        },
        "template": {
         "data": {
          "bar": [
           {
            "error_x": {
             "color": "#2a3f5f"
            },
            "error_y": {
             "color": "#2a3f5f"
            },
            "marker": {
             "line": {
              "color": "#E5ECF6",
              "width": 0.5
             },
             "pattern": {
              "fillmode": "overlay",
              "size": 10,
              "solidity": 0.2
             }
            },
            "type": "bar"
           }
          ],
          "barpolar": [
           {
            "marker": {
             "line": {
              "color": "#E5ECF6",
              "width": 0.5
             },
             "pattern": {
              "fillmode": "overlay",
              "size": 10,
              "solidity": 0.2
             }
            },
            "type": "barpolar"
           }
          ],
          "carpet": [
           {
            "aaxis": {
             "endlinecolor": "#2a3f5f",
             "gridcolor": "white",
             "linecolor": "white",
             "minorgridcolor": "white",
             "startlinecolor": "#2a3f5f"
            },
            "baxis": {
             "endlinecolor": "#2a3f5f",
             "gridcolor": "white",
             "linecolor": "white",
             "minorgridcolor": "white",
             "startlinecolor": "#2a3f5f"
            },
            "type": "carpet"
           }
          ],
          "choropleth": [
           {
            "colorbar": {
             "outlinewidth": 0,
             "ticks": ""
            },
            "type": "choropleth"
           }
          ],
          "contour": [
           {
            "colorbar": {
             "outlinewidth": 0,
             "ticks": ""
            },
            "colorscale": [
             [
              0,
              "#0d0887"
             ],
             [
              0.1111111111111111,
              "#46039f"
             ],
             [
              0.2222222222222222,
              "#7201a8"
             ],
             [
              0.3333333333333333,
              "#9c179e"
             ],
             [
              0.4444444444444444,
              "#bd3786"
             ],
             [
              0.5555555555555556,
              "#d8576b"
             ],
             [
              0.6666666666666666,
              "#ed7953"
             ],
             [
              0.7777777777777778,
              "#fb9f3a"
             ],
             [
              0.8888888888888888,
              "#fdca26"
             ],
             [
              1,
              "#f0f921"
             ]
            ],
            "type": "contour"
           }
          ],
          "contourcarpet": [
           {
            "colorbar": {
             "outlinewidth": 0,
             "ticks": ""
            },
            "type": "contourcarpet"
           }
          ],
          "heatmap": [
           {
            "colorbar": {
             "outlinewidth": 0,
             "ticks": ""
            },
            "colorscale": [
             [
              0,
              "#0d0887"
             ],
             [
              0.1111111111111111,
              "#46039f"
             ],
             [
              0.2222222222222222,
              "#7201a8"
             ],
             [
              0.3333333333333333,
              "#9c179e"
             ],
             [
              0.4444444444444444,
              "#bd3786"
             ],
             [
              0.5555555555555556,
              "#d8576b"
             ],
             [
              0.6666666666666666,
              "#ed7953"
             ],
             [
              0.7777777777777778,
              "#fb9f3a"
             ],
             [
              0.8888888888888888,
              "#fdca26"
             ],
             [
              1,
              "#f0f921"
             ]
            ],
            "type": "heatmap"
           }
          ],
          "heatmapgl": [
           {
            "colorbar": {
             "outlinewidth": 0,
             "ticks": ""
            },
            "colorscale": [
             [
              0,
              "#0d0887"
             ],
             [
              0.1111111111111111,
              "#46039f"
             ],
             [
              0.2222222222222222,
              "#7201a8"
             ],
             [
              0.3333333333333333,
              "#9c179e"
             ],
             [
              0.4444444444444444,
              "#bd3786"
             ],
             [
              0.5555555555555556,
              "#d8576b"
             ],
             [
              0.6666666666666666,
              "#ed7953"
             ],
             [
              0.7777777777777778,
              "#fb9f3a"
             ],
             [
              0.8888888888888888,
              "#fdca26"
             ],
             [
              1,
              "#f0f921"
             ]
            ],
            "type": "heatmapgl"
           }
          ],
          "histogram": [
           {
            "marker": {
             "pattern": {
              "fillmode": "overlay",
              "size": 10,
              "solidity": 0.2
             }
            },
            "type": "histogram"
           }
          ],
          "histogram2d": [
           {
            "colorbar": {
             "outlinewidth": 0,
             "ticks": ""
            },
            "colorscale": [
             [
              0,
              "#0d0887"
             ],
             [
              0.1111111111111111,
              "#46039f"
             ],
             [
              0.2222222222222222,
              "#7201a8"
             ],
             [
              0.3333333333333333,
              "#9c179e"
             ],
             [
              0.4444444444444444,
              "#bd3786"
             ],
             [
              0.5555555555555556,
              "#d8576b"
             ],
             [
              0.6666666666666666,
              "#ed7953"
             ],
             [
              0.7777777777777778,
              "#fb9f3a"
             ],
             [
              0.8888888888888888,
              "#fdca26"
             ],
             [
              1,
              "#f0f921"
             ]
            ],
            "type": "histogram2d"
           }
          ],
          "histogram2dcontour": [
           {
            "colorbar": {
             "outlinewidth": 0,
             "ticks": ""
            },
            "colorscale": [
             [
              0,
              "#0d0887"
             ],
             [
              0.1111111111111111,
              "#46039f"
             ],
             [
              0.2222222222222222,
              "#7201a8"
             ],
             [
              0.3333333333333333,
              "#9c179e"
             ],
             [
              0.4444444444444444,
              "#bd3786"
             ],
             [
              0.5555555555555556,
              "#d8576b"
             ],
             [
              0.6666666666666666,
              "#ed7953"
             ],
             [
              0.7777777777777778,
              "#fb9f3a"
             ],
             [
              0.8888888888888888,
              "#fdca26"
             ],
             [
              1,
              "#f0f921"
             ]
            ],
            "type": "histogram2dcontour"
           }
          ],
          "mesh3d": [
           {
            "colorbar": {
             "outlinewidth": 0,
             "ticks": ""
            },
            "type": "mesh3d"
           }
          ],
          "parcoords": [
           {
            "line": {
             "colorbar": {
              "outlinewidth": 0,
              "ticks": ""
             }
            },
            "type": "parcoords"
           }
          ],
          "pie": [
           {
            "automargin": true,
            "type": "pie"
           }
          ],
          "scatter": [
           {
            "fillpattern": {
             "fillmode": "overlay",
             "size": 10,
             "solidity": 0.2
            },
            "type": "scatter"
           }
          ],
          "scatter3d": [
           {
            "line": {
             "colorbar": {
              "outlinewidth": 0,
              "ticks": ""
             }
            },
            "marker": {
             "colorbar": {
              "outlinewidth": 0,
              "ticks": ""
             }
            },
            "type": "scatter3d"
           }
          ],
          "scattercarpet": [
           {
            "marker": {
             "colorbar": {
              "outlinewidth": 0,
              "ticks": ""
             }
            },
            "type": "scattercarpet"
           }
          ],
          "scattergeo": [
           {
            "marker": {
             "colorbar": {
              "outlinewidth": 0,
              "ticks": ""
             }
            },
            "type": "scattergeo"
           }
          ],
          "scattergl": [
           {
            "marker": {
             "colorbar": {
              "outlinewidth": 0,
              "ticks": ""
             }
            },
            "type": "scattergl"
           }
          ],
          "scattermapbox": [
           {
            "marker": {
             "colorbar": {
              "outlinewidth": 0,
              "ticks": ""
             }
            },
            "type": "scattermapbox"
           }
          ],
          "scatterpolar": [
           {
            "marker": {
             "colorbar": {
              "outlinewidth": 0,
              "ticks": ""
             }
            },
            "type": "scatterpolar"
           }
          ],
          "scatterpolargl": [
           {
            "marker": {
             "colorbar": {
              "outlinewidth": 0,
              "ticks": ""
             }
            },
            "type": "scatterpolargl"
           }
          ],
          "scatterternary": [
           {
            "marker": {
             "colorbar": {
              "outlinewidth": 0,
              "ticks": ""
             }
            },
            "type": "scatterternary"
           }
          ],
          "surface": [
           {
            "colorbar": {
             "outlinewidth": 0,
             "ticks": ""
            },
            "colorscale": [
             [
              0,
              "#0d0887"
             ],
             [
              0.1111111111111111,
              "#46039f"
             ],
             [
              0.2222222222222222,
              "#7201a8"
             ],
             [
              0.3333333333333333,
              "#9c179e"
             ],
             [
              0.4444444444444444,
              "#bd3786"
             ],
             [
              0.5555555555555556,
              "#d8576b"
             ],
             [
              0.6666666666666666,
              "#ed7953"
             ],
             [
              0.7777777777777778,
              "#fb9f3a"
             ],
             [
              0.8888888888888888,
              "#fdca26"
             ],
             [
              1,
              "#f0f921"
             ]
            ],
            "type": "surface"
           }
          ],
          "table": [
           {
            "cells": {
             "fill": {
              "color": "#EBF0F8"
             },
             "line": {
              "color": "white"
             }
            },
            "header": {
             "fill": {
              "color": "#C8D4E3"
             },
             "line": {
              "color": "white"
             }
            },
            "type": "table"
           }
          ]
         },
         "layout": {
          "annotationdefaults": {
           "arrowcolor": "#2a3f5f",
           "arrowhead": 0,
           "arrowwidth": 1
          },
          "autotypenumbers": "strict",
          "coloraxis": {
           "colorbar": {
            "outlinewidth": 0,
            "ticks": ""
           }
          },
          "colorscale": {
           "diverging": [
            [
             0,
             "#8e0152"
            ],
            [
             0.1,
             "#c51b7d"
            ],
            [
             0.2,
             "#de77ae"
            ],
            [
             0.3,
             "#f1b6da"
            ],
            [
             0.4,
             "#fde0ef"
            ],
            [
             0.5,
             "#f7f7f7"
            ],
            [
             0.6,
             "#e6f5d0"
            ],
            [
             0.7,
             "#b8e186"
            ],
            [
             0.8,
             "#7fbc41"
            ],
            [
             0.9,
             "#4d9221"
            ],
            [
             1,
             "#276419"
            ]
           ],
           "sequential": [
            [
             0,
             "#0d0887"
            ],
            [
             0.1111111111111111,
             "#46039f"
            ],
            [
             0.2222222222222222,
             "#7201a8"
            ],
            [
             0.3333333333333333,
             "#9c179e"
            ],
            [
             0.4444444444444444,
             "#bd3786"
            ],
            [
             0.5555555555555556,
             "#d8576b"
            ],
            [
             0.6666666666666666,
             "#ed7953"
            ],
            [
             0.7777777777777778,
             "#fb9f3a"
            ],
            [
             0.8888888888888888,
             "#fdca26"
            ],
            [
             1,
             "#f0f921"
            ]
           ],
           "sequentialminus": [
            [
             0,
             "#0d0887"
            ],
            [
             0.1111111111111111,
             "#46039f"
            ],
            [
             0.2222222222222222,
             "#7201a8"
            ],
            [
             0.3333333333333333,
             "#9c179e"
            ],
            [
             0.4444444444444444,
             "#bd3786"
            ],
            [
             0.5555555555555556,
             "#d8576b"
            ],
            [
             0.6666666666666666,
             "#ed7953"
            ],
            [
             0.7777777777777778,
             "#fb9f3a"
            ],
            [
             0.8888888888888888,
             "#fdca26"
            ],
            [
             1,
             "#f0f921"
            ]
           ]
          },
          "colorway": [
           "#636efa",
           "#EF553B",
           "#00cc96",
           "#ab63fa",
           "#FFA15A",
           "#19d3f3",
           "#FF6692",
           "#B6E880",
           "#FF97FF",
           "#FECB52"
          ],
          "font": {
           "color": "#2a3f5f"
          },
          "geo": {
           "bgcolor": "white",
           "lakecolor": "white",
           "landcolor": "#E5ECF6",
           "showlakes": true,
           "showland": true,
           "subunitcolor": "white"
          },
          "hoverlabel": {
           "align": "left"
          },
          "hovermode": "closest",
          "mapbox": {
           "style": "light"
          },
          "paper_bgcolor": "white",
          "plot_bgcolor": "#E5ECF6",
          "polar": {
           "angularaxis": {
            "gridcolor": "white",
            "linecolor": "white",
            "ticks": ""
           },
           "bgcolor": "#E5ECF6",
           "radialaxis": {
            "gridcolor": "white",
            "linecolor": "white",
            "ticks": ""
           }
          },
          "scene": {
           "xaxis": {
            "backgroundcolor": "#E5ECF6",
            "gridcolor": "white",
            "gridwidth": 2,
            "linecolor": "white",
            "showbackground": true,
            "ticks": "",
            "zerolinecolor": "white"
           },
           "yaxis": {
            "backgroundcolor": "#E5ECF6",
            "gridcolor": "white",
            "gridwidth": 2,
            "linecolor": "white",
            "showbackground": true,
            "ticks": "",
            "zerolinecolor": "white"
           },
           "zaxis": {
            "backgroundcolor": "#E5ECF6",
            "gridcolor": "white",
            "gridwidth": 2,
            "linecolor": "white",
            "showbackground": true,
            "ticks": "",
            "zerolinecolor": "white"
           }
          },
          "shapedefaults": {
           "line": {
            "color": "#2a3f5f"
           }
          },
          "ternary": {
           "aaxis": {
            "gridcolor": "white",
            "linecolor": "white",
            "ticks": ""
           },
           "baxis": {
            "gridcolor": "white",
            "linecolor": "white",
            "ticks": ""
           },
           "bgcolor": "#E5ECF6",
           "caxis": {
            "gridcolor": "white",
            "linecolor": "white",
            "ticks": ""
           }
          },
          "title": {
           "x": 0.05
          },
          "xaxis": {
           "automargin": true,
           "gridcolor": "white",
           "linecolor": "white",
           "ticks": "",
           "title": {
            "standoff": 15
           },
           "zerolinecolor": "white",
           "zerolinewidth": 2
          },
          "yaxis": {
           "automargin": true,
           "gridcolor": "white",
           "linecolor": "white",
           "ticks": "",
           "title": {
            "standoff": 15
           },
           "zerolinecolor": "white",
           "zerolinewidth": 2
          }
         }
        },
        "title": {
         "text": "Sales Forecast Distribution"
        },
        "xaxis": {
         "anchor": "y",
         "domain": [
          0,
          1
         ],
         "title": {
          "text": "Sales Forecast"
         }
        },
        "yaxis": {
         "anchor": "x",
         "domain": [
          0,
          1
         ],
         "title": {
          "text": "Frequency"
         }
        }
       }
      }
     },
     "metadata": {},
     "output_type": "display_data"
    }
   ],
   "source": [
    "# histogram for sales forecast using plotly\n",
    "def plot_sales_forecast(df):\n",
    "    fig = px.histogram(df, x='sales_forecast', title='Sales Forecast Distribution')\n",
    "    fig.update_layout(xaxis_title='Sales Forecast', yaxis_title='Frequency')\n",
    "    fig.show()\n",
    "plot_sales_forecast(df)"
   ]
  },
  {
   "cell_type": "code",
   "execution_count": 42,
   "id": "c71042c9",
   "metadata": {},
   "outputs": [
    {
     "name": "stdout",
     "output_type": "stream",
     "text": [
      "Number of outliers detected in website_traffic: 49\n",
      "Number of outliers detected in engagement_rate: 50\n",
      "Number of outliers detected in sales_forecast: 48\n"
     ]
    }
   ],
   "source": [
    "#outlier detection using isolation forest\n",
    "from sklearn.ensemble import IsolationForest\n",
    "\n",
    "def detect_outliers(df, column):\n",
    "    iso_forest = IsolationForest(contamination=0.05, random_state=42)\n",
    "    df['outlier'] = iso_forest.fit_predict(df[[column]])\n",
    "    outliers = df[df['outlier'] == -1]\n",
    "    print(f\"Number of outliers detected in {column}: {len(outliers)}\")\n",
    "    return outliers\n",
    "outliers_traffic = detect_outliers(df, 'website_traffic')\n",
    "outliers_engagement = detect_outliers(df, 'engagement_rate')\n",
    "outliers_sales = detect_outliers(df, 'sales_forecast')"
   ]
  },
  {
   "cell_type": "code",
   "execution_count": 45,
   "id": "c866824d",
   "metadata": {},
   "outputs": [
    {
     "name": "stdout",
     "output_type": "stream",
     "text": [
      "Removed maximum outlier from website_traffic: 252\n"
     ]
    }
   ],
   "source": [
    "#remove maximun outliers from website traffic\n",
    "def remove_max_outliers(df, column):\n",
    "    max_outlier = df[column].max()\n",
    "    df_cleaned = df[df[column] < max_outlier]\n",
    "    print(f\"Removed maximum outlier from {column}: {max_outlier}\")\n",
    "    return df_cleaned\n",
    "df_cleaned_traffic = remove_max_outliers(df, 'website_traffic')"
   ]
  },
  {
   "cell_type": "code",
   "execution_count": 43,
   "id": "0416fcd2",
   "metadata": {},
   "outputs": [
    {
     "data": {
      "application/vnd.plotly.v1+json": {
       "config": {
        "plotlyServerURL": "https://plot.ly"
       },
       "data": [
        {
         "alignmentgroup": "True",
         "hovertemplate": "website_traffic=%{y}<extra></extra>",
         "legendgroup": "",
         "marker": {
          "color": "#636efa"
         },
         "name": "",
         "notched": false,
         "offsetgroup": "",
         "orientation": "v",
         "showlegend": false,
         "type": "box",
         "x0": " ",
         "xaxis": "x",
         "y": [
          235,
          161,
          167,
          172,
          165,
          231,
          239,
          160,
          165,
          169,
          168,
          246,
          168,
          171,
          237,
          168,
          172,
          232,
          233,
          245,
          174,
          165,
          169,
          174,
          169,
          252,
          234,
          172,
          239,
          171,
          171,
          174,
          171,
          169,
          169,
          238,
          171,
          242,
          165,
          170,
          233,
          171,
          172,
          233,
          235,
          166,
          231,
          232,
          171
         ],
         "y0": " ",
         "yaxis": "y"
        }
       ],
       "layout": {
        "boxmode": "group",
        "legend": {
         "tracegroupgap": 0
        },
        "template": {
         "data": {
          "bar": [
           {
            "error_x": {
             "color": "#2a3f5f"
            },
            "error_y": {
             "color": "#2a3f5f"
            },
            "marker": {
             "line": {
              "color": "#E5ECF6",
              "width": 0.5
             },
             "pattern": {
              "fillmode": "overlay",
              "size": 10,
              "solidity": 0.2
             }
            },
            "type": "bar"
           }
          ],
          "barpolar": [
           {
            "marker": {
             "line": {
              "color": "#E5ECF6",
              "width": 0.5
             },
             "pattern": {
              "fillmode": "overlay",
              "size": 10,
              "solidity": 0.2
             }
            },
            "type": "barpolar"
           }
          ],
          "carpet": [
           {
            "aaxis": {
             "endlinecolor": "#2a3f5f",
             "gridcolor": "white",
             "linecolor": "white",
             "minorgridcolor": "white",
             "startlinecolor": "#2a3f5f"
            },
            "baxis": {
             "endlinecolor": "#2a3f5f",
             "gridcolor": "white",
             "linecolor": "white",
             "minorgridcolor": "white",
             "startlinecolor": "#2a3f5f"
            },
            "type": "carpet"
           }
          ],
          "choropleth": [
           {
            "colorbar": {
             "outlinewidth": 0,
             "ticks": ""
            },
            "type": "choropleth"
           }
          ],
          "contour": [
           {
            "colorbar": {
             "outlinewidth": 0,
             "ticks": ""
            },
            "colorscale": [
             [
              0,
              "#0d0887"
             ],
             [
              0.1111111111111111,
              "#46039f"
             ],
             [
              0.2222222222222222,
              "#7201a8"
             ],
             [
              0.3333333333333333,
              "#9c179e"
             ],
             [
              0.4444444444444444,
              "#bd3786"
             ],
             [
              0.5555555555555556,
              "#d8576b"
             ],
             [
              0.6666666666666666,
              "#ed7953"
             ],
             [
              0.7777777777777778,
              "#fb9f3a"
             ],
             [
              0.8888888888888888,
              "#fdca26"
             ],
             [
              1,
              "#f0f921"
             ]
            ],
            "type": "contour"
           }
          ],
          "contourcarpet": [
           {
            "colorbar": {
             "outlinewidth": 0,
             "ticks": ""
            },
            "type": "contourcarpet"
           }
          ],
          "heatmap": [
           {
            "colorbar": {
             "outlinewidth": 0,
             "ticks": ""
            },
            "colorscale": [
             [
              0,
              "#0d0887"
             ],
             [
              0.1111111111111111,
              "#46039f"
             ],
             [
              0.2222222222222222,
              "#7201a8"
             ],
             [
              0.3333333333333333,
              "#9c179e"
             ],
             [
              0.4444444444444444,
              "#bd3786"
             ],
             [
              0.5555555555555556,
              "#d8576b"
             ],
             [
              0.6666666666666666,
              "#ed7953"
             ],
             [
              0.7777777777777778,
              "#fb9f3a"
             ],
             [
              0.8888888888888888,
              "#fdca26"
             ],
             [
              1,
              "#f0f921"
             ]
            ],
            "type": "heatmap"
           }
          ],
          "heatmapgl": [
           {
            "colorbar": {
             "outlinewidth": 0,
             "ticks": ""
            },
            "colorscale": [
             [
              0,
              "#0d0887"
             ],
             [
              0.1111111111111111,
              "#46039f"
             ],
             [
              0.2222222222222222,
              "#7201a8"
             ],
             [
              0.3333333333333333,
              "#9c179e"
             ],
             [
              0.4444444444444444,
              "#bd3786"
             ],
             [
              0.5555555555555556,
              "#d8576b"
             ],
             [
              0.6666666666666666,
              "#ed7953"
             ],
             [
              0.7777777777777778,
              "#fb9f3a"
             ],
             [
              0.8888888888888888,
              "#fdca26"
             ],
             [
              1,
              "#f0f921"
             ]
            ],
            "type": "heatmapgl"
           }
          ],
          "histogram": [
           {
            "marker": {
             "pattern": {
              "fillmode": "overlay",
              "size": 10,
              "solidity": 0.2
             }
            },
            "type": "histogram"
           }
          ],
          "histogram2d": [
           {
            "colorbar": {
             "outlinewidth": 0,
             "ticks": ""
            },
            "colorscale": [
             [
              0,
              "#0d0887"
             ],
             [
              0.1111111111111111,
              "#46039f"
             ],
             [
              0.2222222222222222,
              "#7201a8"
             ],
             [
              0.3333333333333333,
              "#9c179e"
             ],
             [
              0.4444444444444444,
              "#bd3786"
             ],
             [
              0.5555555555555556,
              "#d8576b"
             ],
             [
              0.6666666666666666,
              "#ed7953"
             ],
             [
              0.7777777777777778,
              "#fb9f3a"
             ],
             [
              0.8888888888888888,
              "#fdca26"
             ],
             [
              1,
              "#f0f921"
             ]
            ],
            "type": "histogram2d"
           }
          ],
          "histogram2dcontour": [
           {
            "colorbar": {
             "outlinewidth": 0,
             "ticks": ""
            },
            "colorscale": [
             [
              0,
              "#0d0887"
             ],
             [
              0.1111111111111111,
              "#46039f"
             ],
             [
              0.2222222222222222,
              "#7201a8"
             ],
             [
              0.3333333333333333,
              "#9c179e"
             ],
             [
              0.4444444444444444,
              "#bd3786"
             ],
             [
              0.5555555555555556,
              "#d8576b"
             ],
             [
              0.6666666666666666,
              "#ed7953"
             ],
             [
              0.7777777777777778,
              "#fb9f3a"
             ],
             [
              0.8888888888888888,
              "#fdca26"
             ],
             [
              1,
              "#f0f921"
             ]
            ],
            "type": "histogram2dcontour"
           }
          ],
          "mesh3d": [
           {
            "colorbar": {
             "outlinewidth": 0,
             "ticks": ""
            },
            "type": "mesh3d"
           }
          ],
          "parcoords": [
           {
            "line": {
             "colorbar": {
              "outlinewidth": 0,
              "ticks": ""
             }
            },
            "type": "parcoords"
           }
          ],
          "pie": [
           {
            "automargin": true,
            "type": "pie"
           }
          ],
          "scatter": [
           {
            "fillpattern": {
             "fillmode": "overlay",
             "size": 10,
             "solidity": 0.2
            },
            "type": "scatter"
           }
          ],
          "scatter3d": [
           {
            "line": {
             "colorbar": {
              "outlinewidth": 0,
              "ticks": ""
             }
            },
            "marker": {
             "colorbar": {
              "outlinewidth": 0,
              "ticks": ""
             }
            },
            "type": "scatter3d"
           }
          ],
          "scattercarpet": [
           {
            "marker": {
             "colorbar": {
              "outlinewidth": 0,
              "ticks": ""
             }
            },
            "type": "scattercarpet"
           }
          ],
          "scattergeo": [
           {
            "marker": {
             "colorbar": {
              "outlinewidth": 0,
              "ticks": ""
             }
            },
            "type": "scattergeo"
           }
          ],
          "scattergl": [
           {
            "marker": {
             "colorbar": {
              "outlinewidth": 0,
              "ticks": ""
             }
            },
            "type": "scattergl"
           }
          ],
          "scattermapbox": [
           {
            "marker": {
             "colorbar": {
              "outlinewidth": 0,
              "ticks": ""
             }
            },
            "type": "scattermapbox"
           }
          ],
          "scatterpolar": [
           {
            "marker": {
             "colorbar": {
              "outlinewidth": 0,
              "ticks": ""
             }
            },
            "type": "scatterpolar"
           }
          ],
          "scatterpolargl": [
           {
            "marker": {
             "colorbar": {
              "outlinewidth": 0,
              "ticks": ""
             }
            },
            "type": "scatterpolargl"
           }
          ],
          "scatterternary": [
           {
            "marker": {
             "colorbar": {
              "outlinewidth": 0,
              "ticks": ""
             }
            },
            "type": "scatterternary"
           }
          ],
          "surface": [
           {
            "colorbar": {
             "outlinewidth": 0,
             "ticks": ""
            },
            "colorscale": [
             [
              0,
              "#0d0887"
             ],
             [
              0.1111111111111111,
              "#46039f"
             ],
             [
              0.2222222222222222,
              "#7201a8"
             ],
             [
              0.3333333333333333,
              "#9c179e"
             ],
             [
              0.4444444444444444,
              "#bd3786"
             ],
             [
              0.5555555555555556,
              "#d8576b"
             ],
             [
              0.6666666666666666,
              "#ed7953"
             ],
             [
              0.7777777777777778,
              "#fb9f3a"
             ],
             [
              0.8888888888888888,
              "#fdca26"
             ],
             [
              1,
              "#f0f921"
             ]
            ],
            "type": "surface"
           }
          ],
          "table": [
           {
            "cells": {
             "fill": {
              "color": "#EBF0F8"
             },
             "line": {
              "color": "white"
             }
            },
            "header": {
             "fill": {
              "color": "#C8D4E3"
             },
             "line": {
              "color": "white"
             }
            },
            "type": "table"
           }
          ]
         },
         "layout": {
          "annotationdefaults": {
           "arrowcolor": "#2a3f5f",
           "arrowhead": 0,
           "arrowwidth": 1
          },
          "autotypenumbers": "strict",
          "coloraxis": {
           "colorbar": {
            "outlinewidth": 0,
            "ticks": ""
           }
          },
          "colorscale": {
           "diverging": [
            [
             0,
             "#8e0152"
            ],
            [
             0.1,
             "#c51b7d"
            ],
            [
             0.2,
             "#de77ae"
            ],
            [
             0.3,
             "#f1b6da"
            ],
            [
             0.4,
             "#fde0ef"
            ],
            [
             0.5,
             "#f7f7f7"
            ],
            [
             0.6,
             "#e6f5d0"
            ],
            [
             0.7,
             "#b8e186"
            ],
            [
             0.8,
             "#7fbc41"
            ],
            [
             0.9,
             "#4d9221"
            ],
            [
             1,
             "#276419"
            ]
           ],
           "sequential": [
            [
             0,
             "#0d0887"
            ],
            [
             0.1111111111111111,
             "#46039f"
            ],
            [
             0.2222222222222222,
             "#7201a8"
            ],
            [
             0.3333333333333333,
             "#9c179e"
            ],
            [
             0.4444444444444444,
             "#bd3786"
            ],
            [
             0.5555555555555556,
             "#d8576b"
            ],
            [
             0.6666666666666666,
             "#ed7953"
            ],
            [
             0.7777777777777778,
             "#fb9f3a"
            ],
            [
             0.8888888888888888,
             "#fdca26"
            ],
            [
             1,
             "#f0f921"
            ]
           ],
           "sequentialminus": [
            [
             0,
             "#0d0887"
            ],
            [
             0.1111111111111111,
             "#46039f"
            ],
            [
             0.2222222222222222,
             "#7201a8"
            ],
            [
             0.3333333333333333,
             "#9c179e"
            ],
            [
             0.4444444444444444,
             "#bd3786"
            ],
            [
             0.5555555555555556,
             "#d8576b"
            ],
            [
             0.6666666666666666,
             "#ed7953"
            ],
            [
             0.7777777777777778,
             "#fb9f3a"
            ],
            [
             0.8888888888888888,
             "#fdca26"
            ],
            [
             1,
             "#f0f921"
            ]
           ]
          },
          "colorway": [
           "#636efa",
           "#EF553B",
           "#00cc96",
           "#ab63fa",
           "#FFA15A",
           "#19d3f3",
           "#FF6692",
           "#B6E880",
           "#FF97FF",
           "#FECB52"
          ],
          "font": {
           "color": "#2a3f5f"
          },
          "geo": {
           "bgcolor": "white",
           "lakecolor": "white",
           "landcolor": "#E5ECF6",
           "showlakes": true,
           "showland": true,
           "subunitcolor": "white"
          },
          "hoverlabel": {
           "align": "left"
          },
          "hovermode": "closest",
          "mapbox": {
           "style": "light"
          },
          "paper_bgcolor": "white",
          "plot_bgcolor": "#E5ECF6",
          "polar": {
           "angularaxis": {
            "gridcolor": "white",
            "linecolor": "white",
            "ticks": ""
           },
           "bgcolor": "#E5ECF6",
           "radialaxis": {
            "gridcolor": "white",
            "linecolor": "white",
            "ticks": ""
           }
          },
          "scene": {
           "xaxis": {
            "backgroundcolor": "#E5ECF6",
            "gridcolor": "white",
            "gridwidth": 2,
            "linecolor": "white",
            "showbackground": true,
            "ticks": "",
            "zerolinecolor": "white"
           },
           "yaxis": {
            "backgroundcolor": "#E5ECF6",
            "gridcolor": "white",
            "gridwidth": 2,
            "linecolor": "white",
            "showbackground": true,
            "ticks": "",
            "zerolinecolor": "white"
           },
           "zaxis": {
            "backgroundcolor": "#E5ECF6",
            "gridcolor": "white",
            "gridwidth": 2,
            "linecolor": "white",
            "showbackground": true,
            "ticks": "",
            "zerolinecolor": "white"
           }
          },
          "shapedefaults": {
           "line": {
            "color": "#2a3f5f"
           }
          },
          "ternary": {
           "aaxis": {
            "gridcolor": "white",
            "linecolor": "white",
            "ticks": ""
           },
           "baxis": {
            "gridcolor": "white",
            "linecolor": "white",
            "ticks": ""
           },
           "bgcolor": "#E5ECF6",
           "caxis": {
            "gridcolor": "white",
            "linecolor": "white",
            "ticks": ""
           }
          },
          "title": {
           "x": 0.05
          },
          "xaxis": {
           "automargin": true,
           "gridcolor": "white",
           "linecolor": "white",
           "ticks": "",
           "title": {
            "standoff": 15
           },
           "zerolinecolor": "white",
           "zerolinewidth": 2
          },
          "yaxis": {
           "automargin": true,
           "gridcolor": "white",
           "linecolor": "white",
           "ticks": "",
           "title": {
            "standoff": 15
           },
           "zerolinecolor": "white",
           "zerolinewidth": 2
          }
         }
        },
        "title": {
         "text": "Outliers in website_traffic"
        },
        "xaxis": {
         "anchor": "y",
         "domain": [
          0,
          1
         ]
        },
        "yaxis": {
         "anchor": "x",
         "domain": [
          0,
          1
         ],
         "title": {
          "text": "website_traffic"
         }
        }
       }
      }
     },
     "metadata": {},
     "output_type": "display_data"
    },
    {
     "data": {
      "application/vnd.plotly.v1+json": {
       "config": {
        "plotlyServerURL": "https://plot.ly"
       },
       "data": [
        {
         "alignmentgroup": "True",
         "hovertemplate": "engagement_rate=%{y}<extra></extra>",
         "legendgroup": "",
         "marker": {
          "color": "#636efa"
         },
         "name": "",
         "notched": false,
         "offsetgroup": "",
         "orientation": "v",
         "showlegend": false,
         "type": "box",
         "x0": " ",
         "xaxis": "x",
         "y": [
          0.010528958245765089,
          0.011249128390482255,
          0.09800349160139199,
          0.09792878335774659,
          0.011103311145537897,
          0.010254898759024689,
          0.09656969122802891,
          0.09914809905421726,
          0.09807862012948851,
          0.099831873247836,
          0.01048557721115948,
          0.011103450510798408,
          0.09834118066509943,
          0.09786130330956992,
          0.010203293106471105,
          0.09812173505968115,
          0.09738304841837701,
          0.09946729394848848,
          0.09812359003954024,
          0.011297732904370967,
          0.010522515928709057,
          0.01123257646965592,
          0.0995217401759986,
          0.010266356791955165,
          0.09774329289669167,
          0.09979308912356345,
          0.09848893891064013,
          0.09846950583318352,
          0.011101413582281191,
          0.09876804210139163,
          0.09719678659094508,
          0.09806731380380064,
          0.09890970674406731,
          0.010204056812117617,
          0.09914927075308459,
          0.09773910986578822,
          0.01042782562700782,
          0.09674924666012025,
          0.09852716513010734,
          0.09684562667725202,
          0.09856981859959432,
          0.011275045293419484,
          0.011010083686202,
          0.010622720877436972,
          0.011281702889768718,
          0.09888348357013743,
          0.09760507012060303,
          0.09789315229868982,
          0.09836543897710379,
          0.09670425908343856
         ],
         "y0": " ",
         "yaxis": "y"
        }
       ],
       "layout": {
        "boxmode": "group",
        "legend": {
         "tracegroupgap": 0
        },
        "template": {
         "data": {
          "bar": [
           {
            "error_x": {
             "color": "#2a3f5f"
            },
            "error_y": {
             "color": "#2a3f5f"
            },
            "marker": {
             "line": {
              "color": "#E5ECF6",
              "width": 0.5
             },
             "pattern": {
              "fillmode": "overlay",
              "size": 10,
              "solidity": 0.2
             }
            },
            "type": "bar"
           }
          ],
          "barpolar": [
           {
            "marker": {
             "line": {
              "color": "#E5ECF6",
              "width": 0.5
             },
             "pattern": {
              "fillmode": "overlay",
              "size": 10,
              "solidity": 0.2
             }
            },
            "type": "barpolar"
           }
          ],
          "carpet": [
           {
            "aaxis": {
             "endlinecolor": "#2a3f5f",
             "gridcolor": "white",
             "linecolor": "white",
             "minorgridcolor": "white",
             "startlinecolor": "#2a3f5f"
            },
            "baxis": {
             "endlinecolor": "#2a3f5f",
             "gridcolor": "white",
             "linecolor": "white",
             "minorgridcolor": "white",
             "startlinecolor": "#2a3f5f"
            },
            "type": "carpet"
           }
          ],
          "choropleth": [
           {
            "colorbar": {
             "outlinewidth": 0,
             "ticks": ""
            },
            "type": "choropleth"
           }
          ],
          "contour": [
           {
            "colorbar": {
             "outlinewidth": 0,
             "ticks": ""
            },
            "colorscale": [
             [
              0,
              "#0d0887"
             ],
             [
              0.1111111111111111,
              "#46039f"
             ],
             [
              0.2222222222222222,
              "#7201a8"
             ],
             [
              0.3333333333333333,
              "#9c179e"
             ],
             [
              0.4444444444444444,
              "#bd3786"
             ],
             [
              0.5555555555555556,
              "#d8576b"
             ],
             [
              0.6666666666666666,
              "#ed7953"
             ],
             [
              0.7777777777777778,
              "#fb9f3a"
             ],
             [
              0.8888888888888888,
              "#fdca26"
             ],
             [
              1,
              "#f0f921"
             ]
            ],
            "type": "contour"
           }
          ],
          "contourcarpet": [
           {
            "colorbar": {
             "outlinewidth": 0,
             "ticks": ""
            },
            "type": "contourcarpet"
           }
          ],
          "heatmap": [
           {
            "colorbar": {
             "outlinewidth": 0,
             "ticks": ""
            },
            "colorscale": [
             [
              0,
              "#0d0887"
             ],
             [
              0.1111111111111111,
              "#46039f"
             ],
             [
              0.2222222222222222,
              "#7201a8"
             ],
             [
              0.3333333333333333,
              "#9c179e"
             ],
             [
              0.4444444444444444,
              "#bd3786"
             ],
             [
              0.5555555555555556,
              "#d8576b"
             ],
             [
              0.6666666666666666,
              "#ed7953"
             ],
             [
              0.7777777777777778,
              "#fb9f3a"
             ],
             [
              0.8888888888888888,
              "#fdca26"
             ],
             [
              1,
              "#f0f921"
             ]
            ],
            "type": "heatmap"
           }
          ],
          "heatmapgl": [
           {
            "colorbar": {
             "outlinewidth": 0,
             "ticks": ""
            },
            "colorscale": [
             [
              0,
              "#0d0887"
             ],
             [
              0.1111111111111111,
              "#46039f"
             ],
             [
              0.2222222222222222,
              "#7201a8"
             ],
             [
              0.3333333333333333,
              "#9c179e"
             ],
             [
              0.4444444444444444,
              "#bd3786"
             ],
             [
              0.5555555555555556,
              "#d8576b"
             ],
             [
              0.6666666666666666,
              "#ed7953"
             ],
             [
              0.7777777777777778,
              "#fb9f3a"
             ],
             [
              0.8888888888888888,
              "#fdca26"
             ],
             [
              1,
              "#f0f921"
             ]
            ],
            "type": "heatmapgl"
           }
          ],
          "histogram": [
           {
            "marker": {
             "pattern": {
              "fillmode": "overlay",
              "size": 10,
              "solidity": 0.2
             }
            },
            "type": "histogram"
           }
          ],
          "histogram2d": [
           {
            "colorbar": {
             "outlinewidth": 0,
             "ticks": ""
            },
            "colorscale": [
             [
              0,
              "#0d0887"
             ],
             [
              0.1111111111111111,
              "#46039f"
             ],
             [
              0.2222222222222222,
              "#7201a8"
             ],
             [
              0.3333333333333333,
              "#9c179e"
             ],
             [
              0.4444444444444444,
              "#bd3786"
             ],
             [
              0.5555555555555556,
              "#d8576b"
             ],
             [
              0.6666666666666666,
              "#ed7953"
             ],
             [
              0.7777777777777778,
              "#fb9f3a"
             ],
             [
              0.8888888888888888,
              "#fdca26"
             ],
             [
              1,
              "#f0f921"
             ]
            ],
            "type": "histogram2d"
           }
          ],
          "histogram2dcontour": [
           {
            "colorbar": {
             "outlinewidth": 0,
             "ticks": ""
            },
            "colorscale": [
             [
              0,
              "#0d0887"
             ],
             [
              0.1111111111111111,
              "#46039f"
             ],
             [
              0.2222222222222222,
              "#7201a8"
             ],
             [
              0.3333333333333333,
              "#9c179e"
             ],
             [
              0.4444444444444444,
              "#bd3786"
             ],
             [
              0.5555555555555556,
              "#d8576b"
             ],
             [
              0.6666666666666666,
              "#ed7953"
             ],
             [
              0.7777777777777778,
              "#fb9f3a"
             ],
             [
              0.8888888888888888,
              "#fdca26"
             ],
             [
              1,
              "#f0f921"
             ]
            ],
            "type": "histogram2dcontour"
           }
          ],
          "mesh3d": [
           {
            "colorbar": {
             "outlinewidth": 0,
             "ticks": ""
            },
            "type": "mesh3d"
           }
          ],
          "parcoords": [
           {
            "line": {
             "colorbar": {
              "outlinewidth": 0,
              "ticks": ""
             }
            },
            "type": "parcoords"
           }
          ],
          "pie": [
           {
            "automargin": true,
            "type": "pie"
           }
          ],
          "scatter": [
           {
            "fillpattern": {
             "fillmode": "overlay",
             "size": 10,
             "solidity": 0.2
            },
            "type": "scatter"
           }
          ],
          "scatter3d": [
           {
            "line": {
             "colorbar": {
              "outlinewidth": 0,
              "ticks": ""
             }
            },
            "marker": {
             "colorbar": {
              "outlinewidth": 0,
              "ticks": ""
             }
            },
            "type": "scatter3d"
           }
          ],
          "scattercarpet": [
           {
            "marker": {
             "colorbar": {
              "outlinewidth": 0,
              "ticks": ""
             }
            },
            "type": "scattercarpet"
           }
          ],
          "scattergeo": [
           {
            "marker": {
             "colorbar": {
              "outlinewidth": 0,
              "ticks": ""
             }
            },
            "type": "scattergeo"
           }
          ],
          "scattergl": [
           {
            "marker": {
             "colorbar": {
              "outlinewidth": 0,
              "ticks": ""
             }
            },
            "type": "scattergl"
           }
          ],
          "scattermapbox": [
           {
            "marker": {
             "colorbar": {
              "outlinewidth": 0,
              "ticks": ""
             }
            },
            "type": "scattermapbox"
           }
          ],
          "scatterpolar": [
           {
            "marker": {
             "colorbar": {
              "outlinewidth": 0,
              "ticks": ""
             }
            },
            "type": "scatterpolar"
           }
          ],
          "scatterpolargl": [
           {
            "marker": {
             "colorbar": {
              "outlinewidth": 0,
              "ticks": ""
             }
            },
            "type": "scatterpolargl"
           }
          ],
          "scatterternary": [
           {
            "marker": {
             "colorbar": {
              "outlinewidth": 0,
              "ticks": ""
             }
            },
            "type": "scatterternary"
           }
          ],
          "surface": [
           {
            "colorbar": {
             "outlinewidth": 0,
             "ticks": ""
            },
            "colorscale": [
             [
              0,
              "#0d0887"
             ],
             [
              0.1111111111111111,
              "#46039f"
             ],
             [
              0.2222222222222222,
              "#7201a8"
             ],
             [
              0.3333333333333333,
              "#9c179e"
             ],
             [
              0.4444444444444444,
              "#bd3786"
             ],
             [
              0.5555555555555556,
              "#d8576b"
             ],
             [
              0.6666666666666666,
              "#ed7953"
             ],
             [
              0.7777777777777778,
              "#fb9f3a"
             ],
             [
              0.8888888888888888,
              "#fdca26"
             ],
             [
              1,
              "#f0f921"
             ]
            ],
            "type": "surface"
           }
          ],
          "table": [
           {
            "cells": {
             "fill": {
              "color": "#EBF0F8"
             },
             "line": {
              "color": "white"
             }
            },
            "header": {
             "fill": {
              "color": "#C8D4E3"
             },
             "line": {
              "color": "white"
             }
            },
            "type": "table"
           }
          ]
         },
         "layout": {
          "annotationdefaults": {
           "arrowcolor": "#2a3f5f",
           "arrowhead": 0,
           "arrowwidth": 1
          },
          "autotypenumbers": "strict",
          "coloraxis": {
           "colorbar": {
            "outlinewidth": 0,
            "ticks": ""
           }
          },
          "colorscale": {
           "diverging": [
            [
             0,
             "#8e0152"
            ],
            [
             0.1,
             "#c51b7d"
            ],
            [
             0.2,
             "#de77ae"
            ],
            [
             0.3,
             "#f1b6da"
            ],
            [
             0.4,
             "#fde0ef"
            ],
            [
             0.5,
             "#f7f7f7"
            ],
            [
             0.6,
             "#e6f5d0"
            ],
            [
             0.7,
             "#b8e186"
            ],
            [
             0.8,
             "#7fbc41"
            ],
            [
             0.9,
             "#4d9221"
            ],
            [
             1,
             "#276419"
            ]
           ],
           "sequential": [
            [
             0,
             "#0d0887"
            ],
            [
             0.1111111111111111,
             "#46039f"
            ],
            [
             0.2222222222222222,
             "#7201a8"
            ],
            [
             0.3333333333333333,
             "#9c179e"
            ],
            [
             0.4444444444444444,
             "#bd3786"
            ],
            [
             0.5555555555555556,
             "#d8576b"
            ],
            [
             0.6666666666666666,
             "#ed7953"
            ],
            [
             0.7777777777777778,
             "#fb9f3a"
            ],
            [
             0.8888888888888888,
             "#fdca26"
            ],
            [
             1,
             "#f0f921"
            ]
           ],
           "sequentialminus": [
            [
             0,
             "#0d0887"
            ],
            [
             0.1111111111111111,
             "#46039f"
            ],
            [
             0.2222222222222222,
             "#7201a8"
            ],
            [
             0.3333333333333333,
             "#9c179e"
            ],
            [
             0.4444444444444444,
             "#bd3786"
            ],
            [
             0.5555555555555556,
             "#d8576b"
            ],
            [
             0.6666666666666666,
             "#ed7953"
            ],
            [
             0.7777777777777778,
             "#fb9f3a"
            ],
            [
             0.8888888888888888,
             "#fdca26"
            ],
            [
             1,
             "#f0f921"
            ]
           ]
          },
          "colorway": [
           "#636efa",
           "#EF553B",
           "#00cc96",
           "#ab63fa",
           "#FFA15A",
           "#19d3f3",
           "#FF6692",
           "#B6E880",
           "#FF97FF",
           "#FECB52"
          ],
          "font": {
           "color": "#2a3f5f"
          },
          "geo": {
           "bgcolor": "white",
           "lakecolor": "white",
           "landcolor": "#E5ECF6",
           "showlakes": true,
           "showland": true,
           "subunitcolor": "white"
          },
          "hoverlabel": {
           "align": "left"
          },
          "hovermode": "closest",
          "mapbox": {
           "style": "light"
          },
          "paper_bgcolor": "white",
          "plot_bgcolor": "#E5ECF6",
          "polar": {
           "angularaxis": {
            "gridcolor": "white",
            "linecolor": "white",
            "ticks": ""
           },
           "bgcolor": "#E5ECF6",
           "radialaxis": {
            "gridcolor": "white",
            "linecolor": "white",
            "ticks": ""
           }
          },
          "scene": {
           "xaxis": {
            "backgroundcolor": "#E5ECF6",
            "gridcolor": "white",
            "gridwidth": 2,
            "linecolor": "white",
            "showbackground": true,
            "ticks": "",
            "zerolinecolor": "white"
           },
           "yaxis": {
            "backgroundcolor": "#E5ECF6",
            "gridcolor": "white",
            "gridwidth": 2,
            "linecolor": "white",
            "showbackground": true,
            "ticks": "",
            "zerolinecolor": "white"
           },
           "zaxis": {
            "backgroundcolor": "#E5ECF6",
            "gridcolor": "white",
            "gridwidth": 2,
            "linecolor": "white",
            "showbackground": true,
            "ticks": "",
            "zerolinecolor": "white"
           }
          },
          "shapedefaults": {
           "line": {
            "color": "#2a3f5f"
           }
          },
          "ternary": {
           "aaxis": {
            "gridcolor": "white",
            "linecolor": "white",
            "ticks": ""
           },
           "baxis": {
            "gridcolor": "white",
            "linecolor": "white",
            "ticks": ""
           },
           "bgcolor": "#E5ECF6",
           "caxis": {
            "gridcolor": "white",
            "linecolor": "white",
            "ticks": ""
           }
          },
          "title": {
           "x": 0.05
          },
          "xaxis": {
           "automargin": true,
           "gridcolor": "white",
           "linecolor": "white",
           "ticks": "",
           "title": {
            "standoff": 15
           },
           "zerolinecolor": "white",
           "zerolinewidth": 2
          },
          "yaxis": {
           "automargin": true,
           "gridcolor": "white",
           "linecolor": "white",
           "ticks": "",
           "title": {
            "standoff": 15
           },
           "zerolinecolor": "white",
           "zerolinewidth": 2
          }
         }
        },
        "title": {
         "text": "Outliers in engagement_rate"
        },
        "xaxis": {
         "anchor": "y",
         "domain": [
          0,
          1
         ]
        },
        "yaxis": {
         "anchor": "x",
         "domain": [
          0,
          1
         ],
         "title": {
          "text": "engagement_rate"
         }
        }
       }
      }
     },
     "metadata": {},
     "output_type": "display_data"
    },
    {
     "data": {
      "application/vnd.plotly.v1+json": {
       "config": {
        "plotlyServerURL": "https://plot.ly"
       },
       "data": [
        {
         "alignmentgroup": "True",
         "hovertemplate": "sales_forecast=%{y}<extra></extra>",
         "legendgroup": "",
         "marker": {
          "color": "#636efa"
         },
         "name": "",
         "notched": false,
         "offsetgroup": "",
         "orientation": "v",
         "showlegend": false,
         "type": "box",
         "x0": " ",
         "xaxis": "x",
         "y": [
          486,
          492,
          487,
          496,
          492,
          56,
          487,
          481,
          56,
          496,
          489,
          490,
          494,
          483,
          55,
          492,
          486,
          50,
          51,
          51,
          56,
          54,
          494,
          488,
          492,
          490,
          497,
          479,
          497,
          53,
          50,
          483,
          479,
          490,
          53,
          53,
          486,
          496,
          55,
          496,
          491,
          53,
          481,
          55,
          488,
          51,
          57,
          488
         ],
         "y0": " ",
         "yaxis": "y"
        }
       ],
       "layout": {
        "boxmode": "group",
        "legend": {
         "tracegroupgap": 0
        },
        "template": {
         "data": {
          "bar": [
           {
            "error_x": {
             "color": "#2a3f5f"
            },
            "error_y": {
             "color": "#2a3f5f"
            },
            "marker": {
             "line": {
              "color": "#E5ECF6",
              "width": 0.5
             },
             "pattern": {
              "fillmode": "overlay",
              "size": 10,
              "solidity": 0.2
             }
            },
            "type": "bar"
           }
          ],
          "barpolar": [
           {
            "marker": {
             "line": {
              "color": "#E5ECF6",
              "width": 0.5
             },
             "pattern": {
              "fillmode": "overlay",
              "size": 10,
              "solidity": 0.2
             }
            },
            "type": "barpolar"
           }
          ],
          "carpet": [
           {
            "aaxis": {
             "endlinecolor": "#2a3f5f",
             "gridcolor": "white",
             "linecolor": "white",
             "minorgridcolor": "white",
             "startlinecolor": "#2a3f5f"
            },
            "baxis": {
             "endlinecolor": "#2a3f5f",
             "gridcolor": "white",
             "linecolor": "white",
             "minorgridcolor": "white",
             "startlinecolor": "#2a3f5f"
            },
            "type": "carpet"
           }
          ],
          "choropleth": [
           {
            "colorbar": {
             "outlinewidth": 0,
             "ticks": ""
            },
            "type": "choropleth"
           }
          ],
          "contour": [
           {
            "colorbar": {
             "outlinewidth": 0,
             "ticks": ""
            },
            "colorscale": [
             [
              0,
              "#0d0887"
             ],
             [
              0.1111111111111111,
              "#46039f"
             ],
             [
              0.2222222222222222,
              "#7201a8"
             ],
             [
              0.3333333333333333,
              "#9c179e"
             ],
             [
              0.4444444444444444,
              "#bd3786"
             ],
             [
              0.5555555555555556,
              "#d8576b"
             ],
             [
              0.6666666666666666,
              "#ed7953"
             ],
             [
              0.7777777777777778,
              "#fb9f3a"
             ],
             [
              0.8888888888888888,
              "#fdca26"
             ],
             [
              1,
              "#f0f921"
             ]
            ],
            "type": "contour"
           }
          ],
          "contourcarpet": [
           {
            "colorbar": {
             "outlinewidth": 0,
             "ticks": ""
            },
            "type": "contourcarpet"
           }
          ],
          "heatmap": [
           {
            "colorbar": {
             "outlinewidth": 0,
             "ticks": ""
            },
            "colorscale": [
             [
              0,
              "#0d0887"
             ],
             [
              0.1111111111111111,
              "#46039f"
             ],
             [
              0.2222222222222222,
              "#7201a8"
             ],
             [
              0.3333333333333333,
              "#9c179e"
             ],
             [
              0.4444444444444444,
              "#bd3786"
             ],
             [
              0.5555555555555556,
              "#d8576b"
             ],
             [
              0.6666666666666666,
              "#ed7953"
             ],
             [
              0.7777777777777778,
              "#fb9f3a"
             ],
             [
              0.8888888888888888,
              "#fdca26"
             ],
             [
              1,
              "#f0f921"
             ]
            ],
            "type": "heatmap"
           }
          ],
          "heatmapgl": [
           {
            "colorbar": {
             "outlinewidth": 0,
             "ticks": ""
            },
            "colorscale": [
             [
              0,
              "#0d0887"
             ],
             [
              0.1111111111111111,
              "#46039f"
             ],
             [
              0.2222222222222222,
              "#7201a8"
             ],
             [
              0.3333333333333333,
              "#9c179e"
             ],
             [
              0.4444444444444444,
              "#bd3786"
             ],
             [
              0.5555555555555556,
              "#d8576b"
             ],
             [
              0.6666666666666666,
              "#ed7953"
             ],
             [
              0.7777777777777778,
              "#fb9f3a"
             ],
             [
              0.8888888888888888,
              "#fdca26"
             ],
             [
              1,
              "#f0f921"
             ]
            ],
            "type": "heatmapgl"
           }
          ],
          "histogram": [
           {
            "marker": {
             "pattern": {
              "fillmode": "overlay",
              "size": 10,
              "solidity": 0.2
             }
            },
            "type": "histogram"
           }
          ],
          "histogram2d": [
           {
            "colorbar": {
             "outlinewidth": 0,
             "ticks": ""
            },
            "colorscale": [
             [
              0,
              "#0d0887"
             ],
             [
              0.1111111111111111,
              "#46039f"
             ],
             [
              0.2222222222222222,
              "#7201a8"
             ],
             [
              0.3333333333333333,
              "#9c179e"
             ],
             [
              0.4444444444444444,
              "#bd3786"
             ],
             [
              0.5555555555555556,
              "#d8576b"
             ],
             [
              0.6666666666666666,
              "#ed7953"
             ],
             [
              0.7777777777777778,
              "#fb9f3a"
             ],
             [
              0.8888888888888888,
              "#fdca26"
             ],
             [
              1,
              "#f0f921"
             ]
            ],
            "type": "histogram2d"
           }
          ],
          "histogram2dcontour": [
           {
            "colorbar": {
             "outlinewidth": 0,
             "ticks": ""
            },
            "colorscale": [
             [
              0,
              "#0d0887"
             ],
             [
              0.1111111111111111,
              "#46039f"
             ],
             [
              0.2222222222222222,
              "#7201a8"
             ],
             [
              0.3333333333333333,
              "#9c179e"
             ],
             [
              0.4444444444444444,
              "#bd3786"
             ],
             [
              0.5555555555555556,
              "#d8576b"
             ],
             [
              0.6666666666666666,
              "#ed7953"
             ],
             [
              0.7777777777777778,
              "#fb9f3a"
             ],
             [
              0.8888888888888888,
              "#fdca26"
             ],
             [
              1,
              "#f0f921"
             ]
            ],
            "type": "histogram2dcontour"
           }
          ],
          "mesh3d": [
           {
            "colorbar": {
             "outlinewidth": 0,
             "ticks": ""
            },
            "type": "mesh3d"
           }
          ],
          "parcoords": [
           {
            "line": {
             "colorbar": {
              "outlinewidth": 0,
              "ticks": ""
             }
            },
            "type": "parcoords"
           }
          ],
          "pie": [
           {
            "automargin": true,
            "type": "pie"
           }
          ],
          "scatter": [
           {
            "fillpattern": {
             "fillmode": "overlay",
             "size": 10,
             "solidity": 0.2
            },
            "type": "scatter"
           }
          ],
          "scatter3d": [
           {
            "line": {
             "colorbar": {
              "outlinewidth": 0,
              "ticks": ""
             }
            },
            "marker": {
             "colorbar": {
              "outlinewidth": 0,
              "ticks": ""
             }
            },
            "type": "scatter3d"
           }
          ],
          "scattercarpet": [
           {
            "marker": {
             "colorbar": {
              "outlinewidth": 0,
              "ticks": ""
             }
            },
            "type": "scattercarpet"
           }
          ],
          "scattergeo": [
           {
            "marker": {
             "colorbar": {
              "outlinewidth": 0,
              "ticks": ""
             }
            },
            "type": "scattergeo"
           }
          ],
          "scattergl": [
           {
            "marker": {
             "colorbar": {
              "outlinewidth": 0,
              "ticks": ""
             }
            },
            "type": "scattergl"
           }
          ],
          "scattermapbox": [
           {
            "marker": {
             "colorbar": {
              "outlinewidth": 0,
              "ticks": ""
             }
            },
            "type": "scattermapbox"
           }
          ],
          "scatterpolar": [
           {
            "marker": {
             "colorbar": {
              "outlinewidth": 0,
              "ticks": ""
             }
            },
            "type": "scatterpolar"
           }
          ],
          "scatterpolargl": [
           {
            "marker": {
             "colorbar": {
              "outlinewidth": 0,
              "ticks": ""
             }
            },
            "type": "scatterpolargl"
           }
          ],
          "scatterternary": [
           {
            "marker": {
             "colorbar": {
              "outlinewidth": 0,
              "ticks": ""
             }
            },
            "type": "scatterternary"
           }
          ],
          "surface": [
           {
            "colorbar": {
             "outlinewidth": 0,
             "ticks": ""
            },
            "colorscale": [
             [
              0,
              "#0d0887"
             ],
             [
              0.1111111111111111,
              "#46039f"
             ],
             [
              0.2222222222222222,
              "#7201a8"
             ],
             [
              0.3333333333333333,
              "#9c179e"
             ],
             [
              0.4444444444444444,
              "#bd3786"
             ],
             [
              0.5555555555555556,
              "#d8576b"
             ],
             [
              0.6666666666666666,
              "#ed7953"
             ],
             [
              0.7777777777777778,
              "#fb9f3a"
             ],
             [
              0.8888888888888888,
              "#fdca26"
             ],
             [
              1,
              "#f0f921"
             ]
            ],
            "type": "surface"
           }
          ],
          "table": [
           {
            "cells": {
             "fill": {
              "color": "#EBF0F8"
             },
             "line": {
              "color": "white"
             }
            },
            "header": {
             "fill": {
              "color": "#C8D4E3"
             },
             "line": {
              "color": "white"
             }
            },
            "type": "table"
           }
          ]
         },
         "layout": {
          "annotationdefaults": {
           "arrowcolor": "#2a3f5f",
           "arrowhead": 0,
           "arrowwidth": 1
          },
          "autotypenumbers": "strict",
          "coloraxis": {
           "colorbar": {
            "outlinewidth": 0,
            "ticks": ""
           }
          },
          "colorscale": {
           "diverging": [
            [
             0,
             "#8e0152"
            ],
            [
             0.1,
             "#c51b7d"
            ],
            [
             0.2,
             "#de77ae"
            ],
            [
             0.3,
             "#f1b6da"
            ],
            [
             0.4,
             "#fde0ef"
            ],
            [
             0.5,
             "#f7f7f7"
            ],
            [
             0.6,
             "#e6f5d0"
            ],
            [
             0.7,
             "#b8e186"
            ],
            [
             0.8,
             "#7fbc41"
            ],
            [
             0.9,
             "#4d9221"
            ],
            [
             1,
             "#276419"
            ]
           ],
           "sequential": [
            [
             0,
             "#0d0887"
            ],
            [
             0.1111111111111111,
             "#46039f"
            ],
            [
             0.2222222222222222,
             "#7201a8"
            ],
            [
             0.3333333333333333,
             "#9c179e"
            ],
            [
             0.4444444444444444,
             "#bd3786"
            ],
            [
             0.5555555555555556,
             "#d8576b"
            ],
            [
             0.6666666666666666,
             "#ed7953"
            ],
            [
             0.7777777777777778,
             "#fb9f3a"
            ],
            [
             0.8888888888888888,
             "#fdca26"
            ],
            [
             1,
             "#f0f921"
            ]
           ],
           "sequentialminus": [
            [
             0,
             "#0d0887"
            ],
            [
             0.1111111111111111,
             "#46039f"
            ],
            [
             0.2222222222222222,
             "#7201a8"
            ],
            [
             0.3333333333333333,
             "#9c179e"
            ],
            [
             0.4444444444444444,
             "#bd3786"
            ],
            [
             0.5555555555555556,
             "#d8576b"
            ],
            [
             0.6666666666666666,
             "#ed7953"
            ],
            [
             0.7777777777777778,
             "#fb9f3a"
            ],
            [
             0.8888888888888888,
             "#fdca26"
            ],
            [
             1,
             "#f0f921"
            ]
           ]
          },
          "colorway": [
           "#636efa",
           "#EF553B",
           "#00cc96",
           "#ab63fa",
           "#FFA15A",
           "#19d3f3",
           "#FF6692",
           "#B6E880",
           "#FF97FF",
           "#FECB52"
          ],
          "font": {
           "color": "#2a3f5f"
          },
          "geo": {
           "bgcolor": "white",
           "lakecolor": "white",
           "landcolor": "#E5ECF6",
           "showlakes": true,
           "showland": true,
           "subunitcolor": "white"
          },
          "hoverlabel": {
           "align": "left"
          },
          "hovermode": "closest",
          "mapbox": {
           "style": "light"
          },
          "paper_bgcolor": "white",
          "plot_bgcolor": "#E5ECF6",
          "polar": {
           "angularaxis": {
            "gridcolor": "white",
            "linecolor": "white",
            "ticks": ""
           },
           "bgcolor": "#E5ECF6",
           "radialaxis": {
            "gridcolor": "white",
            "linecolor": "white",
            "ticks": ""
           }
          },
          "scene": {
           "xaxis": {
            "backgroundcolor": "#E5ECF6",
            "gridcolor": "white",
            "gridwidth": 2,
            "linecolor": "white",
            "showbackground": true,
            "ticks": "",
            "zerolinecolor": "white"
           },
           "yaxis": {
            "backgroundcolor": "#E5ECF6",
            "gridcolor": "white",
            "gridwidth": 2,
            "linecolor": "white",
            "showbackground": true,
            "ticks": "",
            "zerolinecolor": "white"
           },
           "zaxis": {
            "backgroundcolor": "#E5ECF6",
            "gridcolor": "white",
            "gridwidth": 2,
            "linecolor": "white",
            "showbackground": true,
            "ticks": "",
            "zerolinecolor": "white"
           }
          },
          "shapedefaults": {
           "line": {
            "color": "#2a3f5f"
           }
          },
          "ternary": {
           "aaxis": {
            "gridcolor": "white",
            "linecolor": "white",
            "ticks": ""
           },
           "baxis": {
            "gridcolor": "white",
            "linecolor": "white",
            "ticks": ""
           },
           "bgcolor": "#E5ECF6",
           "caxis": {
            "gridcolor": "white",
            "linecolor": "white",
            "ticks": ""
           }
          },
          "title": {
           "x": 0.05
          },
          "xaxis": {
           "automargin": true,
           "gridcolor": "white",
           "linecolor": "white",
           "ticks": "",
           "title": {
            "standoff": 15
           },
           "zerolinecolor": "white",
           "zerolinewidth": 2
          },
          "yaxis": {
           "automargin": true,
           "gridcolor": "white",
           "linecolor": "white",
           "ticks": "",
           "title": {
            "standoff": 15
           },
           "zerolinecolor": "white",
           "zerolinewidth": 2
          }
         }
        },
        "title": {
         "text": "Outliers in sales_forecast"
        },
        "xaxis": {
         "anchor": "y",
         "domain": [
          0,
          1
         ]
        },
        "yaxis": {
         "anchor": "x",
         "domain": [
          0,
          1
         ],
         "title": {
          "text": "sales_forecast"
         }
        }
       }
      }
     },
     "metadata": {},
     "output_type": "display_data"
    }
   ],
   "source": [
    "# visualize outliers\n",
    "def plot_outliers(df, column):\n",
    "    fig = px.box(df, y=column, title=f'Outliers in {column}')\n",
    "    fig.update_layout(yaxis_title=column)\n",
    "    fig.show()\n",
    "plot_outliers(outliers_traffic, 'website_traffic')\n",
    "plot_outliers(outliers_engagement, 'engagement_rate')\n",
    "plot_outliers(outliers_sales, 'sales_forecast')\n",
    "\n"
   ]
  },
  {
   "cell_type": "code",
   "execution_count": 87,
   "id": "7dbdb252",
   "metadata": {},
   "outputs": [
    {
     "name": "stdout",
     "output_type": "stream",
     "text": [
      "Seasonal fluctuations converted to numeric values.\n",
      "Market trends converted to numeric values.\n"
     ]
    }
   ],
   "source": [
    "#CONVERT seasonal_fluctuations INTO NUMERIC VALUES\n",
    "def convert_seasonal_fluctuations(df):\n",
    "    seasonal_mapping = {\n",
    "        'Spring': 1,\n",
    "        'Summer': 2,\n",
    "        'Autumn': 3,\n",
    "        'Winter': 4\n",
    "    }\n",
    "    df['seasonal_fluctuations'] = df['seasonal_fluctuations'].map(seasonal_mapping)\n",
    "    print(\"Seasonal fluctuations converted to numeric values.\")\n",
    "    return df\n",
    "df = convert_seasonal_fluctuations(df)\n",
    "\n",
    "#convert market trends into numeric values\n",
    "def convert_market_trends(df):\n",
    "    market_trend_mapping = {\n",
    "        'Upward': 1,\n",
    "        'Downward': 2,\n",
    "        'Stable': 3\n",
    "    }\n",
    "    df['market_trends'] = df['market_trends'].map(market_trend_mapping)\n",
    "    print(\"Market trends converted to numeric values.\")\n",
    "    return df\n",
    "df = convert_market_trends(df)"
   ]
  },
  {
   "cell_type": "code",
   "execution_count": 151,
   "id": "2a3eb477",
   "metadata": {},
   "outputs": [
    {
     "data": {
      "application/vnd.plotly.v1+json": {
       "config": {
        "plotlyServerURL": "https://plot.ly"
       },
       "data": [
        {
         "alignmentgroup": "True",
         "bingroup": "x",
         "hovertemplate": "ConversionRate=%{x}<br>count=%{y}<extra></extra>",
         "legendgroup": "",
         "marker": {
          "color": "#636efa",
          "pattern": {
           "shape": ""
          }
         },
         "name": "",
         "offsetgroup": "",
         "orientation": "v",
         "showlegend": false,
         "type": "histogram",
         "x": [
          0.475,
          2.5051546391752577,
          1.4031413612565444,
          2.1674641148325358,
          1.3802083333333333,
          1.3574468085106384,
          2.510204081632653,
          0.5186915887850467,
          0.3299492385786802,
          1.8577981651376148,
          2.1310679611650487,
          1.3264248704663213,
          1.8571428571428572,
          1.4951456310679612,
          0.6415094339622641,
          1.675531914893617,
          0.7883597883597884,
          1.0724637681159421,
          0.8465346534653465,
          1.3031674208144797,
          1.9042553191489362,
          1.3668341708542713,
          0.8691588785046729,
          2.285024154589372,
          0.5920398009950248,
          1.9893617021276595,
          1.702970297029703,
          0.46078431372549017,
          1.0192307692307692,
          0.29850746268656714,
          0.484375,
          2.0796019900497513,
          1.6157407407407407,
          1.1853932584269662,
          2.45959595959596,
          1.62,
          1.8867924528301887,
          2.1940298507462686,
          1.3567567567567567,
          0.9841269841269841,
          1.0679611650485437,
          0.5739910313901345,
          1.0812182741116751,
          2.4145077720207255,
          0.8506787330316742,
          2.3944444444444444,
          2.2236024844720497,
          0.8290155440414507,
          1.8028169014084507,
          1.3125,
          1.1990521327014219,
          1.3235294117647058,
          1.6439024390243901,
          1.976878612716763,
          2.230392156862745,
          1.46,
          1.5229357798165137,
          1.4343434343434343,
          0.9629629629629629,
          2.041095890410959,
          0.647887323943662,
          1.2425742574257426,
          2.1797235023041477,
          0.31443298969072164,
          2.0044444444444443,
          2.409090909090909,
          0.41743119266055045,
          1.291005291005291,
          0.9779005524861878,
          0.2897196261682243,
          2.492462311557789,
          2.1770833333333335,
          2.443820224719101,
          1.0695652173913044,
          0.41706161137440756,
          2.0646766169154227,
          0.6323529411764706,
          2.46,
          0.7216981132075472,
          1.9312169312169312,
          1.311377245508982,
          0.84,
          1.8484848484848484,
          1.1067961165048543,
          2.191919191919192,
          2.1030927835051547,
          0.798941798941799,
          2.1586538461538463,
          1.3121951219512196,
          2.235576923076923,
          0.9537037037037037,
          0.9019607843137255,
          0.2692307692307692,
          0.7373737373737373,
          1.1025641025641026,
          1.308695652173913,
          0.9195979899497487,
          2.1971153846153846,
          1.9090909090909092,
          0.6735751295336787,
          2.211267605633803,
          0.3621621621621622,
          0.6473684210526316,
          1.0989583333333333,
          0.2761904761904762,
          1.9625668449197862,
          1.594871794871795,
          1.6981132075471699,
          1.2807881773399015,
          1.7219730941704037,
          2.265625,
          2.13265306122449,
          2.4232804232804233,
          0.7668393782383419,
          0.581151832460733,
          1.8546511627906976,
          0.47342995169082125,
          0.28019323671497587,
          0.78125,
          1.8864864864864865,
          1.759433962264151,
          1.5454545454545454,
          0.295,
          2.435,
          1.4263959390862944,
          1.3475935828877006,
          1.700507614213198,
          1.471794871794872,
          2.2110552763819094,
          0.8564102564102564,
          1.5303030303030303,
          2.374301675977654,
          2.056122448979592,
          1.685,
          1.9506726457399104,
          1.715736040609137,
          1.9710144927536233,
          1.3917525773195876,
          1.4081632653061225,
          1.7083333333333333,
          0.946078431372549,
          1.4375,
          2.5392670157068062,
          1,
          2.3014354066985647,
          0.5050505050505051,
          2.3756345177664975,
          1.596938775510204,
          0.6039603960396039,
          0.33980582524271846,
          2.3544973544973544,
          0.6934673366834171,
          0.5104166666666666,
          2.2085308056872037,
          0.8351063829787234,
          0.9055555555555556,
          0.6178010471204188,
          1.8190954773869348,
          2.0276497695852536,
          1.5879396984924623,
          1.21256038647343,
          1.7098214285714286,
          1.5735294117647058,
          0.44680851063829785,
          2.271356783919598,
          0.39712918660287083,
          1.165,
          0.9147727272727273,
          0.9893048128342246,
          1.3138075313807531,
          1.0441176470588236,
          0.28,
          0.551219512195122,
          0.9209039548022598,
          0.583732057416268,
          2.1019417475728157,
          1.0673076923076923,
          2.089385474860335,
          0.6342592592592593,
          1.1365638766519823,
          0.3768844221105528,
          0.3175355450236967,
          2.505050505050505,
          1.522167487684729,
          1.9545454545454546,
          1.9253731343283582,
          0.4263157894736842,
          0.38125,
          1.0471698113207548,
          2.005291005291005,
          1.1133004926108374,
          1.8509615384615385,
          2.533678756476684,
          2.5,
          0.9166666666666666,
          1.2239583333333333,
          1.9454545454545455,
          0.43902439024390244,
          0.8472906403940886,
          1.809090909090909,
          1.4705882352941178,
          2.081730769230769,
          2.144278606965174,
          1.3932038834951457,
          1.314410480349345,
          0.3238095238095238,
          1.265625,
          0.2743362831858407,
          2.5260416666666665,
          1.3302752293577982,
          1.1522842639593909,
          1.914691943127962,
          1.268041237113402,
          2.0543478260869565,
          2.21301775147929,
          1.1025641025641026,
          0.38349514563106796,
          1.3177083333333333,
          2.175609756097561,
          1.02,
          0.9073170731707317,
          0.5297029702970297,
          0.4700460829493088,
          0.32367149758454106,
          0.9464285714285714,
          1.6080402010050252,
          1.6702127659574468,
          1.0606060606060606,
          0.6698564593301436,
          1.3611111111111112,
          0.9642857142857143,
          2.300469483568075,
          0.3701923076923077,
          1.7658536585365854,
          1.9035087719298245,
          0.6747967479674797,
          0.8465608465608465,
          1.647887323943662,
          1.6981981981981982,
          2.1216216216216215,
          1.7435897435897436,
          1.900497512437811,
          1.7981220657276995,
          1.7064220183486238,
          0.5794871794871795,
          0.920704845814978,
          2.047872340425532,
          0.46445497630331756,
          1,
          1.9090909090909092,
          1.989247311827957,
          0.7636363636363637,
          0.5369458128078818,
          2.0707547169811322,
          2.7261904761904763,
          1.7567567567567568,
          1.5797101449275361,
          0.40512820512820513,
          1.2163461538461537,
          1.7681159420289856,
          0.44144144144144143,
          1.1953488372093024,
          1.3853658536585365,
          1.8772727272727272,
          1.273972602739726,
          1.27,
          2.356382978723404,
          1.231958762886598,
          1.2952380952380953,
          0.7663043478260869,
          2.303921568627451,
          1.6363636363636365,
          0.5614035087719298,
          1.6600985221674878,
          0.700507614213198,
          2.1497326203208558,
          1.7429906542056075,
          2,
          1.8446601941747574,
          0.8245614035087719,
          2.109375,
          1.4322916666666667,
          0.5353982300884956,
          0.5858585858585859,
          2.641711229946524,
          0.7405405405405405,
          0.6086956521739131,
          1.5053763440860215,
          0.5412844036697247,
          1.4814814814814814,
          2.0869565217391304,
          2.4461538461538463,
          2.225806451612903,
          1.263157894736842,
          2.134020618556701,
          1.0634146341463415,
          1.638743455497382,
          2.04,
          1.8387096774193548,
          0.34574468085106386,
          2.1944444444444446,
          0.5571428571428572,
          0.7536231884057971,
          1.6330275229357798,
          2.1941747572815533,
          2.2,
          0.6141304347826086,
          2.474860335195531,
          0.8994708994708994,
          2.5208333333333335,
          0.5104166666666666,
          1.0098522167487685,
          2.032967032967033,
          0.8659217877094972,
          1.0216216216216216,
          2.2587064676616917,
          0.45365853658536587,
          1.8307692307692307,
          1.1724137931034482,
          0.7075471698113207,
          0.8870056497175142,
          2.1758793969849246,
          0.5911602209944752,
          1.4906542056074767,
          0.3802083333333333,
          0.9,
          1.8105726872246697,
          0.248868778280543,
          0.989247311827957,
          1.1408450704225352,
          0.33707865168539325,
          1.0251256281407035,
          2.1414634146341465,
          0.5106382978723404,
          1.879396984924623,
          1.2658959537572254,
          1.0050251256281406,
          1.497560975609756,
          1.5427135678391959,
          2.5698924731182795,
          1.9175257731958764,
          2.0558375634517767,
          0.6852791878172588,
          2.238095238095238,
          1.6269430051813472,
          2.2364532019704435,
          0.925,
          0.6540084388185654,
          1.7027027027027026,
          0.42201834862385323,
          1.7920792079207921,
          1.8181818181818181,
          1.25,
          0.8541666666666666,
          2.128712871287129,
          0.6540284360189573,
          0.6878048780487804,
          2.523076923076923,
          2.424083769633508,
          1.9024390243902438,
          2.1040462427745665,
          1.4881516587677726,
          1.5372340425531914,
          0.9683257918552036,
          0.29411764705882354,
          2.5193370165745854,
          1.5263157894736843,
          0.7068062827225131,
          0.780952380952381,
          1.8429319371727748,
          1.2831858407079646,
          1.4137931034482758,
          0.47596153846153844,
          1.1011904761904763,
          1.8484848484848484,
          0.385,
          0.49038461538461536,
          1.8505154639175259,
          2.2094240837696337,
          0.925764192139738,
          1.7647058823529411,
          2.442211055276382,
          2.015625,
          1.1457286432160805,
          0.8676470588235294,
          0.5111111111111111,
          1.2580645161290323,
          1.1055276381909547,
          1.712707182320442,
          1.563063063063063,
          2.2944162436548226,
          1.407960199004975,
          0.5662100456621004,
          1.325242718446602,
          0.26595744680851063,
          1.2864864864864864,
          0.6551724137931034,
          0.39444444444444443,
          0.9257425742574258,
          2.2395833333333335,
          0.9825581395348837,
          2.2694300518134716,
          0.6923076923076923,
          2.156398104265403,
          0.28448275862068967,
          0.2328767123287671,
          0.5867346938775511,
          1.0394088669950738,
          1.069364161849711,
          0.22972972972972974,
          0.7712765957446809,
          2.009478672985782,
          0.8776595744680851,
          0.48,
          2.066326530612245,
          0.6296296296296297,
          0.6487804878048781,
          2.497297297297297,
          1.7450980392156863,
          1.3073394495412844,
          2.342245989304813,
          1.1630901287553648,
          1.5053191489361701,
          1.6571428571428573,
          0.9855072463768116,
          2.1746031746031744,
          0.30601092896174864,
          2.4183673469387754,
          0.4419642857142857,
          1.3191489361702127,
          2.060747663551402,
          2.295,
          1.4,
          0.5252525252525253,
          0.3877551020408163,
          1.7574257425742574,
          2.2039800995024876,
          1.4270833333333333,
          1.4663461538461537,
          1.4834123222748816,
          1.2164948453608246,
          0.27692307692307694,
          1.8631578947368421,
          0.32967032967032966,
          2.3922651933701657,
          1.5047619047619047,
          1.3004926108374384,
          1.9547511312217194,
          0.3384615384615385,
          0.786046511627907,
          1.5314009661835748,
          2.0635838150289016,
          0.6927083333333334,
          1.1979166666666667,
          0.3128205128205128,
          2.308411214953271,
          0.6363636363636364,
          1.5980861244019138,
          2.68,
          0.3824884792626728,
          0.845360824742268,
          0.4489795918367347,
          1.1559633027522935,
          0.9139784946236559,
          1.4432432432432432,
          2.3804878048780487,
          1.415,
          1.1868686868686869,
          0.7037037037037037,
          0.39344262295081966,
          2.256038647342995,
          1.5048543689320388,
          1.4660194174757282,
          0.5746606334841629,
          1.9259259259259258,
          0.5,
          2.4367816091954024,
          1.8144329896907216,
          1.5944444444444446,
          1.6335078534031413,
          1.8848484848484848,
          1.1347826086956523,
          1.7560975609756098,
          0.75,
          1.0144927536231885,
          1.922705314009662,
          0.9948453608247423,
          1.1571428571428573,
          2.1370558375634516,
          1.6777251184834123,
          1.0851063829787233,
          1.9467455621301775,
          1.2404371584699454,
          0.44607843137254904,
          1.3838383838383839,
          1.117948717948718,
          0.66,
          0.8290155440414507,
          0.3287671232876712,
          1.583756345177665,
          1.240566037735849,
          0.7925531914893617,
          2.3047619047619046,
          0.5336538461538461,
          1.7233009708737863,
          0.9,
          1.3539823008849559,
          0.6555555555555556,
          0.9597989949748744,
          0.5253456221198156,
          0.5678391959798995,
          0.3333333333333333,
          0.9900497512437811,
          2.3333333333333335,
          1.1421319796954315,
          2.4236453201970445,
          1.951219512195122,
          2.0862944162436547,
          0.45365853658536587,
          2.173076923076923,
          0.6851851851851852,
          1.903225806451613,
          2.0707547169811322,
          0.9454545454545454,
          0.3563218390804598,
          2.2610837438423643,
          1.8040201005025125,
          1.2307692307692308,
          0.6989795918367347,
          0.43783783783783786,
          1.150753768844221,
          1.880184331797235,
          1.8342541436464088,
          2.2198952879581153,
          0.48514851485148514,
          1.7305699481865284,
          1.3671497584541064,
          1.9090909090909092,
          1.311881188118812,
          2.3769633507853403,
          0.32882882882882886,
          0.6898395721925134,
          1.3211009174311927,
          0.7889447236180904,
          2.162303664921466,
          1.813953488372093,
          1.196808510638298,
          0.3598130841121495,
          0.3,
          2.014705882352941,
          1,
          1.8373205741626795,
          0.9157894736842105,
          1.2291666666666667,
          1.953125,
          0.4056603773584906,
          0.638095238095238,
          1.8280542986425339,
          0.5838150289017341,
          0.9820627802690582,
          2.4378109452736316,
          2.1666666666666665,
          1.6507936507936507,
          0.6863636363636364,
          0.8737373737373737,
          0.4,
          0.7225130890052356,
          2.0833333333333335,
          0.9740932642487047,
          1.0245098039215685,
          1.648780487804878,
          1.9581151832460733,
          2.102222222222222,
          2.1523809523809523,
          0.4521276595744681,
          2.1382978723404253,
          1.9776785714285714,
          0.9081632653061225,
          1.9545454545454546,
          0.5777777777777777,
          1.7864583333333333,
          1.831578947368421,
          0.5520833333333334,
          0.34615384615384615,
          1.1278538812785388,
          1.2625698324022345,
          2.1302083333333335,
          1.354679802955665,
          1.377906976744186,
          1.431578947368421,
          2.110047846889952,
          1.2686567164179106,
          1.585,
          0.4876847290640394,
          1.6898148148148149,
          1.5175879396984924,
          0.41089108910891087,
          1.6550218340611353,
          2.004878048780488,
          2.073170731707317,
          0.36574074074074076,
          1.838235294117647,
          2.2474747474747474,
          1.5380952380952382,
          1.640552995391705,
          0.5502645502645502,
          1.4545454545454546,
          0.5188284518828452,
          2.321608040201005,
          0.39712918660287083,
          0.9138755980861244,
          0.4088397790055249,
          0.39572192513368987,
          2.174757281553398,
          1.270718232044199,
          2.2616822429906542,
          2.0388349514563107,
          0.44907407407407407,
          0.7438423645320197,
          2.251207729468599,
          2.160621761658031,
          0.6666666666666666,
          2.5885416666666665,
          2.3247422680412373,
          0.4619289340101523,
          0.7222222222222222,
          0.765,
          1.706140350877193,
          0.3469387755102041,
          1.872340425531915,
          0.44041450777202074,
          1.2954545454545454,
          2.252577319587629,
          0.764102564102564,
          2.257309941520468,
          0.30952380952380953,
          0.32323232323232326,
          1.933673469387755,
          0.7711442786069652,
          0.8457446808510638,
          0.8768472906403941,
          2.1724137931034484,
          1.1031390134529149,
          1.8341013824884793,
          2.066666666666667,
          2.454022988505747,
          1.6544502617801047,
          2.2606635071090047,
          1.2304347826086957,
          0.7673267326732673,
          2.5210526315789474,
          0.9778761061946902,
          0.4416243654822335,
          0.8571428571428571,
          2.8079096045197742,
          1.5846153846153845,
          0.42290748898678415,
          0.9759615384615384,
          0.5964912280701754,
          1.6432432432432433,
          1.1477832512315271,
          2.1082474226804124,
          0.8823529411764706,
          2.303664921465969,
          0.635,
          2.4023668639053253,
          0.9126637554585153,
          1.631578947368421,
          1.1042654028436019,
          1.922705314009662,
          0.4230769230769231,
          1.0052356020942408,
          0.57,
          1.9553072625698324,
          1.3908629441624365,
          1.4120879120879122,
          1.0735294117647058,
          1.6616161616161615,
          1.528888888888889,
          0.25980392156862747,
          0.7536945812807881,
          1.6325581395348838,
          0.7857142857142857,
          0.6589595375722543,
          1.8167539267015707,
          0.6619718309859155,
          1.6359223300970873,
          1.0934579439252337,
          0.5925925925925926,
          1.6793478260869565,
          0.2604166666666667,
          1.561576354679803,
          2.8579881656804735,
          0.38349514563106796,
          0.6394230769230769,
          0.40476190476190477,
          0.4975845410628019,
          2.25,
          0.35545023696682465,
          0.32589285714285715,
          2.1161616161616164,
          1.5170731707317073,
          0.31,
          2.371287128712871,
          1.4467005076142132,
          1.3707317073170733,
          0.3298429319371728,
          1.9130434782608696,
          0.3696682464454976,
          1.4776119402985075,
          0.3883495145631068,
          1.4486486486486487,
          1.7464788732394365,
          2.1043956043956045,
          0.45454545454545453,
          0.9855769230769231,
          1.3878504672897196,
          0.8842105263157894,
          1.7565217391304349,
          0.7989949748743719,
          0.6804123711340206,
          0.9010989010989011,
          1.4029850746268657,
          1.8571428571428572,
          0.37073170731707317,
          1.3645833333333333,
          2.1785714285714284,
          1.345945945945946,
          1.6666666666666667,
          2.355769230769231,
          2.2433862433862433,
          0.7373737373737373,
          0.7931034482758621,
          1.551219512195122,
          0.31840796019900497,
          1.7291666666666667,
          0.9344978165938864,
          0.33663366336633666,
          1.3933649289099526,
          0.2798165137614679,
          1.3109243697478992,
          0.7647058823529411,
          2.3010752688172045,
          0.7116279069767442,
          1.602803738317757,
          2.566666666666667,
          1.778301886792453,
          0.7150259067357513,
          2.3707865168539324,
          1.532994923857868,
          2.2995169082125604,
          0.2789473684210526,
          1.5730994152046784,
          2.0097087378640777,
          2.297872340425532,
          1.118279569892473,
          1.09,
          1.905829596412556,
          1.4041450777202074,
          0.2896174863387978,
          1.5671641791044777,
          0.46788990825688076,
          1.4060913705583757,
          1.9661835748792271,
          2.128205128205128,
          2.2019704433497536,
          1.7066115702479339,
          1.0923913043478262,
          2.3365384615384617,
          1.2526315789473683,
          2.5968586387434556,
          0.4218009478672986,
          0.9157894736842105,
          2.2487046632124352,
          2.241706161137441,
          1.1657754010695187,
          2.3351063829787235,
          0.37745098039215685,
          0.5904761904761905,
          1.916256157635468,
          1.723809523809524,
          0.291005291005291,
          0.3140096618357488,
          0.5679611650485437,
          0.6785714285714286,
          2.295336787564767,
          1.1990521327014219,
          1.6787878787878787,
          0.3798076923076923,
          0.6153846153846154,
          1.961352657004831,
          2.161137440758294,
          1.0271739130434783,
          2.364705882352941,
          2.1542056074766354,
          1.710382513661202,
          2.5105263157894737,
          2.1443298969072164,
          0.49238578680203043,
          1.0695187165775402,
          2.0408163265306123,
          2.6382978723404253,
          1.1139896373056994,
          1.9569377990430623,
          2.2270531400966185,
          0.3497536945812808,
          1.5859030837004404,
          0.7268518518518519,
          2.392670157068063,
          2.3076923076923075,
          1.1890547263681592,
          1.6481481481481481,
          0.5434782608695652,
          0.5308056872037915,
          2.5440414507772022,
          2.263157894736842,
          0.5989847715736041,
          1.382882882882883,
          2.285024154589372,
          1.5191256830601092,
          0.7238095238095238,
          2.2989130434782608,
          1.5957446808510638,
          1.849246231155779,
          1.8309859154929577,
          1.2247191011235956,
          0.712707182320442,
          1.9484978540772533,
          1.8439024390243903,
          1.7014925373134329,
          1.423913043478261,
          1.078125,
          0.2717948717948718,
          2.0923076923076924,
          2.0462962962962963,
          1.2575757575757576,
          2.169491525423729,
          2.22,
          0.7564766839378239,
          1.1988636363636365,
          0.5714285714285714,
          0.7824074074074074,
          0.9904761904761905,
          0.9743589743589743,
          0.6142857142857143,
          0.7397260273972602,
          2.111111111111111,
          1.4526315789473685,
          2.3125,
          2.0555555555555554,
          2.1295336787564767,
          0.774869109947644,
          0.4342105263157895,
          1.1773399014778325,
          0.8636363636363636,
          0.6331658291457286,
          1.6411483253588517,
          0.2849740932642487,
          2.240437158469945,
          2.46875,
          0.8152173913043478,
          2.2588832487309647,
          0.4271356783919598,
          0.8585365853658536,
          1.0052631578947369,
          1.7307692307692308,
          2.0409356725146197,
          2.063953488372093,
          2.061320754716981,
          1.8240343347639485,
          2.3333333333333335,
          0.4010152284263959,
          0.5885416666666666,
          2.2344497607655502,
          0.827906976744186,
          1.6396396396396395,
          1.0466321243523315,
          0.806282722513089,
          1.015625,
          1.164835164835165,
          1.3707317073170733,
          1.07035175879397,
          0.4228855721393035,
          1.0491803278688525,
          0.8260869565217391,
          0.7004405286343612,
          1.275,
          2.561797752808989,
          1.136150234741784,
          2.1831683168316833,
          1.9285714285714286,
          1.216931216931217,
          0.36018957345971564,
          1.73,
          0.825531914893617,
          1.3384615384615384,
          0.7422680412371134,
          0.8402061855670103,
          2.2371134020618557,
          2.6444444444444444,
          0.5024154589371981,
          1.2321428571428572,
          0.9,
          0.5343915343915344,
          2.518716577540107,
          1.1919191919191918,
          1.1194029850746268,
          1.7644444444444445,
          0.33505154639175255,
          0.8653846153846154,
          2.3369565217391304,
          1.3121951219512196,
          0.7232142857142857,
          1.2146341463414634,
          0.3010204081632653,
          2.5025641025641026,
          1.2971698113207548,
          1.4461538461538461,
          1.1111111111111112,
          0.255,
          0.5099009900990099,
          1.3333333333333333,
          2.026595744680851,
          1.9414414414414414,
          1.6504854368932038,
          0.47465437788018433,
          1.6417910447761195,
          0.29107981220657275,
          0.8516746411483254,
          1.0344827586206897,
          0.8535353535353535,
          1.1616161616161615,
          1.8743718592964824,
          1.4952380952380953,
          1.4156626506024097,
          1.569377990430622,
          1.6515837104072397,
          0.7547169811320755,
          0.7981220657276995,
          1.903225806451613,
          0.3684210526315789,
          1.6095238095238096,
          0.6728110599078341,
          0.2864321608040201,
          0.6591928251121076,
          0.7965367965367965,
          1.145,
          1.3317307692307692,
          1.8977272727272727,
          1.9947089947089947,
          0.3626943005181347,
          1.4497354497354498,
          0.9568965517241379,
          1.9356435643564356,
          0.34554973821989526,
          1.8598130841121496,
          1.3364485981308412,
          0.847953216374269,
          0.8926553672316384,
          1.4606741573033708,
          1.5104166666666667,
          2.0047846889952154,
          0.4857142857142857,
          1.0147783251231528,
          1.092783505154639,
          0.5343915343915344,
          0.8520408163265306,
          2.1029411764705883,
          0.5257731958762887,
          2.3520408163265305,
          0.49537037037037035,
          0.5154185022026432,
          2.392156862745098,
          1.398989898989899,
          2.5129533678756477,
          1.1725888324873097,
          2.188888888888889,
          2.4079601990049753,
          0.8229665071770335,
          0.5323383084577115,
          1.3559322033898304,
          2.15,
          1.1237623762376239,
          0.4095238095238095,
          2.497354497354497,
          1.38860103626943,
          0.9844559585492227,
          1.3407821229050279,
          2.1650485436893203,
          2.268292682926829,
          0.75,
          1.4106280193236715,
          2.25,
          0.9619565217391305,
          1.1962616822429906,
          0.42,
          2.164102564102564,
          0.5384615384615384,
          1.3928571428571428,
          1.3816425120772946
         ],
         "xaxis": "x",
         "yaxis": "y"
        }
       ],
       "layout": {
        "barmode": "relative",
        "legend": {
         "tracegroupgap": 0
        },
        "template": {
         "data": {
          "bar": [
           {
            "error_x": {
             "color": "#2a3f5f"
            },
            "error_y": {
             "color": "#2a3f5f"
            },
            "marker": {
             "line": {
              "color": "#E5ECF6",
              "width": 0.5
             },
             "pattern": {
              "fillmode": "overlay",
              "size": 10,
              "solidity": 0.2
             }
            },
            "type": "bar"
           }
          ],
          "barpolar": [
           {
            "marker": {
             "line": {
              "color": "#E5ECF6",
              "width": 0.5
             },
             "pattern": {
              "fillmode": "overlay",
              "size": 10,
              "solidity": 0.2
             }
            },
            "type": "barpolar"
           }
          ],
          "carpet": [
           {
            "aaxis": {
             "endlinecolor": "#2a3f5f",
             "gridcolor": "white",
             "linecolor": "white",
             "minorgridcolor": "white",
             "startlinecolor": "#2a3f5f"
            },
            "baxis": {
             "endlinecolor": "#2a3f5f",
             "gridcolor": "white",
             "linecolor": "white",
             "minorgridcolor": "white",
             "startlinecolor": "#2a3f5f"
            },
            "type": "carpet"
           }
          ],
          "choropleth": [
           {
            "colorbar": {
             "outlinewidth": 0,
             "ticks": ""
            },
            "type": "choropleth"
           }
          ],
          "contour": [
           {
            "colorbar": {
             "outlinewidth": 0,
             "ticks": ""
            },
            "colorscale": [
             [
              0,
              "#0d0887"
             ],
             [
              0.1111111111111111,
              "#46039f"
             ],
             [
              0.2222222222222222,
              "#7201a8"
             ],
             [
              0.3333333333333333,
              "#9c179e"
             ],
             [
              0.4444444444444444,
              "#bd3786"
             ],
             [
              0.5555555555555556,
              "#d8576b"
             ],
             [
              0.6666666666666666,
              "#ed7953"
             ],
             [
              0.7777777777777778,
              "#fb9f3a"
             ],
             [
              0.8888888888888888,
              "#fdca26"
             ],
             [
              1,
              "#f0f921"
             ]
            ],
            "type": "contour"
           }
          ],
          "contourcarpet": [
           {
            "colorbar": {
             "outlinewidth": 0,
             "ticks": ""
            },
            "type": "contourcarpet"
           }
          ],
          "heatmap": [
           {
            "colorbar": {
             "outlinewidth": 0,
             "ticks": ""
            },
            "colorscale": [
             [
              0,
              "#0d0887"
             ],
             [
              0.1111111111111111,
              "#46039f"
             ],
             [
              0.2222222222222222,
              "#7201a8"
             ],
             [
              0.3333333333333333,
              "#9c179e"
             ],
             [
              0.4444444444444444,
              "#bd3786"
             ],
             [
              0.5555555555555556,
              "#d8576b"
             ],
             [
              0.6666666666666666,
              "#ed7953"
             ],
             [
              0.7777777777777778,
              "#fb9f3a"
             ],
             [
              0.8888888888888888,
              "#fdca26"
             ],
             [
              1,
              "#f0f921"
             ]
            ],
            "type": "heatmap"
           }
          ],
          "heatmapgl": [
           {
            "colorbar": {
             "outlinewidth": 0,
             "ticks": ""
            },
            "colorscale": [
             [
              0,
              "#0d0887"
             ],
             [
              0.1111111111111111,
              "#46039f"
             ],
             [
              0.2222222222222222,
              "#7201a8"
             ],
             [
              0.3333333333333333,
              "#9c179e"
             ],
             [
              0.4444444444444444,
              "#bd3786"
             ],
             [
              0.5555555555555556,
              "#d8576b"
             ],
             [
              0.6666666666666666,
              "#ed7953"
             ],
             [
              0.7777777777777778,
              "#fb9f3a"
             ],
             [
              0.8888888888888888,
              "#fdca26"
             ],
             [
              1,
              "#f0f921"
             ]
            ],
            "type": "heatmapgl"
           }
          ],
          "histogram": [
           {
            "marker": {
             "pattern": {
              "fillmode": "overlay",
              "size": 10,
              "solidity": 0.2
             }
            },
            "type": "histogram"
           }
          ],
          "histogram2d": [
           {
            "colorbar": {
             "outlinewidth": 0,
             "ticks": ""
            },
            "colorscale": [
             [
              0,
              "#0d0887"
             ],
             [
              0.1111111111111111,
              "#46039f"
             ],
             [
              0.2222222222222222,
              "#7201a8"
             ],
             [
              0.3333333333333333,
              "#9c179e"
             ],
             [
              0.4444444444444444,
              "#bd3786"
             ],
             [
              0.5555555555555556,
              "#d8576b"
             ],
             [
              0.6666666666666666,
              "#ed7953"
             ],
             [
              0.7777777777777778,
              "#fb9f3a"
             ],
             [
              0.8888888888888888,
              "#fdca26"
             ],
             [
              1,
              "#f0f921"
             ]
            ],
            "type": "histogram2d"
           }
          ],
          "histogram2dcontour": [
           {
            "colorbar": {
             "outlinewidth": 0,
             "ticks": ""
            },
            "colorscale": [
             [
              0,
              "#0d0887"
             ],
             [
              0.1111111111111111,
              "#46039f"
             ],
             [
              0.2222222222222222,
              "#7201a8"
             ],
             [
              0.3333333333333333,
              "#9c179e"
             ],
             [
              0.4444444444444444,
              "#bd3786"
             ],
             [
              0.5555555555555556,
              "#d8576b"
             ],
             [
              0.6666666666666666,
              "#ed7953"
             ],
             [
              0.7777777777777778,
              "#fb9f3a"
             ],
             [
              0.8888888888888888,
              "#fdca26"
             ],
             [
              1,
              "#f0f921"
             ]
            ],
            "type": "histogram2dcontour"
           }
          ],
          "mesh3d": [
           {
            "colorbar": {
             "outlinewidth": 0,
             "ticks": ""
            },
            "type": "mesh3d"
           }
          ],
          "parcoords": [
           {
            "line": {
             "colorbar": {
              "outlinewidth": 0,
              "ticks": ""
             }
            },
            "type": "parcoords"
           }
          ],
          "pie": [
           {
            "automargin": true,
            "type": "pie"
           }
          ],
          "scatter": [
           {
            "fillpattern": {
             "fillmode": "overlay",
             "size": 10,
             "solidity": 0.2
            },
            "type": "scatter"
           }
          ],
          "scatter3d": [
           {
            "line": {
             "colorbar": {
              "outlinewidth": 0,
              "ticks": ""
             }
            },
            "marker": {
             "colorbar": {
              "outlinewidth": 0,
              "ticks": ""
             }
            },
            "type": "scatter3d"
           }
          ],
          "scattercarpet": [
           {
            "marker": {
             "colorbar": {
              "outlinewidth": 0,
              "ticks": ""
             }
            },
            "type": "scattercarpet"
           }
          ],
          "scattergeo": [
           {
            "marker": {
             "colorbar": {
              "outlinewidth": 0,
              "ticks": ""
             }
            },
            "type": "scattergeo"
           }
          ],
          "scattergl": [
           {
            "marker": {
             "colorbar": {
              "outlinewidth": 0,
              "ticks": ""
             }
            },
            "type": "scattergl"
           }
          ],
          "scattermapbox": [
           {
            "marker": {
             "colorbar": {
              "outlinewidth": 0,
              "ticks": ""
             }
            },
            "type": "scattermapbox"
           }
          ],
          "scatterpolar": [
           {
            "marker": {
             "colorbar": {
              "outlinewidth": 0,
              "ticks": ""
             }
            },
            "type": "scatterpolar"
           }
          ],
          "scatterpolargl": [
           {
            "marker": {
             "colorbar": {
              "outlinewidth": 0,
              "ticks": ""
             }
            },
            "type": "scatterpolargl"
           }
          ],
          "scatterternary": [
           {
            "marker": {
             "colorbar": {
              "outlinewidth": 0,
              "ticks": ""
             }
            },
            "type": "scatterternary"
           }
          ],
          "surface": [
           {
            "colorbar": {
             "outlinewidth": 0,
             "ticks": ""
            },
            "colorscale": [
             [
              0,
              "#0d0887"
             ],
             [
              0.1111111111111111,
              "#46039f"
             ],
             [
              0.2222222222222222,
              "#7201a8"
             ],
             [
              0.3333333333333333,
              "#9c179e"
             ],
             [
              0.4444444444444444,
              "#bd3786"
             ],
             [
              0.5555555555555556,
              "#d8576b"
             ],
             [
              0.6666666666666666,
              "#ed7953"
             ],
             [
              0.7777777777777778,
              "#fb9f3a"
             ],
             [
              0.8888888888888888,
              "#fdca26"
             ],
             [
              1,
              "#f0f921"
             ]
            ],
            "type": "surface"
           }
          ],
          "table": [
           {
            "cells": {
             "fill": {
              "color": "#EBF0F8"
             },
             "line": {
              "color": "white"
             }
            },
            "header": {
             "fill": {
              "color": "#C8D4E3"
             },
             "line": {
              "color": "white"
             }
            },
            "type": "table"
           }
          ]
         },
         "layout": {
          "annotationdefaults": {
           "arrowcolor": "#2a3f5f",
           "arrowhead": 0,
           "arrowwidth": 1
          },
          "autotypenumbers": "strict",
          "coloraxis": {
           "colorbar": {
            "outlinewidth": 0,
            "ticks": ""
           }
          },
          "colorscale": {
           "diverging": [
            [
             0,
             "#8e0152"
            ],
            [
             0.1,
             "#c51b7d"
            ],
            [
             0.2,
             "#de77ae"
            ],
            [
             0.3,
             "#f1b6da"
            ],
            [
             0.4,
             "#fde0ef"
            ],
            [
             0.5,
             "#f7f7f7"
            ],
            [
             0.6,
             "#e6f5d0"
            ],
            [
             0.7,
             "#b8e186"
            ],
            [
             0.8,
             "#7fbc41"
            ],
            [
             0.9,
             "#4d9221"
            ],
            [
             1,
             "#276419"
            ]
           ],
           "sequential": [
            [
             0,
             "#0d0887"
            ],
            [
             0.1111111111111111,
             "#46039f"
            ],
            [
             0.2222222222222222,
             "#7201a8"
            ],
            [
             0.3333333333333333,
             "#9c179e"
            ],
            [
             0.4444444444444444,
             "#bd3786"
            ],
            [
             0.5555555555555556,
             "#d8576b"
            ],
            [
             0.6666666666666666,
             "#ed7953"
            ],
            [
             0.7777777777777778,
             "#fb9f3a"
            ],
            [
             0.8888888888888888,
             "#fdca26"
            ],
            [
             1,
             "#f0f921"
            ]
           ],
           "sequentialminus": [
            [
             0,
             "#0d0887"
            ],
            [
             0.1111111111111111,
             "#46039f"
            ],
            [
             0.2222222222222222,
             "#7201a8"
            ],
            [
             0.3333333333333333,
             "#9c179e"
            ],
            [
             0.4444444444444444,
             "#bd3786"
            ],
            [
             0.5555555555555556,
             "#d8576b"
            ],
            [
             0.6666666666666666,
             "#ed7953"
            ],
            [
             0.7777777777777778,
             "#fb9f3a"
            ],
            [
             0.8888888888888888,
             "#fdca26"
            ],
            [
             1,
             "#f0f921"
            ]
           ]
          },
          "colorway": [
           "#636efa",
           "#EF553B",
           "#00cc96",
           "#ab63fa",
           "#FFA15A",
           "#19d3f3",
           "#FF6692",
           "#B6E880",
           "#FF97FF",
           "#FECB52"
          ],
          "font": {
           "color": "#2a3f5f"
          },
          "geo": {
           "bgcolor": "white",
           "lakecolor": "white",
           "landcolor": "#E5ECF6",
           "showlakes": true,
           "showland": true,
           "subunitcolor": "white"
          },
          "hoverlabel": {
           "align": "left"
          },
          "hovermode": "closest",
          "mapbox": {
           "style": "light"
          },
          "paper_bgcolor": "white",
          "plot_bgcolor": "#E5ECF6",
          "polar": {
           "angularaxis": {
            "gridcolor": "white",
            "linecolor": "white",
            "ticks": ""
           },
           "bgcolor": "#E5ECF6",
           "radialaxis": {
            "gridcolor": "white",
            "linecolor": "white",
            "ticks": ""
           }
          },
          "scene": {
           "xaxis": {
            "backgroundcolor": "#E5ECF6",
            "gridcolor": "white",
            "gridwidth": 2,
            "linecolor": "white",
            "showbackground": true,
            "ticks": "",
            "zerolinecolor": "white"
           },
           "yaxis": {
            "backgroundcolor": "#E5ECF6",
            "gridcolor": "white",
            "gridwidth": 2,
            "linecolor": "white",
            "showbackground": true,
            "ticks": "",
            "zerolinecolor": "white"
           },
           "zaxis": {
            "backgroundcolor": "#E5ECF6",
            "gridcolor": "white",
            "gridwidth": 2,
            "linecolor": "white",
            "showbackground": true,
            "ticks": "",
            "zerolinecolor": "white"
           }
          },
          "shapedefaults": {
           "line": {
            "color": "#2a3f5f"
           }
          },
          "ternary": {
           "aaxis": {
            "gridcolor": "white",
            "linecolor": "white",
            "ticks": ""
           },
           "baxis": {
            "gridcolor": "white",
            "linecolor": "white",
            "ticks": ""
           },
           "bgcolor": "#E5ECF6",
           "caxis": {
            "gridcolor": "white",
            "linecolor": "white",
            "ticks": ""
           }
          },
          "title": {
           "x": 0.05
          },
          "xaxis": {
           "automargin": true,
           "gridcolor": "white",
           "linecolor": "white",
           "ticks": "",
           "title": {
            "standoff": 15
           },
           "zerolinecolor": "white",
           "zerolinewidth": 2
          },
          "yaxis": {
           "automargin": true,
           "gridcolor": "white",
           "linecolor": "white",
           "ticks": "",
           "title": {
            "standoff": 15
           },
           "zerolinecolor": "white",
           "zerolinewidth": 2
          }
         }
        },
        "title": {
         "text": "Conversion Rate Distribution"
        },
        "xaxis": {
         "anchor": "y",
         "domain": [
          0,
          1
         ],
         "title": {
          "text": "Conversion Rate"
         }
        },
        "yaxis": {
         "anchor": "x",
         "domain": [
          0,
          1
         ],
         "title": {
          "text": "Frequency"
         }
        }
       }
      }
     },
     "metadata": {},
     "output_type": "display_data"
    }
   ],
   "source": [
    "#calculate the conversion rate\n",
    "df['ConversionRate'] = df['sales_forecast'] / df['website_traffic']\n",
    "\n",
    "#plot conversion rate using plotly\n",
    "def plot_conversion_rate(df):\n",
    "    fig = px.histogram(df, x='ConversionRate', title='Conversion Rate Distribution')\n",
    "    fig.update_layout(xaxis_title='Conversion Rate', yaxis_title='Frequency')\n",
    "    fig.show()\n",
    "plot_conversion_rate(df)"
   ]
  },
  {
   "cell_type": "code",
   "execution_count": 158,
   "id": "6ef980f1",
   "metadata": {},
   "outputs": [
    {
     "data": {
      "application/vnd.plotly.v1+json": {
       "config": {
        "plotlyServerURL": "https://plot.ly"
       },
       "data": [
        {
         "dimensions": [
          {
           "axis": {
            "matches": true
           },
           "label": "website_traffic",
           "values": [
            200,
            194,
            191,
            209,
            192,
            235,
            196,
            214,
            197,
            218,
            206,
            193,
            196,
            206,
            212,
            188,
            189,
            207,
            202,
            221,
            188,
            199,
            214,
            207,
            201,
            188,
            202,
            204,
            208,
            201,
            192,
            201,
            216,
            178,
            198,
            200,
            212,
            201,
            185,
            189,
            206,
            223,
            197,
            193,
            221,
            180,
            161,
            193,
            213,
            192,
            211,
            204,
            205,
            173,
            204,
            200,
            218,
            198,
            216,
            219,
            213,
            202,
            217,
            194,
            225,
            198,
            218,
            189,
            181,
            214,
            199,
            192,
            178,
            230,
            211,
            201,
            204,
            200,
            212,
            189,
            167,
            200,
            198,
            206,
            198,
            194,
            189,
            208,
            205,
            208,
            216,
            204,
            208,
            198,
            195,
            230,
            199,
            208,
            198,
            193,
            213,
            185,
            190,
            192,
            210,
            187,
            195,
            212,
            203,
            223,
            192,
            196,
            189,
            193,
            191,
            172,
            207,
            207,
            192,
            185,
            212,
            165,
            200,
            200,
            197,
            187,
            197,
            195,
            199,
            195,
            198,
            179,
            196,
            200,
            223,
            197,
            207,
            194,
            196,
            192,
            204,
            176,
            191,
            231,
            209,
            198,
            197,
            196,
            202,
            206,
            189,
            199,
            192,
            211,
            188,
            180,
            191,
            199,
            217,
            199,
            207,
            224,
            204,
            188,
            199,
            209,
            200,
            176,
            187,
            239,
            204,
            200,
            205,
            177,
            209,
            206,
            208,
            179,
            216,
            227,
            199,
            211,
            198,
            203,
            220,
            201,
            190,
            160,
            212,
            189,
            203,
            208,
            193,
            194,
            204,
            192,
            165,
            205,
            203,
            220,
            187,
            208,
            201,
            206,
            229,
            210,
            192,
            226,
            192,
            218,
            197,
            211,
            194,
            184,
            169,
            195,
            206,
            192,
            205,
            200,
            205,
            202,
            217,
            207,
            168,
            199,
            188,
            198,
            209,
            216,
            224,
            213,
            208,
            205,
            228,
            246,
            189,
            213,
            222,
            222,
            195,
            201,
            213,
            218,
            195,
            227,
            188,
            211,
            189,
            198,
            186,
            220,
            203,
            212,
            168,
            185,
            207,
            195,
            208,
            207,
            222,
            215,
            205,
            220,
            219,
            200,
            188,
            194,
            210,
            184,
            204,
            198,
            228,
            203,
            197,
            187,
            214,
            194,
            206,
            171,
            192,
            192,
            226,
            198,
            187,
            185,
            207,
            186,
            218,
            189,
            184,
            195,
            217,
            228,
            194,
            205,
            191,
            200,
            186,
            188,
            216,
            210,
            207,
            218,
            206,
            200,
            184,
            179,
            189,
            192,
            192,
            203,
            182,
            179,
            185,
            201,
            205,
            195,
            203,
            212,
            177,
            199,
            181,
            214,
            192,
            190,
            227,
            221,
            186,
            213,
            178,
            199,
            205,
            188,
            199,
            173,
            199,
            205,
            199,
            186,
            194,
            197,
            197,
            189,
            193,
            203,
            200,
            237,
            222,
            218,
            202,
            187,
            200,
            192,
            202,
            211,
            205,
            195,
            191,
            205,
            173,
            211,
            188,
            221,
            221,
            181,
            209,
            191,
            210,
            191,
            226,
            203,
            208,
            168,
            198,
            200,
            208,
            194,
            191,
            229,
            204,
            199,
            192,
            199,
            204,
            180,
            217,
            199,
            181,
            222,
            197,
            201,
            219,
            206,
            188,
            185,
            203,
            180,
            202,
            192,
            172,
            193,
            208,
            211,
            232,
            219,
            196,
            203,
            173,
            222,
            188,
            211,
            188,
            225,
            196,
            189,
            205,
            185,
            204,
            218,
            187,
            233,
            188,
            245,
            207,
            189,
            183,
            196,
            224,
            188,
            214,
            200,
            205,
            198,
            196,
            202,
            201,
            192,
            208,
            211,
            194,
            195,
            190,
            182,
            181,
            210,
            203,
            221,
            195,
            215,
            207,
            173,
            192,
            192,
            195,
            214,
            198,
            209,
            175,
            217,
            194,
            196,
            218,
            186,
            185,
            205,
            200,
            198,
            189,
            183,
            207,
            206,
            206,
            221,
            216,
            210,
            174,
            194,
            180,
            191,
            165,
            230,
            205,
            196,
            207,
            207,
            194,
            210,
            197,
            211,
            188,
            169,
            183,
            204,
            198,
            195,
            200,
            193,
            219,
            197,
            212,
            188,
            210,
            208,
            206,
            190,
            226,
            180,
            199,
            217,
            199,
            186,
            201,
            195,
            197,
            203,
            205,
            197,
            205,
            208,
            216,
            217,
            212,
            220,
            174,
            203,
            199,
            169,
            196,
            185,
            199,
            217,
            181,
            191,
            202,
            193,
            207,
            187,
            202,
            191,
            222,
            187,
            218,
            199,
            191,
            215,
            188,
            214,
            200,
            204,
            202,
            209,
            190,
            192,
            192,
            212,
            210,
            221,
            173,
            223,
            201,
            192,
            252,
            220,
            198,
            190,
            191,
            180,
            193,
            204,
            205,
            191,
            225,
            210,
            188,
            188,
            224,
            196,
            176,
            180,
            192,
            190,
            192,
            234,
            219,
            179,
            192,
            203,
            172,
            190,
            209,
            201,
            200,
            203,
            216,
            199,
            202,
            229,
            205,
            205,
            216,
            204,
            198,
            210,
            217,
            189,
            209,
            239,
            199,
            209,
            209,
            181,
            187,
            206,
            181,
            214,
            206,
            216,
            203,
            207,
            193,
            171,
            192,
            194,
            197,
            198,
            200,
            228,
            196,
            188,
            193,
            220,
            194,
            195,
            171,
            210,
            198,
            196,
            201,
            188,
            203,
            203,
            223,
            217,
            180,
            174,
            191,
            211,
            230,
            202,
            190,
            226,
            197,
            196,
            177,
            195,
            227,
            208,
            171,
            185,
            203,
            194,
            221,
            191,
            200,
            169,
            229,
            209,
            211,
            207,
            208,
            191,
            200,
            179,
            197,
            182,
            204,
            198,
            225,
            204,
            203,
            215,
            182,
            173,
            191,
            213,
            206,
            214,
            189,
            184,
            192,
            203,
            169,
            206,
            208,
            210,
            207,
            196,
            211,
            224,
            198,
            205,
            200,
            202,
            197,
            205,
            191,
            184,
            211,
            201,
            206,
            185,
            213,
            182,
            198,
            208,
            214,
            190,
            230,
            199,
            194,
            182,
            201,
            189,
            205,
            192,
            196,
            185,
            201,
            208,
            189,
            198,
            203,
            205,
            201,
            192,
            229,
            202,
            211,
            218,
            238,
            204,
            186,
            215,
            214,
            180,
            212,
            193,
            178,
            197,
            207,
            190,
            171,
            206,
            188,
            186,
            200,
            223,
            193,
            183,
            201,
            218,
            197,
            207,
            195,
            203,
            242,
            184,
            208,
            190,
            191,
            211,
            190,
            193,
            211,
            187,
            188,
            204,
            210,
            203,
            210,
            189,
            207,
            206,
            224,
            193,
            211,
            165,
            208,
            208,
            207,
            211,
            184,
            170,
            214,
            183,
            190,
            194,
            197,
            187,
            196,
            188,
            193,
            209,
            207,
            203,
            227,
            216,
            191,
            195,
            201,
            216,
            184,
            211,
            193,
            209,
            197,
            222,
            207,
            183,
            210,
            184,
            188,
            199,
            213,
            178,
            181,
            233,
            205,
            201,
            184,
            192,
            195,
            195,
            216,
            198,
            177,
            200,
            193,
            176,
            196,
            216,
            210,
            195,
            210,
            219,
            207,
            190,
            208,
            198,
            193,
            191,
            228,
            203,
            198,
            199,
            209,
            193,
            183,
            192,
            184,
            197,
            199,
            205,
            190,
            182,
            171,
            172,
            212,
            233,
            189,
            197,
            192,
            209,
            215,
            222,
            193,
            191,
            192,
            182,
            205,
            199,
            201,
            183,
            207,
            227,
            200,
            178,
            213,
            202,
            196,
            189,
            211,
            200,
            235,
            195,
            194,
            194,
            194,
            180,
            207,
            224,
            200,
            189,
            187,
            198,
            201,
            225,
            194,
            208,
            184,
            205,
            224,
            205,
            196,
            195,
            212,
            195,
            189,
            200,
            202,
            204,
            188,
            222,
            206,
            217,
            201,
            213,
            209,
            203,
            198,
            198,
            199,
            210,
            166,
            209,
            221,
            212,
            213,
            186,
            209,
            210,
            217,
            199,
            223,
            231,
            200,
            208,
            176,
            189,
            193,
            189,
            232,
            202,
            191,
            214,
            214,
            171,
            177,
            178,
            192,
            209,
            210,
            203,
            194,
            189,
            196,
            204,
            194,
            196,
            216,
            227,
            204,
            198,
            193,
            197,
            180,
            201,
            209,
            201,
            177,
            180,
            202,
            210,
            189,
            193,
            193,
            179,
            206,
            205,
            208,
            207,
            192,
            184,
            214,
            200,
            195,
            195,
            224,
            207
           ]
          },
          {
           "axis": {
            "matches": true
           },
           "label": "engagement_rate",
           "values": [
            0.01666550627134195,
            0.0483644404282401,
            0.038419934155662354,
            0.07699708375161039,
            0.010528958245765089,
            0.020537831708010518,
            0.0900645970564657,
            0.07071101566621255,
            0.05775836681679041,
            0.027607399169078464,
            0.06066538956250592,
            0.06553636472384984,
            0.052558086620075536,
            0.0794111913573507,
            0.0957815868463175,
            0.02556069895694573,
            0.0787181845299401,
            0.09003677038319076,
            0.08286190800664107,
            0.06582699434578347,
            0.08939276373528719,
            0.03469923716323503,
            0.01188071849943035,
            0.026086549274762644,
            0.017013749860475134,
            0.03661637141604915,
            0.01577838146626105,
            0.03298694918581856,
            0.06689981298842838,
            0.038960578503024146,
            0.08513071548058189,
            0.059816159385262524,
            0.07387224418954158,
            0.06549436463292994,
            0.0946551174339818,
            0.03200393712666717,
            0.022149975146078534,
            0.03866509705020849,
            0.028683987035686753,
            0.036973763774479355,
            0.07135278036857488,
            0.09382401404649529,
            0.041553194915509926,
            0.011249128390482255,
            0.0908844806729873,
            0.0784214511874415,
            0.07487275656888907,
            0.042765803664417845,
            0.0616817756746647,
            0.012022011219955511,
            0.08135487468598561,
            0.0803267894205241,
            0.01427728414156466,
            0.02114467293857082,
            0.09800349160139199,
            0.06266186789003161,
            0.026227930123601494,
            0.08131197132524949,
            0.029430920489916267,
            0.08505424661210363,
            0.08953601714013523,
            0.07063620827923166,
            0.08035350613746944,
            0.09792878335774659,
            0.011103311145537897,
            0.06956210330778353,
            0.07579688538858666,
            0.02563197721494001,
            0.019554284108963427,
            0.03601889906418043,
            0.06349344204530101,
            0.09503318092103033,
            0.02354823703274403,
            0.010254898759024689,
            0.08956185636158202,
            0.09175031548721024,
            0.06395573977199505,
            0.05395334561540264,
            0.06321764272098279,
            0.028341314180665815,
            0.07869047902054556,
            0.038527813953524004,
            0.06324703308962633,
            0.05589164528400521,
            0.08997773108593034,
            0.03346926984287966,
            0.04738480196690918,
            0.09656969122802891,
            0.09914809905421726,
            0.09232618955419689,
            0.06086036243185552,
            0.06372301028185333,
            0.03606798434681252,
            0.04343910115954088,
            0.05243037727539994,
            0.05508215750382312,
            0.05403277090922479,
            0.08336845860113662,
            0.06072908480814889,
            0.035265274948015075,
            0.0580821436380584,
            0.08588610501415761,
            0.09807862012948851,
            0.05472236379696214,
            0.0375888615590103,
            0.099831873247836,
            0.07480842981050297,
            0.029429497392414766,
            0.01048557721115948,
            0.05950179473669239,
            0.09503331824917986,
            0.08031931338782805,
            0.07172053587766236,
            0.0677914422674335,
            0.053028751622589784,
            0.012320083426015517,
            0.09465518071843348,
            0.07831342481108831,
            0.038829942667774515,
            0.03321002880326586,
            0.062212023211075766,
            0.011103450510798408,
            0.05207546395859977,
            0.04009561251497261,
            0.08179732860159038,
            0.036617024257360915,
            0.09834118066509943,
            0.09786130330956992,
            0.02809951748928779,
            0.022058821736869128,
            0.01582230951857922,
            0.02985222476933925,
            0.08915385794754045,
            0.02216154176104508,
            0.031512542211819726,
            0.04223793513486421,
            0.03800165315847903,
            0.0875114100480067,
            0.04342829472584759,
            0.03241977469126469,
            0.04626753919230375,
            0.08736629486620415,
            0.07769253890700616,
            0.0737165169251325,
            0.0933509099060874,
            0.017950897462060262,
            0.09580938516184524,
            0.09512370190543092,
            0.06594983408366803,
            0.03171732765775546,
            0.026856136427137474,
            0.07986675956285376,
            0.08331365843268486,
            0.0312317052853692,
            0.061778124466065204,
            0.021755269670357576,
            0.09237751490738666,
            0.05727193257526779,
            0.06838687427188773,
            0.044391209149525296,
            0.06131701515825147,
            0.04471970270020657,
            0.07065267167922595,
            0.053294376801472435,
            0.08340947026861037,
            0.018499766154528842,
            0.01628956793994407,
            0.0830235444333782,
            0.011575761660351645,
            0.041485838688579274,
            0.028597124023284896,
            0.0809464753810301,
            0.0793924018268974,
            0.05051504805696183,
            0.047533920164072825,
            0.08407081497669873,
            0.08131260792444917,
            0.04567726522293798,
            0.06727494443610081,
            0.029558444219793395,
            0.011350141912932286,
            0.04451361136060613,
            0.07980112080627401,
            0.021669067211248824,
            0.08583306945725609,
            0.08596614264258773,
            0.0862808638132302,
            0.03520381056248082,
            0.06772428109592865,
            0.0730074079669574,
            0.03992421082650919,
            0.012365741161949509,
            0.06816890693779641,
            0.03506159360227499,
            0.03414320705124798,
            0.05875148105943557,
            0.010203293106471105,
            0.07324239221434303,
            0.025052479432557864,
            0.07172818336384686,
            0.03638664906126051,
            0.06186621127972637,
            0.07925255270217477,
            0.08221919062614462,
            0.07494543914927733,
            0.014631791985520438,
            0.06089486019546964,
            0.08205182238178109,
            0.07403433194521808,
            0.04007999791693718,
            0.02804805468856296,
            0.06174483505336403,
            0.03865221399329784,
            0.041272417735646015,
            0.07617772212908924,
            0.07844365448721671,
            0.03195311826226613,
            0.05204871048819778,
            0.04868079283911657,
            0.08909315901785259,
            0.03318130963773764,
            0.05805143279077834,
            0.021804427973750203,
            0.07758425954976574,
            0.02444658942450571,
            0.06996839282033282,
            0.08042785218434612,
            0.0641643909850902,
            0.08662007432496656,
            0.07576033612731796,
            0.03187031024745611,
            0.035239188060648935,
            0.06986587231532158,
            0.030433880247413538,
            0.09812173505968115,
            0.08889685926931089,
            0.09001465413507828,
            0.05802370232574496,
            0.058562115357663994,
            0.0508177171505685,
            0.07651992989429256,
            0.06117766732370468,
            0.05517622466898386,
            0.09738304841837701,
            0.05097912270799401,
            0.015099728634943453,
            0.07595667960748248,
            0.07160467953614824,
            0.057659402582242385,
            0.09189110890790067,
            0.06862253489176491,
            0.06447368150852585,
            0.07086938783086905,
            0.08458115239957671,
            0.07686256367643217,
            0.07453331320135903,
            0.035128679605780096,
            0.023752251013434634,
            0.037862907506587246,
            0.06766223580129452,
            0.018255014695263562,
            0.06802702988117286,
            0.02015733855655962,
            0.017786732549868553,
            0.09946729394848848,
            0.05333022383437671,
            0.034641692639571516,
            0.04195143817719298,
            0.06701447303174722,
            0.09091775091821393,
            0.06075709103613904,
            0.0682179997241838,
            0.07286013187900911,
            0.04809841471810045,
            0.01244225392915947,
            0.011582175596905839,
            0.08467930886103833,
            0.014890388750593387,
            0.088716603561391,
            0.06844074215789539,
            0.0881897111927581,
            0.022336627373635974,
            0.07426720622903386,
            0.04578825130878084,
            0.07374224188477449,
            0.09287499067855917,
            0.02783623766609916,
            0.06928688420185945,
            0.09812359003954024,
            0.04032249336944281,
            0.06215231761435152,
            0.02037696288092771,
            0.030304806435599414,
            0.025435418816033374,
            0.01635188720630837,
            0.055489852054469144,
            0.02947725732468741,
            0.07932825623650742,
            0.027905629790816636,
            0.011297732904370967,
            0.07320172002935062,
            0.04210172828290292,
            0.012998135189923512,
            0.033255167681875565,
            0.06098329155981336,
            0.053980607545695974,
            0.07181526646965057,
            0.07015312596234503,
            0.0510373127658213,
            0.020530078564001016,
            0.023700650232026207,
            0.08782640000274364,
            0.059915866005957615,
            0.021209872084294742,
            0.08854586138385927,
            0.06781791924675981,
            0.053200489126365554,
            0.09574323347651222,
            0.09206241658285867,
            0.017019017226205455,
            0.07022704846923461,
            0.08766944692819138,
            0.0918778029330867,
            0.034976456680509284,
            0.07549187238895746,
            0.07484684456136977,
            0.01682733586186572,
            0.024242707801542078,
            0.03826129196785957,
            0.01869849311484072,
            0.06899955305154433,
            0.0965367953852849,
            0.04930186792567983,
            0.04231532598678908,
            0.05435813484110521,
            0.08493015833328005,
            0.07836711492871018,
            0.0769281511562335,
            0.06711105375942392,
            0.013490375857809628,
            0.05787108635471835,
            0.08733911153679305,
            0.05668360031480144,
            0.011953103115503521,
            0.0314286326862536,
            0.042588435759317075,
            0.036640972237664264,
            0.013371141848164417,
            0.04518910404920738,
            0.04926379866753495,
            0.010522515928709057,
            0.08073180675419829,
            0.047000812781577285,
            0.08781253821177294,
            0.08660378621172028,
            0.035069802408793614,
            0.03131142465408169,
            0.08739533907700134,
            0.06522231365818834,
            0.044020782203795183,
            0.018037669105949623,
            0.07436144162935227,
            0.023904472404378728,
            0.05239895207928998,
            0.028989987148194667,
            0.03753228315828686,
            0.04364063286708163,
            0.0483712608276946,
            0.07766828508501278,
            0.01123257646965592,
            0.05079053354356933,
            0.07740590360749731,
            0.04546919478805849,
            0.09400017229692986,
            0.0779944248019543,
            0.05396563215292907,
            0.021856444672212996,
            0.09014163409404856,
            0.06687027589328914,
            0.020735095371610404,
            0.09457229860877579,
            0.09168290965116374,
            0.07481316189561012,
            0.08838437970006988,
            0.05606675680489718,
            0.011593128301743624,
            0.043566640447311206,
            0.09584261765993614,
            0.058056373255198926,
            0.06593348017295123,
            0.031094865388997188,
            0.04007530169378552,
            0.07745775476103958,
            0.05998876269904809,
            0.0995217401759986,
            0.07701808486467918,
            0.010266356791955165,
            0.04135655788631604,
            0.014221506573151571,
            0.053555491209140924,
            0.06858060274394882,
            0.09774329289669167,
            0.01750182428579663,
            0.09300243327492132,
            0.014229486055145919,
            0.07024801231282805,
            0.041992832469831605,
            0.06252619576084116,
            0.08847568230919771,
            0.05453337670946204,
            0.08479857713312652,
            0.08694024427009525,
            0.015082442171221878,
            0.09260444420944659,
            0.06273154465904193,
            0.030051929491695745,
            0.03147056594085754,
            0.033574987828621186,
            0.07305416386188857,
            0.09568688416453193,
            0.04447418067727919,
            0.07788733522276997,
            0.05437376241785219,
            0.011629572077584555,
            0.06694189767277227,
            0.09979308912356345,
            0.05041515384092902,
            0.03211005638702454,
            0.051235453732984555,
            0.06544412875731884,
            0.09848893891064013,
            0.012715609849036871,
            0.0878331124613194,
            0.09846950583318352,
            0.05008822258176349,
            0.08480665229519524,
            0.08097559622200438,
            0.0453136837378525,
            0.03218366452300294,
            0.07150681661801456,
            0.09241163671989566,
            0.07051307723224308,
            0.026062219882916376,
            0.03944700617857856,
            0.02034092856920824,
            0.0655538362881094,
            0.021580453100614565,
            0.09489250162121499,
            0.09602501115392523,
            0.03992859485396403,
            0.07106206799300804,
            0.07761028139904244,
            0.04826599122698713,
            0.07195949757958134,
            0.08608168921367085,
            0.058150614239624386,
            0.08505787282762137,
            0.01814007759902107,
            0.0256424478836261,
            0.0460617077381014,
            0.07175758594734623,
            0.08889104998408758,
            0.02624101861582167,
            0.024771285439038233,
            0.03584625328068552,
            0.05943178774873692,
            0.025813922582993733,
            0.04387284699936425,
            0.028091795763062352,
            0.040982937571863096,
            0.041047382438965566,
            0.02323416628428523,
            0.044914293712091054,
            0.039414626120950494,
            0.07563441799677238,
            0.06767112502425163,
            0.03759845618761963,
            0.05978466226951148,
            0.07116568130514682,
            0.038008656437884016,
            0.029607004835580812,
            0.030271631680366243,
            0.09530379848545309,
            0.0901668028538663,
            0.09614310859681185,
            0.011101413582281191,
            0.024365118377718244,
            0.06103830138422546,
            0.016589096469140457,
            0.0552978115204238,
            0.08373472548654202,
            0.07969558316929808,
            0.05935851174656667,
            0.0759486848374308,
            0.04483814622115131,
            0.05834063980151719,
            0.07096605285601428,
            0.0593839878315091,
            0.06171366365117071,
            0.04262601772681495,
            0.06174472099715831,
            0.06352092820177012,
            0.07656283911915429,
            0.04502257839032262,
            0.09876804210139163,
            0.013252096956928928,
            0.08438280817868464,
            0.045518829966472614,
            0.0544403972529577,
            0.07211281907105108,
            0.09515833634481481,
            0.06748549353350076,
            0.07700091156392876,
            0.08463641657791586,
            0.058339728804826345,
            0.03198714436604213,
            0.028098591906269947,
            0.05029256771871603,
            0.07512575843085546,
            0.01948768276027455,
            0.0780993531247924,
            0.05116626475604717,
            0.017202694647184755,
            0.07637593499947556,
            0.039660091325239066,
            0.0418536000961919,
            0.029183821798277464,
            0.02393778902519221,
            0.05170746780602855,
            0.028717293991966278,
            0.020372821694478394,
            0.03174996861429378,
            0.015798716848243362,
            0.09343065902750419,
            0.0805911051366766,
            0.023247681112043513,
            0.06519452146141226,
            0.06823551956203085,
            0.03788600441203178,
            0.03227103412788781,
            0.030102715950579402,
            0.06777074634326515,
            0.0455172102216041,
            0.04927296503733024,
            0.018989184127572008,
            0.06971793645012014,
            0.05774050489556184,
            0.045343557472632884,
            0.07718221232653126,
            0.08669557136985422,
            0.08719462705052919,
            0.08433082788284675,
            0.0579932521705404,
            0.06858865398433481,
            0.04805431994596291,
            0.06189172167871464,
            0.013597813865511179,
            0.04735554364563517,
            0.056272356873250495,
            0.018742634459536854,
            0.09608576784982065,
            0.04443489152996,
            0.09719678659094508,
            0.04118227058316581,
            0.03486719236282602,
            0.025788905645764595,
            0.08094627281292036,
            0.0437323349383665,
            0.05069552941054125,
            0.049903946469874505,
            0.041596502327251476,
            0.06447507079693604,
            0.09129056792806312,
            0.029416822936987067,
            0.08372408602525411,
            0.09806731380380064,
            0.06279452236328725,
            0.02711504743068123,
            0.013729479241527872,
            0.011723013906417794,
            0.014095781333051158,
            0.09890970674406731,
            0.025569746325316278,
            0.03604786018858853,
            0.09419354900945257,
            0.033833735324409635,
            0.010204056812117617,
            0.017897086853743034,
            0.01898627121134148,
            0.08473504724398827,
            0.042584351582475824,
            0.0353159843403084,
            0.06749616464961676,
            0.022225241080807832,
            0.06140376108852207,
            0.07194971027733661,
            0.05124059174149459,
            0.09914927075308459,
            0.06950436427039473,
            0.03904319707852927,
            0.08761959918291282,
            0.04638161751322532,
            0.04036337638359141,
            0.0560301224206218,
            0.09773910986578822,
            0.050597543518265786,
            0.06240419239609285,
            0.0631496835777058,
            0.01042782562700782,
            0.06109184131959405,
            0.019542317259066688,
            0.04716867949588746,
            0.07595839002103302,
            0.048307038734988324,
            0.04930295360786829,
            0.0195604010380761,
            0.043094335129134395,
            0.06319301608640417,
            0.08596403186512859,
            0.08052964368989146,
            0.029228456422319728,
            0.0375915284136588,
            0.01981715051948829,
            0.018769944031825386,
            0.08588398901230744,
            0.0512064873228657,
            0.08542619643103282,
            0.07804388080670613,
            0.048749963022760426,
            0.08698686547029143,
            0.033842654506609164,
            0.035501989168326135,
            0.06869115405942829,
            0.061754643180798,
            0.015308618931762235,
            0.07379081190826661,
            0.07571503449379988,
            0.0937212293997981,
            0.0381949706865464,
            0.04472320790987346,
            0.07009122741929016,
            0.03586082881861059,
            0.09625239746271762,
            0.06840029339235684,
            0.021839277228695064,
            0.018573892277988186,
            0.05707021373371908,
            0.09658452835043706,
            0.08635302708502496,
            0.06898991172884145,
            0.038575317984167,
            0.028591574775960922,
            0.06822624120051238,
            0.017099036194218806,
            0.03859614534567833,
            0.05076609169997262,
            0.038028125836049996,
            0.046872820700960195,
            0.019968820387359483,
            0.08331829742249029,
            0.03819875135115053,
            0.025821791243854766,
            0.05891075520034699,
            0.05893609145766832,
            0.08523497955490482,
            0.07301895938429788,
            0.09117670800713738,
            0.09674924666012025,
            0.06481201238544508,
            0.04252313061018531,
            0.09068640878329058,
            0.03769410813693909,
            0.016840640648681772,
            0.03708738674694639,
            0.09852716513010734,
            0.027133179839192202,
            0.08710708129328282,
            0.09187804349050144,
            0.015070814623412889,
            0.07733376027888485,
            0.036820537919483746,
            0.08894725371763591,
            0.06235412587560204,
            0.07829822278839614,
            0.024213911802792976,
            0.02934735631489368,
            0.09684562667725202,
            0.06742498668556661,
            0.09036374715710821,
            0.041029829603316345,
            0.04818666300285078,
            0.09856981859959432,
            0.05058328780771211,
            0.07904058084868132,
            0.05659971070024199,
            0.057121415648174266,
            0.084212689571867,
            0.0821319440656127,
            0.061236223543624096,
            0.023595046726461427,
            0.019857401207472404,
            0.08925087483220298,
            0.044138351040057804,
            0.07681097550906632,
            0.02173644064914621,
            0.03254879799240804,
            0.023225867486430928,
            0.08472942666543226,
            0.030615815657525823,
            0.06820691500190419,
            0.031151477163879178,
            0.04606563938269404,
            0.027171080463487117,
            0.08130247918410013,
            0.03936463479737977,
            0.014790043384806913,
            0.06891574229033456,
            0.028903933152164427,
            0.07942874582025655,
            0.07922675022553512,
            0.08848571269688191,
            0.07088314841673969,
            0.03380603538970582,
            0.04501605822878826,
            0.041885184850509884,
            0.024399169978506267,
            0.06444360061178285,
            0.049066159932592716,
            0.01815331658166619,
            0.08455771220071334,
            0.027641934275237146,
            0.06627038910576923,
            0.09555629581314241,
            0.06623691000234029,
            0.011275045293419484,
            0.09474520256494831,
            0.05578776105893096,
            0.02484240986432773,
            0.030681556288967828,
            0.07122372532791693,
            0.0517073884699021,
            0.03501108438364138,
            0.06990765538485395,
            0.08300858211177856,
            0.02691634188955508,
            0.09084861241775427,
            0.08510384668417603,
            0.057007056383408077,
            0.043269525853324706,
            0.05061031145109233,
            0.028948890031340213,
            0.07488670670053818,
            0.040451620069547674,
            0.011010083686202,
            0.08837051392462177,
            0.06755848877132363,
            0.07143492302328253,
            0.033838470537904966,
            0.08056878662118033,
            0.017420908346893072,
            0.010622720877436972,
            0.016972966521956522,
            0.06316041402995916,
            0.06941463294966624,
            0.07412110693822933,
            0.048670775738196406,
            0.014503020643195677,
            0.06134787518305584,
            0.061763074974531686,
            0.08025820104227147,
            0.08705057653726105,
            0.04835048967240485,
            0.09079533323313282,
            0.02958852780053578,
            0.0314403906841861,
            0.012037915105547994,
            0.011641345924627733,
            0.028254009311966338,
            0.03597444823849481,
            0.09172600607701567,
            0.011281702889768718,
            0.07774255841617869,
            0.08936815201394079,
            0.03944672267517264,
            0.06626937983125825,
            0.0515013326972819,
            0.0753484836597483,
            0.059884313385626456,
            0.025821272163361247,
            0.08248466621550482,
            0.0962811551712773,
            0.07440644626427718,
            0.07278867403928183,
            0.06413432878960465,
            0.030292130807469793,
            0.015576965173175111,
            0.012797579424476468,
            0.06069870291476779,
            0.013407242632769495,
            0.019242277220356277,
            0.04016396723214755,
            0.03347817059346454,
            0.053094262571446074,
            0.051808691843630655,
            0.08295522863929997,
            0.07983826939765981,
            0.013388552289254604,
            0.06320501560271594,
            0.07420160830149851,
            0.06865901281508754,
            0.02966360170377614,
            0.06534903675544283,
            0.09263350149610247,
            0.07065538742456566,
            0.02941325636067587,
            0.09427358017400611,
            0.06317033405081426,
            0.08891599742216856,
            0.01742185849861763,
            0.041111319014114474,
            0.09589541497722748,
            0.044999775090192415,
            0.0550602918682328,
            0.025728247364976274,
            0.09888348357013743,
            0.04916310805274157,
            0.04772331917357413,
            0.03274036053712443,
            0.08042212241105773,
            0.04483220502767067,
            0.06678171425827042,
            0.07557758969433341,
            0.0711363590121105,
            0.0603757503682444,
            0.0678776789042607,
            0.024723288381915072,
            0.030184150602892104,
            0.04398217231937042,
            0.09760507012060303,
            0.08488188445765894,
            0.06303042930281189,
            0.013420923328699113,
            0.031234253062051513,
            0.030712318538290484,
            0.04969452874976022,
            0.05644675479506035,
            0.06265749991191524,
            0.022882186029361467,
            0.03000663700882958,
            0.05408864349919567,
            0.0945544999651981,
            0.036473922840844,
            0.07829730598960914,
            0.05798988318399625,
            0.04476153689842771,
            0.053389999210261455,
            0.07243028140819212,
            0.0423279503158915,
            0.0196179024802835,
            0.04485147462063778,
            0.05291199374180771,
            0.0733846995649516,
            0.06274806596978628,
            0.05340400823370419,
            0.038242474473458625,
            0.07300123089160256,
            0.09789315229868982,
            0.028558859156816364,
            0.025534553271447227,
            0.04392739757317204,
            0.0115520625652204,
            0.0707552511439087,
            0.060400007973349074,
            0.03279764808825297,
            0.04693867770245557,
            0.03565723486977436,
            0.056114717803077356,
            0.04160116207585894,
            0.015650487702594314,
            0.06179957425081094,
            0.016694119939308735,
            0.09187731276527818,
            0.09566765734192671,
            0.06879954797309844,
            0.02271917501978596,
            0.06391528471081186,
            0.09216472733696213,
            0.0652252649387215,
            0.01861161194262719,
            0.07036863048270686,
            0.06034438500351023,
            0.041086151655109655,
            0.04509891728497452,
            0.04059382588970383,
            0.05294999355147999,
            0.023073542564026613,
            0.013503685470957164,
            0.01808620907183451,
            0.0652585130849193,
            0.015103948916898067,
            0.016095621391979772,
            0.052287905120970875,
            0.04175133107628894,
            0.014113729737087775,
            0.05126739378772747,
            0.08335349279820006,
            0.05846959665529183,
            0.08781309154577491,
            0.05055796932604482,
            0.07161192560769992,
            0.07618226112848303,
            0.05363515320995246,
            0.05816288715435082,
            0.0648423827061831,
            0.011827826135690916,
            0.07512301916935067,
            0.030771094096942134,
            0.05664284805419525,
            0.051613584207029,
            0.02206907821128309,
            0.03187229310546197,
            0.0695641959543487,
            0.0676702105517733,
            0.02050117401435171,
            0.02766074407035274,
            0.06110575545478687,
            0.03408952620944482,
            0.02547190608577342,
            0.08054390119853004,
            0.05885905664603558,
            0.04910851474253667,
            0.031281199387690486,
            0.06204918538138784,
            0.011947959380406124,
            0.07886204551428756,
            0.08891644945204798,
            0.06246324192989543,
            0.03172481336676844,
            0.05084486118412125,
            0.03474491299657797,
            0.05980843592118457,
            0.03625279610935652,
            0.045971109765001565,
            0.07713968168116499,
            0.037578709807782745,
            0.030418031387888747,
            0.09016743530579717,
            0.01135107189718848,
            0.01513364357799743,
            0.08154690397628542,
            0.059876582033630006,
            0.09606054336707856,
            0.04892109182665744,
            0.07096049274126379,
            0.03532866334724113,
            0.01791760925088683,
            0.08980211033080505,
            0.05586575629630781,
            0.0688634139103616,
            0.022521708544762827,
            0.060541738171685455,
            0.07288061767576744,
            0.05876612663498326,
            0.08696725954197107,
            0.07176668483549893,
            0.04433772500106479,
            0.0766727497949609,
            0.08501385670912119,
            0.011496671128810105,
            0.012396397302689127,
            0.07118365222893167,
            0.09457104046291588,
            0.011505142934601363,
            0.09836543897710379,
            0.0387344579230288,
            0.01341288010194918,
            0.07710131195984017,
            0.09670425908343856,
            0.03222009708671912,
            0.09047506817240988,
            0.042491902219828806,
            0.09245620173733252,
            0.03722543918379349,
            0.06903904370895736,
            0.01962614449500962,
            0.054912618307444844,
            0.0400357001749729,
            0.026915688145697912,
            0.06058748831644109,
            0.05901609086247858,
            0.09180479969829941,
            0.08349336490976386,
            0.017830507047487655,
            0.08614953845553872,
            0.04155901108472305,
            0.07822481349343206,
            0.07112295871150479,
            0.046923598985509685,
            0.03610423251853257,
            0.053048366365654416
           ]
          },
          {
           "axis": {
            "matches": true
           },
           "label": "product_availability",
           "values": [
            80,
            32,
            54,
            30,
            37,
            76,
            82,
            18,
            97,
            39,
            78,
            62,
            67,
            73,
            93,
            95,
            98,
            75,
            24,
            52,
            49,
            92,
            14,
            39,
            26,
            62,
            23,
            18,
            98,
            37,
            54,
            15,
            43,
            11,
            67,
            63,
            66,
            98,
            84,
            34,
            11,
            79,
            39,
            80,
            32,
            41,
            82,
            37,
            69,
            33,
            59,
            54,
            92,
            63,
            25,
            55,
            70,
            78,
            24,
            48,
            94,
            95,
            50,
            71,
            89,
            77,
            66,
            87,
            20,
            52,
            10,
            65,
            69,
            60,
            49,
            33,
            32,
            72,
            70,
            45,
            53,
            75,
            17,
            61,
            74,
            23,
            97,
            66,
            97,
            78,
            95,
            21,
            62,
            27,
            33,
            83,
            54,
            62,
            49,
            56,
            18,
            57,
            29,
            55,
            98,
            78,
            41,
            83,
            63,
            34,
            16,
            37,
            51,
            90,
            16,
            74,
            97,
            48,
            87,
            68,
            30,
            94,
            46,
            70,
            97,
            38,
            92,
            30,
            41,
            32,
            72,
            37,
            25,
            50,
            85,
            31,
            64,
            66,
            68,
            69,
            71,
            63,
            30,
            58,
            38,
            42,
            99,
            26,
            49,
            64,
            38,
            12,
            47,
            25,
            77,
            98,
            39,
            67,
            27,
            52,
            46,
            60,
            87,
            62,
            73,
            45,
            90,
            47,
            48,
            63,
            73,
            56,
            13,
            18,
            18,
            19,
            38,
            19,
            18,
            99,
            32,
            12,
            49,
            92,
            34,
            97,
            71,
            59,
            39,
            49,
            71,
            52,
            40,
            52,
            31,
            24,
            17,
            33,
            14,
            80,
            67,
            34,
            78,
            38,
            30,
            56,
            15,
            99,
            68,
            48,
            91,
            71,
            26,
            44,
            49,
            66,
            68,
            62,
            46,
            19,
            67,
            67,
            21,
            83,
            52,
            29,
            90,
            95,
            81,
            42,
            58,
            33,
            91,
            74,
            66,
            95,
            23,
            42,
            51,
            92,
            27,
            25,
            77,
            85,
            16,
            73,
            67,
            52,
            54,
            95,
            26,
            51,
            12,
            30,
            22,
            42,
            32,
            81,
            76,
            12,
            79,
            55,
            79,
            37,
            12,
            72,
            87,
            83,
            88,
            80,
            30,
            52,
            95,
            31,
            99,
            21,
            20,
            72,
            69,
            24,
            76,
            44,
            72,
            73,
            12,
            81,
            99,
            34,
            99,
            46,
            41,
            23,
            52,
            48,
            14,
            44,
            15,
            36,
            94,
            46,
            94,
            80,
            83,
            22,
            20,
            85,
            38,
            67,
            51,
            33,
            96,
            26,
            13,
            71,
            71,
            88,
            85,
            63,
            83,
            12,
            60,
            89,
            83,
            52,
            83,
            44,
            23,
            13,
            91,
            12,
            67,
            34,
            77,
            93,
            28,
            49,
            70,
            12,
            24,
            93,
            21,
            50,
            17,
            88,
            87,
            70,
            26,
            86,
            73,
            19,
            91,
            32,
            60,
            51,
            65,
            97,
            26,
            83,
            95,
            70,
            54,
            82,
            13,
            23,
            15,
            21,
            42,
            65,
            53,
            29,
            70,
            50,
            13,
            44,
            71,
            96,
            83,
            26,
            58,
            48,
            59,
            44,
            89,
            16,
            13,
            61,
            71,
            19,
            59,
            92,
            86,
            30,
            51,
            49,
            91,
            24,
            11,
            19,
            10,
            41,
            90,
            37,
            97,
            89,
            38,
            26,
            43,
            28,
            84,
            36,
            68,
            64,
            44,
            46,
            92,
            28,
            53,
            45,
            72,
            36,
            14,
            23,
            55,
            11,
            67,
            15,
            84,
            58,
            13,
            57,
            33,
            89,
            95,
            84,
            41,
            98,
            96,
            54,
            53,
            42,
            22,
            14,
            88,
            75,
            56,
            22,
            16,
            23,
            53,
            48,
            43,
            80,
            50,
            16,
            56,
            44,
            65,
            25,
            98,
            54,
            30,
            97,
            60,
            43,
            87,
            23,
            19,
            57,
            30,
            74,
            50,
            19,
            69,
            58,
            13,
            27,
            94,
            34,
            69,
            53,
            94,
            42,
            54,
            17,
            71,
            60,
            70,
            88,
            18,
            99,
            83,
            70,
            61,
            70,
            61,
            57,
            91,
            54,
            56,
            15,
            46,
            72,
            19,
            26,
            47,
            64,
            89,
            68,
            89,
            15,
            18,
            87,
            74,
            25,
            21,
            13,
            50,
            58,
            14,
            44,
            12,
            61,
            63,
            56,
            55,
            26,
            44,
            71,
            50,
            85,
            55,
            76,
            72,
            65,
            92,
            69,
            65,
            66,
            53,
            63,
            77,
            42,
            96,
            91,
            97,
            31,
            68,
            15,
            90,
            24,
            80,
            87,
            41,
            88,
            95,
            83,
            80,
            63,
            45,
            18,
            41,
            75,
            11,
            53,
            81,
            59,
            45,
            10,
            50,
            97,
            34,
            57,
            41,
            85,
            84,
            63,
            93,
            63,
            72,
            90,
            73,
            74,
            26,
            83,
            49,
            91,
            45,
            37,
            63,
            69,
            61,
            92,
            66,
            30,
            94,
            49,
            27,
            98,
            83,
            49,
            42,
            85,
            27,
            54,
            26,
            31,
            73,
            19,
            98,
            81,
            35,
            18,
            86,
            10,
            33,
            34,
            86,
            42,
            17,
            12,
            65,
            50,
            85,
            85,
            79,
            30,
            35,
            26,
            82,
            56,
            60,
            90,
            59,
            77,
            10,
            13,
            99,
            45,
            75,
            30,
            87,
            98,
            26,
            56,
            74,
            76,
            47,
            96,
            63,
            99,
            21,
            70,
            27,
            54,
            49,
            70,
            58,
            46,
            53,
            73,
            85,
            87,
            12,
            56,
            92,
            55,
            25,
            35,
            66,
            83,
            72,
            45,
            79,
            89,
            77,
            44,
            40,
            85,
            11,
            52,
            74,
            23,
            64,
            62,
            89,
            24,
            25,
            32,
            69,
            31,
            77,
            67,
            81,
            54,
            22,
            84,
            29,
            88,
            27,
            34,
            55,
            89,
            81,
            30,
            33,
            33,
            91,
            43,
            64,
            56,
            65,
            85,
            87,
            53,
            33,
            11,
            67,
            98,
            58,
            97,
            76,
            40,
            63,
            88,
            88,
            43,
            29,
            91,
            78,
            64,
            74,
            23,
            74,
            16,
            60,
            10,
            14,
            17,
            80,
            83,
            55,
            76,
            43,
            67,
            65,
            66,
            44,
            72,
            21,
            60,
            74,
            31,
            87,
            67,
            54,
            27,
            80,
            56,
            17,
            79,
            86,
            95,
            43,
            70,
            19,
            72,
            11,
            25,
            90,
            70,
            83,
            97,
            50,
            13,
            18,
            87,
            59,
            48,
            20,
            42,
            38,
            63,
            59,
            56,
            23,
            81,
            72,
            14,
            97,
            39,
            85,
            35,
            12,
            22,
            24,
            29,
            29,
            30,
            12,
            32,
            62,
            78,
            55,
            13,
            39,
            57,
            69,
            48,
            26,
            66,
            81,
            45,
            51,
            67,
            48,
            21,
            33,
            32,
            74,
            26,
            23,
            55,
            43,
            28,
            53,
            49,
            24,
            52,
            84,
            33,
            47,
            90,
            51,
            51,
            29,
            40,
            17,
            72,
            22,
            90,
            72,
            29,
            65,
            77,
            44,
            54,
            42,
            60,
            49,
            28,
            78,
            89,
            35,
            30,
            62,
            73,
            36,
            43,
            57,
            63,
            44,
            65,
            21,
            64,
            84,
            87,
            32,
            77,
            49,
            39,
            13,
            66,
            16,
            80,
            69,
            92,
            20,
            30,
            90,
            37,
            38,
            14,
            90,
            49,
            61,
            33,
            55,
            49,
            20,
            37,
            83,
            54,
            86,
            12,
            13,
            79,
            94,
            86,
            70,
            59,
            86,
            62,
            65,
            86,
            41,
            66,
            40,
            43,
            30,
            64,
            74,
            59,
            13,
            44,
            10,
            92,
            91,
            46,
            73,
            80,
            40,
            13,
            34,
            99,
            86,
            45,
            47,
            93,
            11,
            77,
            41,
            19,
            93,
            89,
            59,
            13,
            62,
            18,
            39,
            27,
            60,
            60,
            31,
            23,
            59,
            35,
            19,
            23,
            74,
            90,
            28,
            45,
            38,
            57,
            43,
            44,
            81,
            99,
            70,
            49,
            96,
            98,
            49,
            89,
            47,
            32,
            10,
            47,
            84,
            64,
            79,
            75,
            99,
            88,
            44,
            88,
            12,
            45,
            93,
            83,
            92,
            70,
            57,
            71,
            14,
            68,
            14,
            61,
            16,
            15,
            93,
            33,
            81,
            75,
            29,
            19,
            25,
            60,
            28,
            96
           ]
          },
          {
           "axis": {
            "matches": true
           },
           "label": "customer_behavior",
           "values": [
            54.3245903561623,
            33.448665084299336,
            66.11822768940083,
            38.54705786234883,
            42.95282639182984,
            47.4039561086983,
            53.376459328531844,
            47.50081447453527,
            54.42571563639269,
            48.41078192417218,
            41.836240658385,
            47.81785899749741,
            56.88851474914365,
            64.97591753921668,
            39.64538429267547,
            57.72662220833557,
            58.34034769814352,
            32.69638203709497,
            39.66564403084753,
            29.99439679401421,
            55.4611625208865,
            41.69686785556021,
            55.802808030900735,
            50.891720811467685,
            44.51632152277238,
            52.00872556403547,
            65.21342036605814,
            38.505075315353174,
            47.95994199752706,
            46.47963660033605,
            43.16529877571051,
            48.3951466884605,
            54.97280257662996,
            44.11441707429471,
            39.48878465664582,
            48.66605107202823,
            37.66735574828351,
            38.7677309989956,
            57.880890951866874,
            50.0675720133047,
            50.637163577916745,
            45.16010836812022,
            43.697334303391386,
            74.18104142412258,
            48.16879950798632,
            53.04531701884442,
            45.35296436173282,
            76.0114634813354,
            57.124982659853146,
            51.36689661379533,
            43.83343969277697,
            38.71485873117195,
            72.65169724021388,
            48.08822551725565,
            48.1839381580472,
            32.82236324694795,
            37.55313341046349,
            59.32798011971026,
            47.38041035500818,
            45.43925281125207,
            38.176653736368905,
            50.9031418452807,
            55.01243758892833,
            55.00579943835279,
            45.14184769456568,
            54.144696003042746,
            35.98397941032795,
            47.34831600106822,
            33.303178138129795,
            41.872475111664315,
            68.30652720119397,
            49.058110129689865,
            55.80709003230429,
            54.757211858651885,
            42.360082704163645,
            48.97245987779818,
            67.77517100511899,
            49.73611821257371,
            43.581379484708236,
            56.40964072987813,
            54.960468469254266,
            49.63417346017548,
            44.01496767742052,
            48.64636637083988,
            54.40047527170046,
            53.86506317288952,
            49.36234287738767,
            44.98182659874268,
            48.68063783380377,
            41.58118645346105,
            39.803522881417365,
            49.9845966374568,
            34.33492108891872,
            49.67732614819941,
            72.04262477136486,
            68.43261163599243,
            42.93272020003539,
            67.7556740385735,
            30.62053819219513,
            55.54863780303036,
            53.789953529722005,
            54.85515729237511,
            48.59127974770046,
            19.786926701074844,
            39.64647842769681,
            40.745436029032746,
            71.32387582309964,
            65.85542558546572,
            56.78436308791999,
            21.662778151984323,
            45.96848260878362,
            53.56182298302198,
            50.590094162987036,
            63.257992031412655,
            42.92044582602624,
            42.687991630542264,
            45.49501720228704,
            49.46177773822013,
            47.853886944984694,
            60.16744523722523,
            45.54956291206624,
            34.95676014670457,
            46.02881936541054,
            48.13009577505845,
            43.865351922175215,
            52.14291851673017,
            51.91146033698916,
            53.89080685726257,
            65.84634374357006,
            55.11205854092537,
            44.01404989421357,
            50.456692684158774,
            50.26514279798977,
            52.30571431035973,
            35.08815530293843,
            40.738669773755674,
            50.76415944337148,
            42.97784350707774,
            37.79114692752819,
            61.17658998635818,
            65.79040599394006,
            66.34030760869885,
            35.0678098654264,
            61.01223726518262,
            51.169799095722944,
            53.30765497470307,
            49.58393776337419,
            35.306134727447,
            55.197619938467014,
            42.12964143286755,
            41.26836618600321,
            59.47070143452964,
            42.21794190812457,
            53.422009116560425,
            48.65741071064523,
            47.81443672373008,
            61.32656926811042,
            68.75355097638013,
            65.44762392248991,
            52.49252010990784,
            29.598248844048058,
            50.734758902142545,
            47.85391845305481,
            52.80527355260501,
            60.26559126917729,
            48.9824437051352,
            48.110173077305106,
            61.74548923820487,
            48.83825827573834,
            61.564194943831204,
            38.285332270042325,
            40.689535598405485,
            71.73962334829855,
            72.82037125223896,
            59.16939879912199,
            59.50015833712316,
            53.8697553784133,
            45.86350728806188,
            42.72464181810117,
            35.571845631273085,
            64.12242146950689,
            47.705061108889026,
            38.00312183772821,
            51.267973898761056,
            60.04119656048022,
            52.69613339923272,
            58.62402335194415,
            63.41022639484914,
            63.32703024674002,
            41.714986062971455,
            48.41459354786979,
            42.717533464753785,
            70.29084941158928,
            47.56500948815179,
            41.997961142960456,
            39.680965040188745,
            65.79950521998833,
            66.03173843912793,
            63.90198156638943,
            60.58849720761689,
            42.85016826795136,
            51.68694307459809,
            53.035768705241196,
            55.629098428690725,
            38.57873900660632,
            47.66535926972884,
            51.5269714720882,
            57.14849387120621,
            64.28105231570186,
            53.49061636576069,
            32.246529156653835,
            36.1060746913161,
            56.26791178460449,
            55.09397755012281,
            47.16904524350719,
            36.93978561451932,
            44.32864369214094,
            57.72876745275405,
            56.31273491308875,
            41.21927211242915,
            62.551528329072056,
            36.95552108754387,
            39.58797941251602,
            54.88657779314384,
            40.23741527265326,
            61.97616017418475,
            48.486687113213236,
            30.66374557006009,
            54.82515824552313,
            49.44633241730129,
            50.882746378311055,
            44.7092220361196,
            28.238720221804712,
            44.84284644830439,
            46.104094724522405,
            35.48923324343587,
            37.62691584430536,
            38.94666849162947,
            59.02309604677915,
            18.7521625793065,
            56.2161339940045,
            35.16384240359158,
            55.80874886499521,
            60.08040834617496,
            47.35684700499184,
            49.73742448988816,
            50.645136970573525,
            24.341307923869415,
            60.303070289886904,
            63.39013124283599,
            28.486291454799627,
            60.603344849666016,
            39.02632075911013,
            43.41175653612517,
            41.92102383277286,
            46.38228330681282,
            57.8412124008201,
            50.83375070896509,
            44.02227391228078,
            40.44799444557819,
            35.47469171147605,
            59.80727905287705,
            39.80951322409143,
            28.023075628784685,
            50.94583841940298,
            26.314278097549945,
            49.77264679303327,
            48.81906050034606,
            59.716026389117964,
            51.82914358287228,
            54.13090752789418,
            48.831620325033114,
            39.669108125951354,
            43.55164102479817,
            61.63663681580793,
            51.423459611047804,
            38.88797825302814,
            53.195846929240034,
            45.39356776936266,
            39.721507140190496,
            44.44350342054543,
            51.027906608842336,
            44.93537344918868,
            49.27268579961198,
            39.12413578908972,
            47.44325048469777,
            55.40659293137619,
            49.090707741130785,
            49.329788759205485,
            35.95829665666821,
            44.96191443244148,
            61.93841371846322,
            52.63768630347901,
            48.05253537726818,
            50.83666282225205,
            47.484528900490744,
            50.920226241686684,
            59.06099364007747,
            39.67522928495459,
            46.30357218736282,
            53.71648503638476,
            41.43414394343742,
            29.307312764895528,
            57.23465710503649,
            65.09829103056688,
            52.08226699201113,
            49.49819967901867,
            52.77289040824198,
            36.516189230630005,
            54.91334881009348,
            52.57169443124814,
            54.694383095433004,
            35.1895584044451,
            48.15536930374078,
            30.583921850918404,
            40.89847786741021,
            56.31149664336154,
            35.76163944217781,
            39.27778957632401,
            44.49372445220868,
            63.8900423140004,
            49.222785478462136,
            44.13665414631854,
            56.37690232345135,
            63.26669199803923,
            52.034552573493954,
            57.55640577151569,
            46.51132418841388,
            35.78321176734036,
            34.68108578338854,
            25.50116055757674,
            44.65716365421252,
            51.56557869347385,
            34.42333658311837,
            49.9800582945538,
            57.27715264888286,
            41.31604678620463,
            39.17638420988358,
            44.48046476398541,
            46.93190924661394,
            68.61892953033556,
            33.89973914654237,
            45.65909000829575,
            40.33113992937894,
            61.04409285675041,
            44.7165469897832,
            57.6621260032104,
            77.75106948794522,
            54.944854007258414,
            56.24285675222838,
            66.72131142666592,
            41.104924623754435,
            45.02510474942668,
            59.0622499353663,
            44.31931972679418,
            49.265554200587545,
            39.48966644484454,
            35.88648195193481,
            46.335035064751025,
            45.150088034568014,
            51.615734680028226,
            57.31402373772616,
            47.50631937234879,
            65.31878856503437,
            60.38136506593798,
            49.376644780463366,
            37.67075170915712,
            41.42767953950319,
            52.57063966301178,
            63.454701163433256,
            43.99297535903151,
            45.18209539341593,
            42.43924309416353,
            51.27253798856374,
            43.33205482146905,
            47.404110835461026,
            56.31758404064352,
            46.945295081086094,
            38.410234243605544,
            37.37977586857347,
            38.824367323416226,
            37.041947002026504,
            49.96928593429559,
            53.12621840593988,
            31.532490175309213,
            44.57922612883912,
            62.85557404987247,
            47.688605494463346,
            59.18334832037878,
            54.325311427245936,
            45.27513991533589,
            40.112826992030946,
            64.17754378811078,
            55.25169253533356,
            52.27285124610033,
            47.17784031906028,
            45.44130563239649,
            57.05364282912091,
            39.555606140153145,
            42.299366275670856,
            43.40149236954692,
            64.99978941550465,
            46.907751948421165,
            47.256151573992945,
            29.40420655918057,
            43.50894452523442,
            60.21134313532353,
            47.43015058373928,
            59.982210934430704,
            55.92618247387167,
            58.225114904507286,
            44.648978707809704,
            43.7129229003659,
            50.542274439933166,
            40.71535449568253,
            49.455715885956494,
            36.772702128644944,
            59.69110526296616,
            45.8969446969875,
            49.59498161493032,
            45.9706287983932,
            46.79473539748686,
            55.38676255010259,
            57.91036719048865,
            36.98841251817598,
            56.216835509787515,
            49.56440806681808,
            48.39188354380045,
            69.89888982579524,
            38.82388016878596,
            56.64199996635786,
            44.30329404635468,
            67.35791972436766,
            44.2310834801625,
            42.56135015986681,
            47.63051170240337,
            33.574848828331824,
            58.15873027189768,
            33.92429820310026,
            69.9081983864478,
            45.568240016125905,
            26.723692556805958,
            46.61079660056167,
            35.34104227712824,
            46.965802307928904,
            73.51022869839096,
            54.07455166133573,
            42.42184107158255,
            46.049949682678175,
            61.48558481926256,
            74.47631553663143,
            57.579500199342235,
            44.19561565376628,
            58.252058479484745,
            40.289895396257435,
            47.783234140360605,
            49.72139189980394,
            68.29112940991087,
            35.38927701295788,
            43.653087598761495,
            29.277945117145123,
            41.63823097488995,
            38.17369794225314,
            71.9446515747108,
            56.874274579128596,
            68.53226082355866,
            40.227745433835295,
            40.25055981125207,
            47.16800200128252,
            60.1906780323731,
            49.49653181337446,
            49.86271617624492,
            51.271054631447605,
            31.527298066368715,
            37.67505402555379,
            53.62134478748079,
            51.30825332190853,
            65.24282390106822,
            65.11092559171857,
            67.15035911990394,
            46.34799606615421,
            53.05634217830062,
            54.56164533748692,
            51.12014134328986,
            40.12996734749457,
            48.15893690913937,
            67.35458588388218,
            50.6014121478297,
            55.52678109375418,
            43.767872677409045,
            31.269678832018762,
            66.17168130267807,
            48.30009248139806,
            64.8432082712088,
            43.336941894272385,
            36.83054895669096,
            58.03776296864076,
            44.57036355147165,
            42.10600628470849,
            67.03698671629913,
            60.88060418473343,
            54.72696603472459,
            43.62410862083782,
            51.71393608893786,
            62.58178207717346,
            45.77834825386629,
            71.8454572331672,
            56.01640291872451,
            61.93442182722332,
            67.55554840148895,
            38.76345825732317,
            36.56912543577616,
            60.57331186605148,
            52.97236214607013,
            40.393216388516336,
            46.249492602741334,
            48.89016737188055,
            53.91990458113464,
            70.73483429885641,
            49.845513493107774,
            54.3973880666866,
            47.98381552878578,
            30.873080749352525,
            34.84580379806734,
            36.51889294477135,
            47.08910133534306,
            63.3686505645868,
            56.691855414210224,
            47.599474069447,
            30.8165999164628,
            54.80731992704535,
            40.0099672306772,
            39.44755973613718,
            47.285580875209405,
            55.46482042185304,
            56.604417644540334,
            34.131711571488154,
            29.538615071946115,
            56.806956995350305,
            32.44845029152198,
            44.73615727347862,
            50.37751148710108,
            46.77757192830372,
            59.01418989586931,
            43.46859772006425,
            56.844439044074704,
            44.0028925052824,
            59.16202183976224,
            49.712868146010884,
            64.5686958407319,
            37.19995495996832,
            53.30141310564051,
            40.69870315847501,
            59.81087732902915,
            54.500932276804214,
            49.06876338260231,
            46.22367118313321,
            59.42652977489697,
            48.06931034758908,
            75.31393595040583,
            41.557095825445515,
            44.78694205599398,
            59.49494509070484,
            48.52414718860053,
            74.57278850044284,
            42.57027642860753,
            38.08050267356097,
            27.766947291660028,
            48.106680616164965,
            37.77068389016762,
            56.12037353546487,
            57.73235841603804,
            50.044696056920586,
            60.722468080459336,
            43.024115386804525,
            58.33256893896869,
            65.6828181565137,
            36.74680425270225,
            52.295770852888936,
            59.023241305193515,
            37.40392337738763,
            57.812325902674246,
            42.21437959981768,
            57.40127151555803,
            52.84189612009575,
            48.18376748605667,
            31.092696790046578,
            67.5061917210628,
            50.37207110303058,
            52.56721143418224,
            37.852992632420424,
            57.476858051401294,
            59.8434204034229,
            49.9891009979562,
            31.07540633905186,
            65.4567411199174,
            65.22184712288345,
            37.59035974780876,
            57.542305535077205,
            49.53311686024418,
            43.991237108700545,
            62.24755544011353,
            73.72628232819338,
            57.483066642172375,
            31.48793806623954,
            32.848699408668764,
            37.47409253044215,
            39.34208984132766,
            39.22920018658805,
            40.046559217115764,
            58.71827677632692,
            53.65387384144474,
            55.673917548939485,
            39.26441219507811,
            53.8773342660729,
            49.2531198788707,
            41.62064661221094,
            60.41395379976333,
            54.5890097125836,
            50.75840254290968,
            40.51202559217234,
            49.30894003700926,
            34.186999966087974,
            53.598537722368874,
            33.94660565216528,
            47.20516690453298,
            46.977495965992496,
            49.01773776760195,
            53.529905526971966,
            54.718351608370405,
            33.175219701429825,
            44.25292178337241,
            38.91101399997571,
            37.1958470143521,
            68.31551915147202,
            51.90660841538355,
            40.103116013349,
            30.375412528370664,
            71.14639235886624,
            64.81126437824524,
            44.207717120343986,
            55.28279105693866,
            40.5232757620676,
            40.10545228444369,
            60.42823451195798,
            56.33083937539456,
            59.58715254834653,
            62.99959423255468,
            60.72038809809232,
            63.577173421558214,
            59.72321684143168,
            57.22326246228252,
            64.28911064242911,
            57.311870354589495,
            62.4678696708662,
            23.89556245961125,
            53.209419627660345,
            79.89324804944765,
            48.85481252641303,
            55.08580880867514,
            48.94797407596192,
            43.8541769416269,
            56.34377598149852,
            57.26769604430078,
            60.417489628626896,
            57.250715555467295,
            37.8217441007429,
            44.73522840851955,
            61.20711549263798,
            47.779526462550265,
            42.738396071069786,
            55.549928837696676,
            62.32817778234566,
            50.50743355827378,
            53.316859628155285,
            52.74505670188637,
            48.153369950763164,
            59.24043867552692,
            58.20405404086222,
            48.88926010985223,
            38.045229870052154,
            53.53215514030631,
            58.316412076527584,
            57.87994155150066,
            45.24752491230395,
            62.33729993020765,
            53.78826251219329,
            42.77030898295044,
            51.83066030209824,
            53.103499170424,
            57.24502422094027,
            49.916700012148915,
            59.772958329167786,
            47.74998729974418,
            36.02033480634434,
            64.8245078965478,
            50.59056748847445,
            36.1152795667061,
            56.957980089778374,
            58.071548118230446,
            36.4906435651093,
            48.25080573689168,
            42.58803326194142,
            49.23828191320236,
            43.652163805330495,
            39.20808848682158,
            52.840596340554505,
            61.19818777501631,
            61.87135004952216,
            59.13467651963637,
            51.542967973359644,
            35.93083547794211,
            51.82174891652268,
            49.264517577619095,
            43.58626674523672,
            60.79426596030709,
            61.66615984233024,
            45.9061345964828,
            42.82181839116124,
            49.36413481185718,
            36.91657301186682,
            41.19192142623447,
            45.18287976317381,
            38.742447921556234,
            63.58533530471212,
            47.85935168582253,
            45.49579120890723,
            50.02514649650839,
            30.464152327743502,
            51.54963095094012,
            78.64896879276853,
            55.3125320051206,
            32.09468305337079,
            44.138571494948344,
            45.84992645399372,
            41.525195916775004,
            38.02651021458176,
            51.34227299810222,
            50.61336879267259,
            48.60823050701882,
            51.944073046704936,
            41.35105703261449,
            57.74775473704679,
            54.514633448931214,
            43.98516865533868,
            39.77930927645792,
            43.368921891109046,
            42.12113075530472,
            43.15205053157125,
            36.21436393131711,
            41.860132530559284,
            60.36450307179298,
            59.25278569808792,
            57.09826421105883,
            43.77171553156644,
            48.799560979337855,
            45.14895592691646,
            54.097502114842285,
            33.20916832168005,
            64.0372275850429,
            58.409741459020125,
            61.21746226592612,
            41.76709134747941,
            59.6253360753712,
            25.671936762709045,
            44.951512212537644,
            39.07474905357752,
            56.22873528297166,
            56.719830210878506,
            52.324352739900206,
            52.092949751450824,
            38.45791721860768,
            55.06417885329941,
            43.20570990460832,
            50.61747641361453,
            32.82078643389734,
            40.53932507738255,
            50.70330533842889,
            47.60390411012512,
            47.5207654428487,
            47.75285595004371,
            57.450782693037624,
            60.597370785766174,
            44.91747913620671,
            51.87783329529169,
            54.922959409737985,
            60.255873828891055,
            50.095310623052306,
            54.0793777012066,
            40.07328599481664,
            47.94918442201399,
            43.22890334019143,
            52.71751672601016,
            44.51079804797575,
            54.148155446529955,
            45.598280415078804,
            76.97958978658474,
            43.72292826870898,
            47.208041240444686,
            56.67071690722204,
            44.60290318961872,
            50.32708441587701,
            45.78004427551876,
            55.372448585122065,
            31.691704571053204,
            57.193470831083545,
            42.15196066446062,
            48.52137048819852,
            39.16189113821426,
            43.06847075917096,
            45.29892651559443,
            42.918676547096865,
            32.44652230287434,
            44.30419415508155,
            48.100226092836905,
            47.58112662521826,
            53.11507173351068,
            37.063454689830415,
            56.11457166803609,
            47.78856193385338,
            31.570067617877825,
            49.28839165532968,
            58.45410333352389,
            63.95117767013812,
            33.91794125505953,
            66.66254694524486,
            48.53015743349949,
            47.1632645911653,
            53.531597035974244,
            46.34187107940788,
            50.27911893224778,
            47.37871298057416,
            50.589414958449005,
            54.174176742838505,
            47.61563150158166,
            60.489265645212406,
            47.628870002199776,
            37.10415377606908,
            40.189236852732876,
            58.68010073369027,
            44.068809107570516,
            53.649456954916594,
            36.824646568948154,
            53.14486692673888,
            48.05123635670847,
            64.99467138046518,
            65.65612527976154,
            58.94857931388799,
            30.147069939965935,
            39.023359545401924,
            61.17424799787972,
            47.50570945410206,
            55.18440301079806,
            55.1281382510448,
            60.820362766881715,
            62.56810450414779,
            47.767868220363845,
            48.84170821195738,
            35.77776918137555,
            65.8722950263672,
            67.20283994760712,
            44.473309820315066,
            49.794532069719075,
            64.96016563576745,
            73.89445068610634,
            33.96379147812122,
            49.03330996534441,
            54.98614683379683,
            56.56266797982531,
            30.78610457098432,
            45.82015326595891,
            50.70655297266655,
            58.77429993485201,
            56.83259795006005,
            51.697459006676105,
            56.26863562446395,
            49.27950695415039,
            67.67640841752933,
            52.87018581191441,
            53.04544489696454,
            59.83787842729137,
            58.04108033001132,
            77.40329256012265,
            57.883281038601176,
            54.88182001726317,
            64.72100922812254,
            47.49887719384468,
            40.848082637898216,
            38.18658713156479,
            48.691251548604534,
            52.179986821451664,
            54.859476566319124,
            35.553939084882,
            48.38383053097769,
            54.02268127892202,
            46.63394074082992,
            47.85045368197414,
            51.113973256500536,
            58.77785456983768,
            45.7178861574096,
            63.9046995367624,
            55.18829789746979,
            42.54933317956382,
            30.60449076114534,
            66.03636818751478,
            44.47679934626288,
            56.47976251185455,
            61.03374308291557,
            41.89538083643113,
            65.8626276123339,
            48.00615602918129,
            47.85017259846582,
            48.23402286116866,
            52.04616837028228,
            37.47191514127077,
            70.39460847611946,
            58.077015780488686,
            48.49911052388274,
            64.60485139692577,
            70.82031610365772,
            57.21457936643526,
            55.43451408651997,
            50.24885217641614,
            52.22293313633888,
            49.25850054209917,
            55.2880506969046,
            36.464460076109596,
            55.36796011462196,
            36.913122381861186,
            55.67651916541776,
            38.63199112374711,
            40.2151186519101,
            33.272261214745,
            46.47956894524472,
            44.76022007774215,
            58.1831692370404,
            38.06654667026103,
            53.072172925812836,
            50.82128738353542,
            63.88240752118418,
            42.94799556406829,
            56.269003474469564,
            56.27118149157566,
            39.68961757486246,
            47.552876240744176,
            40.37076239568493,
            51.06390404106593,
            62.34647086428508,
            56.252534720989075,
            41.93842840605872,
            50.25136078804578,
            68.26825475614152,
            55.813564500087935,
            54.81324660396318,
            32.96497309049535,
            54.062566679374115,
            71.87976141226089,
            49.71848706445229,
            42.02790621471553,
            62.040663290501335,
            56.756065625293424,
            52.038900577525446,
            46.0849051070734,
            62.56857332730477,
            55.77966671920243,
            61.98024215255233,
            59.92489253028376,
            57.1166836578072,
            53.74569511050354,
            35.20141827226031,
            66.26489421761332,
            43.213927507950174,
            56.4278264400235,
            63.512531950151896,
            59.6672716170026,
            40.76282873428265,
            52.950384206440376,
            40.32114820505569,
            44.298091073013566,
            48.23812356356334,
            63.174228524382016,
            45.818267505071674,
            81.20245966942873,
            38.500651604454546,
            58.267751802211755,
            49.955401529931315,
            60.31912343527338,
            45.25001781266077,
            62.498749601236426,
            45.52812055391547,
            40.62908787056694,
            51.303688305385705,
            56.79361649797985,
            41.328949454451575,
            36.69161772879312,
            41.90730708602585,
            56.42095456685172,
            48.314024160794396,
            48.356840157877414,
            60.13046730744954
           ]
          },
          {
           "axis": {
            "matches": true
           },
           "label": "ConversionRate",
           "values": [
            0.475,
            2.5051546391752577,
            1.4031413612565444,
            2.1674641148325358,
            1.3802083333333333,
            1.3574468085106384,
            2.510204081632653,
            0.5186915887850467,
            0.3299492385786802,
            1.8577981651376148,
            2.1310679611650487,
            1.3264248704663213,
            1.8571428571428572,
            1.4951456310679612,
            0.6415094339622641,
            1.675531914893617,
            0.7883597883597884,
            1.0724637681159421,
            0.8465346534653465,
            1.3031674208144797,
            1.9042553191489362,
            1.3668341708542713,
            0.8691588785046729,
            2.285024154589372,
            0.5920398009950248,
            1.9893617021276595,
            1.702970297029703,
            0.46078431372549017,
            1.0192307692307692,
            0.29850746268656714,
            0.484375,
            2.0796019900497513,
            1.6157407407407407,
            1.1853932584269662,
            2.45959595959596,
            1.62,
            1.8867924528301887,
            2.1940298507462686,
            1.3567567567567567,
            0.9841269841269841,
            1.0679611650485437,
            0.5739910313901345,
            1.0812182741116751,
            2.4145077720207255,
            0.8506787330316742,
            2.3944444444444444,
            2.2236024844720497,
            0.8290155440414507,
            1.8028169014084507,
            1.3125,
            1.1990521327014219,
            1.3235294117647058,
            1.6439024390243901,
            1.976878612716763,
            2.230392156862745,
            1.46,
            1.5229357798165137,
            1.4343434343434343,
            0.9629629629629629,
            2.041095890410959,
            0.647887323943662,
            1.2425742574257426,
            2.1797235023041477,
            0.31443298969072164,
            2.0044444444444443,
            2.409090909090909,
            0.41743119266055045,
            1.291005291005291,
            0.9779005524861878,
            0.2897196261682243,
            2.492462311557789,
            2.1770833333333335,
            2.443820224719101,
            1.0695652173913044,
            0.41706161137440756,
            2.0646766169154227,
            0.6323529411764706,
            2.46,
            0.7216981132075472,
            1.9312169312169312,
            1.311377245508982,
            0.84,
            1.8484848484848484,
            1.1067961165048543,
            2.191919191919192,
            2.1030927835051547,
            0.798941798941799,
            2.1586538461538463,
            1.3121951219512196,
            2.235576923076923,
            0.9537037037037037,
            0.9019607843137255,
            0.2692307692307692,
            0.7373737373737373,
            1.1025641025641026,
            1.308695652173913,
            0.9195979899497487,
            2.1971153846153846,
            1.9090909090909092,
            0.6735751295336787,
            2.211267605633803,
            0.3621621621621622,
            0.6473684210526316,
            1.0989583333333333,
            0.2761904761904762,
            1.9625668449197862,
            1.594871794871795,
            1.6981132075471699,
            1.2807881773399015,
            1.7219730941704037,
            2.265625,
            2.13265306122449,
            2.4232804232804233,
            0.7668393782383419,
            0.581151832460733,
            1.8546511627906976,
            0.47342995169082125,
            0.28019323671497587,
            0.78125,
            1.8864864864864865,
            1.759433962264151,
            1.5454545454545454,
            0.295,
            2.435,
            1.4263959390862944,
            1.3475935828877006,
            1.700507614213198,
            1.471794871794872,
            2.2110552763819094,
            0.8564102564102564,
            1.5303030303030303,
            2.374301675977654,
            2.056122448979592,
            1.685,
            1.9506726457399104,
            1.715736040609137,
            1.9710144927536233,
            1.3917525773195876,
            1.4081632653061225,
            1.7083333333333333,
            0.946078431372549,
            1.4375,
            2.5392670157068062,
            1,
            2.3014354066985647,
            0.5050505050505051,
            2.3756345177664975,
            1.596938775510204,
            0.6039603960396039,
            0.33980582524271846,
            2.3544973544973544,
            0.6934673366834171,
            0.5104166666666666,
            2.2085308056872037,
            0.8351063829787234,
            0.9055555555555556,
            0.6178010471204188,
            1.8190954773869348,
            2.0276497695852536,
            1.5879396984924623,
            1.21256038647343,
            1.7098214285714286,
            1.5735294117647058,
            0.44680851063829785,
            2.271356783919598,
            0.39712918660287083,
            1.165,
            0.9147727272727273,
            0.9893048128342246,
            1.3138075313807531,
            1.0441176470588236,
            0.28,
            0.551219512195122,
            0.9209039548022598,
            0.583732057416268,
            2.1019417475728157,
            1.0673076923076923,
            2.089385474860335,
            0.6342592592592593,
            1.1365638766519823,
            0.3768844221105528,
            0.3175355450236967,
            2.505050505050505,
            1.522167487684729,
            1.9545454545454546,
            1.9253731343283582,
            0.4263157894736842,
            0.38125,
            1.0471698113207548,
            2.005291005291005,
            1.1133004926108374,
            1.8509615384615385,
            2.533678756476684,
            2.5,
            0.9166666666666666,
            1.2239583333333333,
            1.9454545454545455,
            0.43902439024390244,
            0.8472906403940886,
            1.809090909090909,
            1.4705882352941178,
            2.081730769230769,
            2.144278606965174,
            1.3932038834951457,
            1.314410480349345,
            0.3238095238095238,
            1.265625,
            0.2743362831858407,
            2.5260416666666665,
            1.3302752293577982,
            1.1522842639593909,
            1.914691943127962,
            1.268041237113402,
            2.0543478260869565,
            2.21301775147929,
            1.1025641025641026,
            0.38349514563106796,
            1.3177083333333333,
            2.175609756097561,
            1.02,
            0.9073170731707317,
            0.5297029702970297,
            0.4700460829493088,
            0.32367149758454106,
            0.9464285714285714,
            1.6080402010050252,
            1.6702127659574468,
            1.0606060606060606,
            0.6698564593301436,
            1.3611111111111112,
            0.9642857142857143,
            2.300469483568075,
            0.3701923076923077,
            1.7658536585365854,
            1.9035087719298245,
            0.6747967479674797,
            0.8465608465608465,
            1.647887323943662,
            1.6981981981981982,
            2.1216216216216215,
            1.7435897435897436,
            1.900497512437811,
            1.7981220657276995,
            1.7064220183486238,
            0.5794871794871795,
            0.920704845814978,
            2.047872340425532,
            0.46445497630331756,
            1,
            1.9090909090909092,
            1.989247311827957,
            0.7636363636363637,
            0.5369458128078818,
            2.0707547169811322,
            2.7261904761904763,
            1.7567567567567568,
            1.5797101449275361,
            0.40512820512820513,
            1.2163461538461537,
            1.7681159420289856,
            0.44144144144144143,
            1.1953488372093024,
            1.3853658536585365,
            1.8772727272727272,
            1.273972602739726,
            1.27,
            2.356382978723404,
            1.231958762886598,
            1.2952380952380953,
            0.7663043478260869,
            2.303921568627451,
            1.6363636363636365,
            0.5614035087719298,
            1.6600985221674878,
            0.700507614213198,
            2.1497326203208558,
            1.7429906542056075,
            2,
            1.8446601941747574,
            0.8245614035087719,
            2.109375,
            1.4322916666666667,
            0.5353982300884956,
            0.5858585858585859,
            2.641711229946524,
            0.7405405405405405,
            0.6086956521739131,
            1.5053763440860215,
            0.5412844036697247,
            1.4814814814814814,
            2.0869565217391304,
            2.4461538461538463,
            2.225806451612903,
            1.263157894736842,
            2.134020618556701,
            1.0634146341463415,
            1.638743455497382,
            2.04,
            1.8387096774193548,
            0.34574468085106386,
            2.1944444444444446,
            0.5571428571428572,
            0.7536231884057971,
            1.6330275229357798,
            2.1941747572815533,
            2.2,
            0.6141304347826086,
            2.474860335195531,
            0.8994708994708994,
            2.5208333333333335,
            0.5104166666666666,
            1.0098522167487685,
            2.032967032967033,
            0.8659217877094972,
            1.0216216216216216,
            2.2587064676616917,
            0.45365853658536587,
            1.8307692307692307,
            1.1724137931034482,
            0.7075471698113207,
            0.8870056497175142,
            2.1758793969849246,
            0.5911602209944752,
            1.4906542056074767,
            0.3802083333333333,
            0.9,
            1.8105726872246697,
            0.248868778280543,
            0.989247311827957,
            1.1408450704225352,
            0.33707865168539325,
            1.0251256281407035,
            2.1414634146341465,
            0.5106382978723404,
            1.879396984924623,
            1.2658959537572254,
            1.0050251256281406,
            1.497560975609756,
            1.5427135678391959,
            2.5698924731182795,
            1.9175257731958764,
            2.0558375634517767,
            0.6852791878172588,
            2.238095238095238,
            1.6269430051813472,
            2.2364532019704435,
            0.925,
            0.6540084388185654,
            1.7027027027027026,
            0.42201834862385323,
            1.7920792079207921,
            1.8181818181818181,
            1.25,
            0.8541666666666666,
            2.128712871287129,
            0.6540284360189573,
            0.6878048780487804,
            2.523076923076923,
            2.424083769633508,
            1.9024390243902438,
            2.1040462427745665,
            1.4881516587677726,
            1.5372340425531914,
            0.9683257918552036,
            0.29411764705882354,
            2.5193370165745854,
            1.5263157894736843,
            0.7068062827225131,
            0.780952380952381,
            1.8429319371727748,
            1.2831858407079646,
            1.4137931034482758,
            0.47596153846153844,
            1.1011904761904763,
            1.8484848484848484,
            0.385,
            0.49038461538461536,
            1.8505154639175259,
            2.2094240837696337,
            0.925764192139738,
            1.7647058823529411,
            2.442211055276382,
            2.015625,
            1.1457286432160805,
            0.8676470588235294,
            0.5111111111111111,
            1.2580645161290323,
            1.1055276381909547,
            1.712707182320442,
            1.563063063063063,
            2.2944162436548226,
            1.407960199004975,
            0.5662100456621004,
            1.325242718446602,
            0.26595744680851063,
            1.2864864864864864,
            0.6551724137931034,
            0.39444444444444443,
            0.9257425742574258,
            2.2395833333333335,
            0.9825581395348837,
            2.2694300518134716,
            0.6923076923076923,
            2.156398104265403,
            0.28448275862068967,
            0.2328767123287671,
            0.5867346938775511,
            1.0394088669950738,
            1.069364161849711,
            0.22972972972972974,
            0.7712765957446809,
            2.009478672985782,
            0.8776595744680851,
            0.48,
            2.066326530612245,
            0.6296296296296297,
            0.6487804878048781,
            2.497297297297297,
            1.7450980392156863,
            1.3073394495412844,
            2.342245989304813,
            1.1630901287553648,
            1.5053191489361701,
            1.6571428571428573,
            0.9855072463768116,
            2.1746031746031744,
            0.30601092896174864,
            2.4183673469387754,
            0.4419642857142857,
            1.3191489361702127,
            2.060747663551402,
            2.295,
            1.4,
            0.5252525252525253,
            0.3877551020408163,
            1.7574257425742574,
            2.2039800995024876,
            1.4270833333333333,
            1.4663461538461537,
            1.4834123222748816,
            1.2164948453608246,
            0.27692307692307694,
            1.8631578947368421,
            0.32967032967032966,
            2.3922651933701657,
            1.5047619047619047,
            1.3004926108374384,
            1.9547511312217194,
            0.3384615384615385,
            0.786046511627907,
            1.5314009661835748,
            2.0635838150289016,
            0.6927083333333334,
            1.1979166666666667,
            0.3128205128205128,
            2.308411214953271,
            0.6363636363636364,
            1.5980861244019138,
            2.68,
            0.3824884792626728,
            0.845360824742268,
            0.4489795918367347,
            1.1559633027522935,
            0.9139784946236559,
            1.4432432432432432,
            2.3804878048780487,
            1.415,
            1.1868686868686869,
            0.7037037037037037,
            0.39344262295081966,
            2.256038647342995,
            1.5048543689320388,
            1.4660194174757282,
            0.5746606334841629,
            1.9259259259259258,
            0.5,
            2.4367816091954024,
            1.8144329896907216,
            1.5944444444444446,
            1.6335078534031413,
            1.8848484848484848,
            1.1347826086956523,
            1.7560975609756098,
            0.75,
            1.0144927536231885,
            1.922705314009662,
            0.9948453608247423,
            1.1571428571428573,
            2.1370558375634516,
            1.6777251184834123,
            1.0851063829787233,
            1.9467455621301775,
            1.2404371584699454,
            0.44607843137254904,
            1.3838383838383839,
            1.117948717948718,
            0.66,
            0.8290155440414507,
            0.3287671232876712,
            1.583756345177665,
            1.240566037735849,
            0.7925531914893617,
            2.3047619047619046,
            0.5336538461538461,
            1.7233009708737863,
            0.9,
            1.3539823008849559,
            0.6555555555555556,
            0.9597989949748744,
            0.5253456221198156,
            0.5678391959798995,
            0.3333333333333333,
            0.9900497512437811,
            2.3333333333333335,
            1.1421319796954315,
            2.4236453201970445,
            1.951219512195122,
            2.0862944162436547,
            0.45365853658536587,
            2.173076923076923,
            0.6851851851851852,
            1.903225806451613,
            2.0707547169811322,
            0.9454545454545454,
            0.3563218390804598,
            2.2610837438423643,
            1.8040201005025125,
            1.2307692307692308,
            0.6989795918367347,
            0.43783783783783786,
            1.150753768844221,
            1.880184331797235,
            1.8342541436464088,
            2.2198952879581153,
            0.48514851485148514,
            1.7305699481865284,
            1.3671497584541064,
            1.9090909090909092,
            1.311881188118812,
            2.3769633507853403,
            0.32882882882882886,
            0.6898395721925134,
            1.3211009174311927,
            0.7889447236180904,
            2.162303664921466,
            1.813953488372093,
            1.196808510638298,
            0.3598130841121495,
            0.3,
            2.014705882352941,
            1,
            1.8373205741626795,
            0.9157894736842105,
            1.2291666666666667,
            1.953125,
            0.4056603773584906,
            0.638095238095238,
            1.8280542986425339,
            0.5838150289017341,
            0.9820627802690582,
            2.4378109452736316,
            2.1666666666666665,
            1.6507936507936507,
            0.6863636363636364,
            0.8737373737373737,
            0.4,
            0.7225130890052356,
            2.0833333333333335,
            0.9740932642487047,
            1.0245098039215685,
            1.648780487804878,
            1.9581151832460733,
            2.102222222222222,
            2.1523809523809523,
            0.4521276595744681,
            2.1382978723404253,
            1.9776785714285714,
            0.9081632653061225,
            1.9545454545454546,
            0.5777777777777777,
            1.7864583333333333,
            1.831578947368421,
            0.5520833333333334,
            0.34615384615384615,
            1.1278538812785388,
            1.2625698324022345,
            2.1302083333333335,
            1.354679802955665,
            1.377906976744186,
            1.431578947368421,
            2.110047846889952,
            1.2686567164179106,
            1.585,
            0.4876847290640394,
            1.6898148148148149,
            1.5175879396984924,
            0.41089108910891087,
            1.6550218340611353,
            2.004878048780488,
            2.073170731707317,
            0.36574074074074076,
            1.838235294117647,
            2.2474747474747474,
            1.5380952380952382,
            1.640552995391705,
            0.5502645502645502,
            1.4545454545454546,
            0.5188284518828452,
            2.321608040201005,
            0.39712918660287083,
            0.9138755980861244,
            0.4088397790055249,
            0.39572192513368987,
            2.174757281553398,
            1.270718232044199,
            2.2616822429906542,
            2.0388349514563107,
            0.44907407407407407,
            0.7438423645320197,
            2.251207729468599,
            2.160621761658031,
            0.6666666666666666,
            2.5885416666666665,
            2.3247422680412373,
            0.4619289340101523,
            0.7222222222222222,
            0.765,
            1.706140350877193,
            0.3469387755102041,
            1.872340425531915,
            0.44041450777202074,
            1.2954545454545454,
            2.252577319587629,
            0.764102564102564,
            2.257309941520468,
            0.30952380952380953,
            0.32323232323232326,
            1.933673469387755,
            0.7711442786069652,
            0.8457446808510638,
            0.8768472906403941,
            2.1724137931034484,
            1.1031390134529149,
            1.8341013824884793,
            2.066666666666667,
            2.454022988505747,
            1.6544502617801047,
            2.2606635071090047,
            1.2304347826086957,
            0.7673267326732673,
            2.5210526315789474,
            0.9778761061946902,
            0.4416243654822335,
            0.8571428571428571,
            2.8079096045197742,
            1.5846153846153845,
            0.42290748898678415,
            0.9759615384615384,
            0.5964912280701754,
            1.6432432432432433,
            1.1477832512315271,
            2.1082474226804124,
            0.8823529411764706,
            2.303664921465969,
            0.635,
            2.4023668639053253,
            0.9126637554585153,
            1.631578947368421,
            1.1042654028436019,
            1.922705314009662,
            0.4230769230769231,
            1.0052356020942408,
            0.57,
            1.9553072625698324,
            1.3908629441624365,
            1.4120879120879122,
            1.0735294117647058,
            1.6616161616161615,
            1.528888888888889,
            0.25980392156862747,
            0.7536945812807881,
            1.6325581395348838,
            0.7857142857142857,
            0.6589595375722543,
            1.8167539267015707,
            0.6619718309859155,
            1.6359223300970873,
            1.0934579439252337,
            0.5925925925925926,
            1.6793478260869565,
            0.2604166666666667,
            1.561576354679803,
            2.8579881656804735,
            0.38349514563106796,
            0.6394230769230769,
            0.40476190476190477,
            0.4975845410628019,
            2.25,
            0.35545023696682465,
            0.32589285714285715,
            2.1161616161616164,
            1.5170731707317073,
            0.31,
            2.371287128712871,
            1.4467005076142132,
            1.3707317073170733,
            0.3298429319371728,
            1.9130434782608696,
            0.3696682464454976,
            1.4776119402985075,
            0.3883495145631068,
            1.4486486486486487,
            1.7464788732394365,
            2.1043956043956045,
            0.45454545454545453,
            0.9855769230769231,
            1.3878504672897196,
            0.8842105263157894,
            1.7565217391304349,
            0.7989949748743719,
            0.6804123711340206,
            0.9010989010989011,
            1.4029850746268657,
            1.8571428571428572,
            0.37073170731707317,
            1.3645833333333333,
            2.1785714285714284,
            1.345945945945946,
            1.6666666666666667,
            2.355769230769231,
            2.2433862433862433,
            0.7373737373737373,
            0.7931034482758621,
            1.551219512195122,
            0.31840796019900497,
            1.7291666666666667,
            0.9344978165938864,
            0.33663366336633666,
            1.3933649289099526,
            0.2798165137614679,
            1.3109243697478992,
            0.7647058823529411,
            2.3010752688172045,
            0.7116279069767442,
            1.602803738317757,
            2.566666666666667,
            1.778301886792453,
            0.7150259067357513,
            2.3707865168539324,
            1.532994923857868,
            2.2995169082125604,
            0.2789473684210526,
            1.5730994152046784,
            2.0097087378640777,
            2.297872340425532,
            1.118279569892473,
            1.09,
            1.905829596412556,
            1.4041450777202074,
            0.2896174863387978,
            1.5671641791044777,
            0.46788990825688076,
            1.4060913705583757,
            1.9661835748792271,
            2.128205128205128,
            2.2019704433497536,
            1.7066115702479339,
            1.0923913043478262,
            2.3365384615384617,
            1.2526315789473683,
            2.5968586387434556,
            0.4218009478672986,
            0.9157894736842105,
            2.2487046632124352,
            2.241706161137441,
            1.1657754010695187,
            2.3351063829787235,
            0.37745098039215685,
            0.5904761904761905,
            1.916256157635468,
            1.723809523809524,
            0.291005291005291,
            0.3140096618357488,
            0.5679611650485437,
            0.6785714285714286,
            2.295336787564767,
            1.1990521327014219,
            1.6787878787878787,
            0.3798076923076923,
            0.6153846153846154,
            1.961352657004831,
            2.161137440758294,
            1.0271739130434783,
            2.364705882352941,
            2.1542056074766354,
            1.710382513661202,
            2.5105263157894737,
            2.1443298969072164,
            0.49238578680203043,
            1.0695187165775402,
            2.0408163265306123,
            2.6382978723404253,
            1.1139896373056994,
            1.9569377990430623,
            2.2270531400966185,
            0.3497536945812808,
            1.5859030837004404,
            0.7268518518518519,
            2.392670157068063,
            2.3076923076923075,
            1.1890547263681592,
            1.6481481481481481,
            0.5434782608695652,
            0.5308056872037915,
            2.5440414507772022,
            2.263157894736842,
            0.5989847715736041,
            1.382882882882883,
            2.285024154589372,
            1.5191256830601092,
            0.7238095238095238,
            2.2989130434782608,
            1.5957446808510638,
            1.849246231155779,
            1.8309859154929577,
            1.2247191011235956,
            0.712707182320442,
            1.9484978540772533,
            1.8439024390243903,
            1.7014925373134329,
            1.423913043478261,
            1.078125,
            0.2717948717948718,
            2.0923076923076924,
            2.0462962962962963,
            1.2575757575757576,
            2.169491525423729,
            2.22,
            0.7564766839378239,
            1.1988636363636365,
            0.5714285714285714,
            0.7824074074074074,
            0.9904761904761905,
            0.9743589743589743,
            0.6142857142857143,
            0.7397260273972602,
            2.111111111111111,
            1.4526315789473685,
            2.3125,
            2.0555555555555554,
            2.1295336787564767,
            0.774869109947644,
            0.4342105263157895,
            1.1773399014778325,
            0.8636363636363636,
            0.6331658291457286,
            1.6411483253588517,
            0.2849740932642487,
            2.240437158469945,
            2.46875,
            0.8152173913043478,
            2.2588832487309647,
            0.4271356783919598,
            0.8585365853658536,
            1.0052631578947369,
            1.7307692307692308,
            2.0409356725146197,
            2.063953488372093,
            2.061320754716981,
            1.8240343347639485,
            2.3333333333333335,
            0.4010152284263959,
            0.5885416666666666,
            2.2344497607655502,
            0.827906976744186,
            1.6396396396396395,
            1.0466321243523315,
            0.806282722513089,
            1.015625,
            1.164835164835165,
            1.3707317073170733,
            1.07035175879397,
            0.4228855721393035,
            1.0491803278688525,
            0.8260869565217391,
            0.7004405286343612,
            1.275,
            2.561797752808989,
            1.136150234741784,
            2.1831683168316833,
            1.9285714285714286,
            1.216931216931217,
            0.36018957345971564,
            1.73,
            0.825531914893617,
            1.3384615384615384,
            0.7422680412371134,
            0.8402061855670103,
            2.2371134020618557,
            2.6444444444444444,
            0.5024154589371981,
            1.2321428571428572,
            0.9,
            0.5343915343915344,
            2.518716577540107,
            1.1919191919191918,
            1.1194029850746268,
            1.7644444444444445,
            0.33505154639175255,
            0.8653846153846154,
            2.3369565217391304,
            1.3121951219512196,
            0.7232142857142857,
            1.2146341463414634,
            0.3010204081632653,
            2.5025641025641026,
            1.2971698113207548,
            1.4461538461538461,
            1.1111111111111112,
            0.255,
            0.5099009900990099,
            1.3333333333333333,
            2.026595744680851,
            1.9414414414414414,
            1.6504854368932038,
            0.47465437788018433,
            1.6417910447761195,
            0.29107981220657275,
            0.8516746411483254,
            1.0344827586206897,
            0.8535353535353535,
            1.1616161616161615,
            1.8743718592964824,
            1.4952380952380953,
            1.4156626506024097,
            1.569377990430622,
            1.6515837104072397,
            0.7547169811320755,
            0.7981220657276995,
            1.903225806451613,
            0.3684210526315789,
            1.6095238095238096,
            0.6728110599078341,
            0.2864321608040201,
            0.6591928251121076,
            0.7965367965367965,
            1.145,
            1.3317307692307692,
            1.8977272727272727,
            1.9947089947089947,
            0.3626943005181347,
            1.4497354497354498,
            0.9568965517241379,
            1.9356435643564356,
            0.34554973821989526,
            1.8598130841121496,
            1.3364485981308412,
            0.847953216374269,
            0.8926553672316384,
            1.4606741573033708,
            1.5104166666666667,
            2.0047846889952154,
            0.4857142857142857,
            1.0147783251231528,
            1.092783505154639,
            0.5343915343915344,
            0.8520408163265306,
            2.1029411764705883,
            0.5257731958762887,
            2.3520408163265305,
            0.49537037037037035,
            0.5154185022026432,
            2.392156862745098,
            1.398989898989899,
            2.5129533678756477,
            1.1725888324873097,
            2.188888888888889,
            2.4079601990049753,
            0.8229665071770335,
            0.5323383084577115,
            1.3559322033898304,
            2.15,
            1.1237623762376239,
            0.4095238095238095,
            2.497354497354497,
            1.38860103626943,
            0.9844559585492227,
            1.3407821229050279,
            2.1650485436893203,
            2.268292682926829,
            0.75,
            1.4106280193236715,
            2.25,
            0.9619565217391305,
            1.1962616822429906,
            0.42,
            2.164102564102564,
            0.5384615384615384,
            1.3928571428571428,
            1.3816425120772946
           ]
          }
         ],
         "hovertemplate": "%{xaxis.title.text}=%{x}<br>%{yaxis.title.text}=%{y}<extra></extra>",
         "legendgroup": "",
         "marker": {
          "color": "#636efa",
          "symbol": "circle"
         },
         "name": "",
         "showlegend": false,
         "type": "splom"
        }
       ],
       "layout": {
        "dragmode": "select",
        "height": 800,
        "legend": {
         "tracegroupgap": 0
        },
        "template": {
         "data": {
          "bar": [
           {
            "error_x": {
             "color": "#2a3f5f"
            },
            "error_y": {
             "color": "#2a3f5f"
            },
            "marker": {
             "line": {
              "color": "#E5ECF6",
              "width": 0.5
             },
             "pattern": {
              "fillmode": "overlay",
              "size": 10,
              "solidity": 0.2
             }
            },
            "type": "bar"
           }
          ],
          "barpolar": [
           {
            "marker": {
             "line": {
              "color": "#E5ECF6",
              "width": 0.5
             },
             "pattern": {
              "fillmode": "overlay",
              "size": 10,
              "solidity": 0.2
             }
            },
            "type": "barpolar"
           }
          ],
          "carpet": [
           {
            "aaxis": {
             "endlinecolor": "#2a3f5f",
             "gridcolor": "white",
             "linecolor": "white",
             "minorgridcolor": "white",
             "startlinecolor": "#2a3f5f"
            },
            "baxis": {
             "endlinecolor": "#2a3f5f",
             "gridcolor": "white",
             "linecolor": "white",
             "minorgridcolor": "white",
             "startlinecolor": "#2a3f5f"
            },
            "type": "carpet"
           }
          ],
          "choropleth": [
           {
            "colorbar": {
             "outlinewidth": 0,
             "ticks": ""
            },
            "type": "choropleth"
           }
          ],
          "contour": [
           {
            "colorbar": {
             "outlinewidth": 0,
             "ticks": ""
            },
            "colorscale": [
             [
              0,
              "#0d0887"
             ],
             [
              0.1111111111111111,
              "#46039f"
             ],
             [
              0.2222222222222222,
              "#7201a8"
             ],
             [
              0.3333333333333333,
              "#9c179e"
             ],
             [
              0.4444444444444444,
              "#bd3786"
             ],
             [
              0.5555555555555556,
              "#d8576b"
             ],
             [
              0.6666666666666666,
              "#ed7953"
             ],
             [
              0.7777777777777778,
              "#fb9f3a"
             ],
             [
              0.8888888888888888,
              "#fdca26"
             ],
             [
              1,
              "#f0f921"
             ]
            ],
            "type": "contour"
           }
          ],
          "contourcarpet": [
           {
            "colorbar": {
             "outlinewidth": 0,
             "ticks": ""
            },
            "type": "contourcarpet"
           }
          ],
          "heatmap": [
           {
            "colorbar": {
             "outlinewidth": 0,
             "ticks": ""
            },
            "colorscale": [
             [
              0,
              "#0d0887"
             ],
             [
              0.1111111111111111,
              "#46039f"
             ],
             [
              0.2222222222222222,
              "#7201a8"
             ],
             [
              0.3333333333333333,
              "#9c179e"
             ],
             [
              0.4444444444444444,
              "#bd3786"
             ],
             [
              0.5555555555555556,
              "#d8576b"
             ],
             [
              0.6666666666666666,
              "#ed7953"
             ],
             [
              0.7777777777777778,
              "#fb9f3a"
             ],
             [
              0.8888888888888888,
              "#fdca26"
             ],
             [
              1,
              "#f0f921"
             ]
            ],
            "type": "heatmap"
           }
          ],
          "heatmapgl": [
           {
            "colorbar": {
             "outlinewidth": 0,
             "ticks": ""
            },
            "colorscale": [
             [
              0,
              "#0d0887"
             ],
             [
              0.1111111111111111,
              "#46039f"
             ],
             [
              0.2222222222222222,
              "#7201a8"
             ],
             [
              0.3333333333333333,
              "#9c179e"
             ],
             [
              0.4444444444444444,
              "#bd3786"
             ],
             [
              0.5555555555555556,
              "#d8576b"
             ],
             [
              0.6666666666666666,
              "#ed7953"
             ],
             [
              0.7777777777777778,
              "#fb9f3a"
             ],
             [
              0.8888888888888888,
              "#fdca26"
             ],
             [
              1,
              "#f0f921"
             ]
            ],
            "type": "heatmapgl"
           }
          ],
          "histogram": [
           {
            "marker": {
             "pattern": {
              "fillmode": "overlay",
              "size": 10,
              "solidity": 0.2
             }
            },
            "type": "histogram"
           }
          ],
          "histogram2d": [
           {
            "colorbar": {
             "outlinewidth": 0,
             "ticks": ""
            },
            "colorscale": [
             [
              0,
              "#0d0887"
             ],
             [
              0.1111111111111111,
              "#46039f"
             ],
             [
              0.2222222222222222,
              "#7201a8"
             ],
             [
              0.3333333333333333,
              "#9c179e"
             ],
             [
              0.4444444444444444,
              "#bd3786"
             ],
             [
              0.5555555555555556,
              "#d8576b"
             ],
             [
              0.6666666666666666,
              "#ed7953"
             ],
             [
              0.7777777777777778,
              "#fb9f3a"
             ],
             [
              0.8888888888888888,
              "#fdca26"
             ],
             [
              1,
              "#f0f921"
             ]
            ],
            "type": "histogram2d"
           }
          ],
          "histogram2dcontour": [
           {
            "colorbar": {
             "outlinewidth": 0,
             "ticks": ""
            },
            "colorscale": [
             [
              0,
              "#0d0887"
             ],
             [
              0.1111111111111111,
              "#46039f"
             ],
             [
              0.2222222222222222,
              "#7201a8"
             ],
             [
              0.3333333333333333,
              "#9c179e"
             ],
             [
              0.4444444444444444,
              "#bd3786"
             ],
             [
              0.5555555555555556,
              "#d8576b"
             ],
             [
              0.6666666666666666,
              "#ed7953"
             ],
             [
              0.7777777777777778,
              "#fb9f3a"
             ],
             [
              0.8888888888888888,
              "#fdca26"
             ],
             [
              1,
              "#f0f921"
             ]
            ],
            "type": "histogram2dcontour"
           }
          ],
          "mesh3d": [
           {
            "colorbar": {
             "outlinewidth": 0,
             "ticks": ""
            },
            "type": "mesh3d"
           }
          ],
          "parcoords": [
           {
            "line": {
             "colorbar": {
              "outlinewidth": 0,
              "ticks": ""
             }
            },
            "type": "parcoords"
           }
          ],
          "pie": [
           {
            "automargin": true,
            "type": "pie"
           }
          ],
          "scatter": [
           {
            "fillpattern": {
             "fillmode": "overlay",
             "size": 10,
             "solidity": 0.2
            },
            "type": "scatter"
           }
          ],
          "scatter3d": [
           {
            "line": {
             "colorbar": {
              "outlinewidth": 0,
              "ticks": ""
             }
            },
            "marker": {
             "colorbar": {
              "outlinewidth": 0,
              "ticks": ""
             }
            },
            "type": "scatter3d"
           }
          ],
          "scattercarpet": [
           {
            "marker": {
             "colorbar": {
              "outlinewidth": 0,
              "ticks": ""
             }
            },
            "type": "scattercarpet"
           }
          ],
          "scattergeo": [
           {
            "marker": {
             "colorbar": {
              "outlinewidth": 0,
              "ticks": ""
             }
            },
            "type": "scattergeo"
           }
          ],
          "scattergl": [
           {
            "marker": {
             "colorbar": {
              "outlinewidth": 0,
              "ticks": ""
             }
            },
            "type": "scattergl"
           }
          ],
          "scattermapbox": [
           {
            "marker": {
             "colorbar": {
              "outlinewidth": 0,
              "ticks": ""
             }
            },
            "type": "scattermapbox"
           }
          ],
          "scatterpolar": [
           {
            "marker": {
             "colorbar": {
              "outlinewidth": 0,
              "ticks": ""
             }
            },
            "type": "scatterpolar"
           }
          ],
          "scatterpolargl": [
           {
            "marker": {
             "colorbar": {
              "outlinewidth": 0,
              "ticks": ""
             }
            },
            "type": "scatterpolargl"
           }
          ],
          "scatterternary": [
           {
            "marker": {
             "colorbar": {
              "outlinewidth": 0,
              "ticks": ""
             }
            },
            "type": "scatterternary"
           }
          ],
          "surface": [
           {
            "colorbar": {
             "outlinewidth": 0,
             "ticks": ""
            },
            "colorscale": [
             [
              0,
              "#0d0887"
             ],
             [
              0.1111111111111111,
              "#46039f"
             ],
             [
              0.2222222222222222,
              "#7201a8"
             ],
             [
              0.3333333333333333,
              "#9c179e"
             ],
             [
              0.4444444444444444,
              "#bd3786"
             ],
             [
              0.5555555555555556,
              "#d8576b"
             ],
             [
              0.6666666666666666,
              "#ed7953"
             ],
             [
              0.7777777777777778,
              "#fb9f3a"
             ],
             [
              0.8888888888888888,
              "#fdca26"
             ],
             [
              1,
              "#f0f921"
             ]
            ],
            "type": "surface"
           }
          ],
          "table": [
           {
            "cells": {
             "fill": {
              "color": "#EBF0F8"
             },
             "line": {
              "color": "white"
             }
            },
            "header": {
             "fill": {
              "color": "#C8D4E3"
             },
             "line": {
              "color": "white"
             }
            },
            "type": "table"
           }
          ]
         },
         "layout": {
          "annotationdefaults": {
           "arrowcolor": "#2a3f5f",
           "arrowhead": 0,
           "arrowwidth": 1
          },
          "autotypenumbers": "strict",
          "coloraxis": {
           "colorbar": {
            "outlinewidth": 0,
            "ticks": ""
           }
          },
          "colorscale": {
           "diverging": [
            [
             0,
             "#8e0152"
            ],
            [
             0.1,
             "#c51b7d"
            ],
            [
             0.2,
             "#de77ae"
            ],
            [
             0.3,
             "#f1b6da"
            ],
            [
             0.4,
             "#fde0ef"
            ],
            [
             0.5,
             "#f7f7f7"
            ],
            [
             0.6,
             "#e6f5d0"
            ],
            [
             0.7,
             "#b8e186"
            ],
            [
             0.8,
             "#7fbc41"
            ],
            [
             0.9,
             "#4d9221"
            ],
            [
             1,
             "#276419"
            ]
           ],
           "sequential": [
            [
             0,
             "#0d0887"
            ],
            [
             0.1111111111111111,
             "#46039f"
            ],
            [
             0.2222222222222222,
             "#7201a8"
            ],
            [
             0.3333333333333333,
             "#9c179e"
            ],
            [
             0.4444444444444444,
             "#bd3786"
            ],
            [
             0.5555555555555556,
             "#d8576b"
            ],
            [
             0.6666666666666666,
             "#ed7953"
            ],
            [
             0.7777777777777778,
             "#fb9f3a"
            ],
            [
             0.8888888888888888,
             "#fdca26"
            ],
            [
             1,
             "#f0f921"
            ]
           ],
           "sequentialminus": [
            [
             0,
             "#0d0887"
            ],
            [
             0.1111111111111111,
             "#46039f"
            ],
            [
             0.2222222222222222,
             "#7201a8"
            ],
            [
             0.3333333333333333,
             "#9c179e"
            ],
            [
             0.4444444444444444,
             "#bd3786"
            ],
            [
             0.5555555555555556,
             "#d8576b"
            ],
            [
             0.6666666666666666,
             "#ed7953"
            ],
            [
             0.7777777777777778,
             "#fb9f3a"
            ],
            [
             0.8888888888888888,
             "#fdca26"
            ],
            [
             1,
             "#f0f921"
            ]
           ]
          },
          "colorway": [
           "#636efa",
           "#EF553B",
           "#00cc96",
           "#ab63fa",
           "#FFA15A",
           "#19d3f3",
           "#FF6692",
           "#B6E880",
           "#FF97FF",
           "#FECB52"
          ],
          "font": {
           "color": "#2a3f5f"
          },
          "geo": {
           "bgcolor": "white",
           "lakecolor": "white",
           "landcolor": "#E5ECF6",
           "showlakes": true,
           "showland": true,
           "subunitcolor": "white"
          },
          "hoverlabel": {
           "align": "left"
          },
          "hovermode": "closest",
          "mapbox": {
           "style": "light"
          },
          "paper_bgcolor": "white",
          "plot_bgcolor": "#E5ECF6",
          "polar": {
           "angularaxis": {
            "gridcolor": "white",
            "linecolor": "white",
            "ticks": ""
           },
           "bgcolor": "#E5ECF6",
           "radialaxis": {
            "gridcolor": "white",
            "linecolor": "white",
            "ticks": ""
           }
          },
          "scene": {
           "xaxis": {
            "backgroundcolor": "#E5ECF6",
            "gridcolor": "white",
            "gridwidth": 2,
            "linecolor": "white",
            "showbackground": true,
            "ticks": "",
            "zerolinecolor": "white"
           },
           "yaxis": {
            "backgroundcolor": "#E5ECF6",
            "gridcolor": "white",
            "gridwidth": 2,
            "linecolor": "white",
            "showbackground": true,
            "ticks": "",
            "zerolinecolor": "white"
           },
           "zaxis": {
            "backgroundcolor": "#E5ECF6",
            "gridcolor": "white",
            "gridwidth": 2,
            "linecolor": "white",
            "showbackground": true,
            "ticks": "",
            "zerolinecolor": "white"
           }
          },
          "shapedefaults": {
           "line": {
            "color": "#2a3f5f"
           }
          },
          "ternary": {
           "aaxis": {
            "gridcolor": "white",
            "linecolor": "white",
            "ticks": ""
           },
           "baxis": {
            "gridcolor": "white",
            "linecolor": "white",
            "ticks": ""
           },
           "bgcolor": "#E5ECF6",
           "caxis": {
            "gridcolor": "white",
            "linecolor": "white",
            "ticks": ""
           }
          },
          "title": {
           "x": 0.05
          },
          "xaxis": {
           "automargin": true,
           "gridcolor": "white",
           "linecolor": "white",
           "ticks": "",
           "title": {
            "standoff": 15
           },
           "zerolinecolor": "white",
           "zerolinewidth": 2
          },
          "yaxis": {
           "automargin": true,
           "gridcolor": "white",
           "linecolor": "white",
           "ticks": "",
           "title": {
            "standoff": 15
           },
           "zerolinecolor": "white",
           "zerolinewidth": 2
          }
         }
        },
        "title": {
         "text": "Pairplot of Key Features"
        },
        "width": 1000
       }
      }
     },
     "metadata": {},
     "output_type": "display_data"
    }
   ],
   "source": [
    "# Update the pairplot function to set plot dimensions\n",
    "def plot_pairplot(df):\n",
    "    fig = px.scatter_matrix(\n",
    "        df,\n",
    "        dimensions=['website_traffic', 'engagement_rate', 'product_availability', 'customer_behavior', 'ConversionRate'],\n",
    "        title='Pairplot of Key Features',\n",
    "        width=1000,\n",
    "        height=800\n",
    "    )\n",
    "    fig.update_layout(title='Pairplot of Key Features')\n",
    "    fig.show()\n",
    "\n",
    "plot_pairplot(df)"
   ]
  },
  {
   "cell_type": "code",
   "execution_count": 44,
   "id": "49216528",
   "metadata": {},
   "outputs": [
    {
     "data": {
      "application/vnd.plotly.v1+json": {
       "config": {
        "plotlyServerURL": "https://plot.ly"
       },
       "data": [
        {
         "coloraxis": "coloraxis",
         "hovertemplate": "x: %{x}<br>y: %{y}<br>color: %{z}<extra></extra>",
         "name": "0",
         "texttemplate": "%{z}",
         "type": "heatmap",
         "x": [
          "website_traffic",
          "engagement_rate",
          "sales_forecast"
         ],
         "xaxis": "x",
         "y": [
          "website_traffic",
          "engagement_rate",
          "sales_forecast"
         ],
         "yaxis": "y",
         "z": [
          [
           1,
           0.04021350189453235,
           -0.011571236973684054
          ],
          [
           0.04021350189453235,
           1,
           0.013378227822371455
          ],
          [
           -0.011571236973684054,
           0.013378227822371455,
           1
          ]
         ]
        }
       ],
       "layout": {
        "coloraxis": {
         "colorscale": [
          [
           0,
           "rgb(103,0,31)"
          ],
          [
           0.1,
           "rgb(178,24,43)"
          ],
          [
           0.2,
           "rgb(214,96,77)"
          ],
          [
           0.3,
           "rgb(244,165,130)"
          ],
          [
           0.4,
           "rgb(253,219,199)"
          ],
          [
           0.5,
           "rgb(247,247,247)"
          ],
          [
           0.6,
           "rgb(209,229,240)"
          ],
          [
           0.7,
           "rgb(146,197,222)"
          ],
          [
           0.8,
           "rgb(67,147,195)"
          ],
          [
           0.9,
           "rgb(33,102,172)"
          ],
          [
           1,
           "rgb(5,48,97)"
          ]
         ]
        },
        "margin": {
         "t": 60
        },
        "template": {
         "data": {
          "bar": [
           {
            "error_x": {
             "color": "#2a3f5f"
            },
            "error_y": {
             "color": "#2a3f5f"
            },
            "marker": {
             "line": {
              "color": "#E5ECF6",
              "width": 0.5
             },
             "pattern": {
              "fillmode": "overlay",
              "size": 10,
              "solidity": 0.2
             }
            },
            "type": "bar"
           }
          ],
          "barpolar": [
           {
            "marker": {
             "line": {
              "color": "#E5ECF6",
              "width": 0.5
             },
             "pattern": {
              "fillmode": "overlay",
              "size": 10,
              "solidity": 0.2
             }
            },
            "type": "barpolar"
           }
          ],
          "carpet": [
           {
            "aaxis": {
             "endlinecolor": "#2a3f5f",
             "gridcolor": "white",
             "linecolor": "white",
             "minorgridcolor": "white",
             "startlinecolor": "#2a3f5f"
            },
            "baxis": {
             "endlinecolor": "#2a3f5f",
             "gridcolor": "white",
             "linecolor": "white",
             "minorgridcolor": "white",
             "startlinecolor": "#2a3f5f"
            },
            "type": "carpet"
           }
          ],
          "choropleth": [
           {
            "colorbar": {
             "outlinewidth": 0,
             "ticks": ""
            },
            "type": "choropleth"
           }
          ],
          "contour": [
           {
            "colorbar": {
             "outlinewidth": 0,
             "ticks": ""
            },
            "colorscale": [
             [
              0,
              "#0d0887"
             ],
             [
              0.1111111111111111,
              "#46039f"
             ],
             [
              0.2222222222222222,
              "#7201a8"
             ],
             [
              0.3333333333333333,
              "#9c179e"
             ],
             [
              0.4444444444444444,
              "#bd3786"
             ],
             [
              0.5555555555555556,
              "#d8576b"
             ],
             [
              0.6666666666666666,
              "#ed7953"
             ],
             [
              0.7777777777777778,
              "#fb9f3a"
             ],
             [
              0.8888888888888888,
              "#fdca26"
             ],
             [
              1,
              "#f0f921"
             ]
            ],
            "type": "contour"
           }
          ],
          "contourcarpet": [
           {
            "colorbar": {
             "outlinewidth": 0,
             "ticks": ""
            },
            "type": "contourcarpet"
           }
          ],
          "heatmap": [
           {
            "colorbar": {
             "outlinewidth": 0,
             "ticks": ""
            },
            "colorscale": [
             [
              0,
              "#0d0887"
             ],
             [
              0.1111111111111111,
              "#46039f"
             ],
             [
              0.2222222222222222,
              "#7201a8"
             ],
             [
              0.3333333333333333,
              "#9c179e"
             ],
             [
              0.4444444444444444,
              "#bd3786"
             ],
             [
              0.5555555555555556,
              "#d8576b"
             ],
             [
              0.6666666666666666,
              "#ed7953"
             ],
             [
              0.7777777777777778,
              "#fb9f3a"
             ],
             [
              0.8888888888888888,
              "#fdca26"
             ],
             [
              1,
              "#f0f921"
             ]
            ],
            "type": "heatmap"
           }
          ],
          "heatmapgl": [
           {
            "colorbar": {
             "outlinewidth": 0,
             "ticks": ""
            },
            "colorscale": [
             [
              0,
              "#0d0887"
             ],
             [
              0.1111111111111111,
              "#46039f"
             ],
             [
              0.2222222222222222,
              "#7201a8"
             ],
             [
              0.3333333333333333,
              "#9c179e"
             ],
             [
              0.4444444444444444,
              "#bd3786"
             ],
             [
              0.5555555555555556,
              "#d8576b"
             ],
             [
              0.6666666666666666,
              "#ed7953"
             ],
             [
              0.7777777777777778,
              "#fb9f3a"
             ],
             [
              0.8888888888888888,
              "#fdca26"
             ],
             [
              1,
              "#f0f921"
             ]
            ],
            "type": "heatmapgl"
           }
          ],
          "histogram": [
           {
            "marker": {
             "pattern": {
              "fillmode": "overlay",
              "size": 10,
              "solidity": 0.2
             }
            },
            "type": "histogram"
           }
          ],
          "histogram2d": [
           {
            "colorbar": {
             "outlinewidth": 0,
             "ticks": ""
            },
            "colorscale": [
             [
              0,
              "#0d0887"
             ],
             [
              0.1111111111111111,
              "#46039f"
             ],
             [
              0.2222222222222222,
              "#7201a8"
             ],
             [
              0.3333333333333333,
              "#9c179e"
             ],
             [
              0.4444444444444444,
              "#bd3786"
             ],
             [
              0.5555555555555556,
              "#d8576b"
             ],
             [
              0.6666666666666666,
              "#ed7953"
             ],
             [
              0.7777777777777778,
              "#fb9f3a"
             ],
             [
              0.8888888888888888,
              "#fdca26"
             ],
             [
              1,
              "#f0f921"
             ]
            ],
            "type": "histogram2d"
           }
          ],
          "histogram2dcontour": [
           {
            "colorbar": {
             "outlinewidth": 0,
             "ticks": ""
            },
            "colorscale": [
             [
              0,
              "#0d0887"
             ],
             [
              0.1111111111111111,
              "#46039f"
             ],
             [
              0.2222222222222222,
              "#7201a8"
             ],
             [
              0.3333333333333333,
              "#9c179e"
             ],
             [
              0.4444444444444444,
              "#bd3786"
             ],
             [
              0.5555555555555556,
              "#d8576b"
             ],
             [
              0.6666666666666666,
              "#ed7953"
             ],
             [
              0.7777777777777778,
              "#fb9f3a"
             ],
             [
              0.8888888888888888,
              "#fdca26"
             ],
             [
              1,
              "#f0f921"
             ]
            ],
            "type": "histogram2dcontour"
           }
          ],
          "mesh3d": [
           {
            "colorbar": {
             "outlinewidth": 0,
             "ticks": ""
            },
            "type": "mesh3d"
           }
          ],
          "parcoords": [
           {
            "line": {
             "colorbar": {
              "outlinewidth": 0,
              "ticks": ""
             }
            },
            "type": "parcoords"
           }
          ],
          "pie": [
           {
            "automargin": true,
            "type": "pie"
           }
          ],
          "scatter": [
           {
            "fillpattern": {
             "fillmode": "overlay",
             "size": 10,
             "solidity": 0.2
            },
            "type": "scatter"
           }
          ],
          "scatter3d": [
           {
            "line": {
             "colorbar": {
              "outlinewidth": 0,
              "ticks": ""
             }
            },
            "marker": {
             "colorbar": {
              "outlinewidth": 0,
              "ticks": ""
             }
            },
            "type": "scatter3d"
           }
          ],
          "scattercarpet": [
           {
            "marker": {
             "colorbar": {
              "outlinewidth": 0,
              "ticks": ""
             }
            },
            "type": "scattercarpet"
           }
          ],
          "scattergeo": [
           {
            "marker": {
             "colorbar": {
              "outlinewidth": 0,
              "ticks": ""
             }
            },
            "type": "scattergeo"
           }
          ],
          "scattergl": [
           {
            "marker": {
             "colorbar": {
              "outlinewidth": 0,
              "ticks": ""
             }
            },
            "type": "scattergl"
           }
          ],
          "scattermapbox": [
           {
            "marker": {
             "colorbar": {
              "outlinewidth": 0,
              "ticks": ""
             }
            },
            "type": "scattermapbox"
           }
          ],
          "scatterpolar": [
           {
            "marker": {
             "colorbar": {
              "outlinewidth": 0,
              "ticks": ""
             }
            },
            "type": "scatterpolar"
           }
          ],
          "scatterpolargl": [
           {
            "marker": {
             "colorbar": {
              "outlinewidth": 0,
              "ticks": ""
             }
            },
            "type": "scatterpolargl"
           }
          ],
          "scatterternary": [
           {
            "marker": {
             "colorbar": {
              "outlinewidth": 0,
              "ticks": ""
             }
            },
            "type": "scatterternary"
           }
          ],
          "surface": [
           {
            "colorbar": {
             "outlinewidth": 0,
             "ticks": ""
            },
            "colorscale": [
             [
              0,
              "#0d0887"
             ],
             [
              0.1111111111111111,
              "#46039f"
             ],
             [
              0.2222222222222222,
              "#7201a8"
             ],
             [
              0.3333333333333333,
              "#9c179e"
             ],
             [
              0.4444444444444444,
              "#bd3786"
             ],
             [
              0.5555555555555556,
              "#d8576b"
             ],
             [
              0.6666666666666666,
              "#ed7953"
             ],
             [
              0.7777777777777778,
              "#fb9f3a"
             ],
             [
              0.8888888888888888,
              "#fdca26"
             ],
             [
              1,
              "#f0f921"
             ]
            ],
            "type": "surface"
           }
          ],
          "table": [
           {
            "cells": {
             "fill": {
              "color": "#EBF0F8"
             },
             "line": {
              "color": "white"
             }
            },
            "header": {
             "fill": {
              "color": "#C8D4E3"
             },
             "line": {
              "color": "white"
             }
            },
            "type": "table"
           }
          ]
         },
         "layout": {
          "annotationdefaults": {
           "arrowcolor": "#2a3f5f",
           "arrowhead": 0,
           "arrowwidth": 1
          },
          "autotypenumbers": "strict",
          "coloraxis": {
           "colorbar": {
            "outlinewidth": 0,
            "ticks": ""
           }
          },
          "colorscale": {
           "diverging": [
            [
             0,
             "#8e0152"
            ],
            [
             0.1,
             "#c51b7d"
            ],
            [
             0.2,
             "#de77ae"
            ],
            [
             0.3,
             "#f1b6da"
            ],
            [
             0.4,
             "#fde0ef"
            ],
            [
             0.5,
             "#f7f7f7"
            ],
            [
             0.6,
             "#e6f5d0"
            ],
            [
             0.7,
             "#b8e186"
            ],
            [
             0.8,
             "#7fbc41"
            ],
            [
             0.9,
             "#4d9221"
            ],
            [
             1,
             "#276419"
            ]
           ],
           "sequential": [
            [
             0,
             "#0d0887"
            ],
            [
             0.1111111111111111,
             "#46039f"
            ],
            [
             0.2222222222222222,
             "#7201a8"
            ],
            [
             0.3333333333333333,
             "#9c179e"
            ],
            [
             0.4444444444444444,
             "#bd3786"
            ],
            [
             0.5555555555555556,
             "#d8576b"
            ],
            [
             0.6666666666666666,
             "#ed7953"
            ],
            [
             0.7777777777777778,
             "#fb9f3a"
            ],
            [
             0.8888888888888888,
             "#fdca26"
            ],
            [
             1,
             "#f0f921"
            ]
           ],
           "sequentialminus": [
            [
             0,
             "#0d0887"
            ],
            [
             0.1111111111111111,
             "#46039f"
            ],
            [
             0.2222222222222222,
             "#7201a8"
            ],
            [
             0.3333333333333333,
             "#9c179e"
            ],
            [
             0.4444444444444444,
             "#bd3786"
            ],
            [
             0.5555555555555556,
             "#d8576b"
            ],
            [
             0.6666666666666666,
             "#ed7953"
            ],
            [
             0.7777777777777778,
             "#fb9f3a"
            ],
            [
             0.8888888888888888,
             "#fdca26"
            ],
            [
             1,
             "#f0f921"
            ]
           ]
          },
          "colorway": [
           "#636efa",
           "#EF553B",
           "#00cc96",
           "#ab63fa",
           "#FFA15A",
           "#19d3f3",
           "#FF6692",
           "#B6E880",
           "#FF97FF",
           "#FECB52"
          ],
          "font": {
           "color": "#2a3f5f"
          },
          "geo": {
           "bgcolor": "white",
           "lakecolor": "white",
           "landcolor": "#E5ECF6",
           "showlakes": true,
           "showland": true,
           "subunitcolor": "white"
          },
          "hoverlabel": {
           "align": "left"
          },
          "hovermode": "closest",
          "mapbox": {
           "style": "light"
          },
          "paper_bgcolor": "white",
          "plot_bgcolor": "#E5ECF6",
          "polar": {
           "angularaxis": {
            "gridcolor": "white",
            "linecolor": "white",
            "ticks": ""
           },
           "bgcolor": "#E5ECF6",
           "radialaxis": {
            "gridcolor": "white",
            "linecolor": "white",
            "ticks": ""
           }
          },
          "scene": {
           "xaxis": {
            "backgroundcolor": "#E5ECF6",
            "gridcolor": "white",
            "gridwidth": 2,
            "linecolor": "white",
            "showbackground": true,
            "ticks": "",
            "zerolinecolor": "white"
           },
           "yaxis": {
            "backgroundcolor": "#E5ECF6",
            "gridcolor": "white",
            "gridwidth": 2,
            "linecolor": "white",
            "showbackground": true,
            "ticks": "",
            "zerolinecolor": "white"
           },
           "zaxis": {
            "backgroundcolor": "#E5ECF6",
            "gridcolor": "white",
            "gridwidth": 2,
            "linecolor": "white",
            "showbackground": true,
            "ticks": "",
            "zerolinecolor": "white"
           }
          },
          "shapedefaults": {
           "line": {
            "color": "#2a3f5f"
           }
          },
          "ternary": {
           "aaxis": {
            "gridcolor": "white",
            "linecolor": "white",
            "ticks": ""
           },
           "baxis": {
            "gridcolor": "white",
            "linecolor": "white",
            "ticks": ""
           },
           "bgcolor": "#E5ECF6",
           "caxis": {
            "gridcolor": "white",
            "linecolor": "white",
            "ticks": ""
           }
          },
          "title": {
           "x": 0.05
          },
          "xaxis": {
           "automargin": true,
           "gridcolor": "white",
           "linecolor": "white",
           "ticks": "",
           "title": {
            "standoff": 15
           },
           "zerolinecolor": "white",
           "zerolinewidth": 2
          },
          "yaxis": {
           "automargin": true,
           "gridcolor": "white",
           "linecolor": "white",
           "ticks": "",
           "title": {
            "standoff": 15
           },
           "zerolinecolor": "white",
           "zerolinewidth": 2
          }
         }
        },
        "title": {
         "text": "Correlation Matrix"
        },
        "xaxis": {
         "anchor": "y",
         "constrain": "domain",
         "domain": [
          0,
          1
         ],
         "scaleanchor": "y",
         "title": {
          "text": "Variables"
         }
        },
        "yaxis": {
         "anchor": "x",
         "autorange": "reversed",
         "constrain": "domain",
         "domain": [
          0,
          1
         ],
         "title": {
          "text": "Variables"
         }
        }
       }
      }
     },
     "metadata": {},
     "output_type": "display_data"
    }
   ],
   "source": [
    "#correlation matrix using plotly\n",
    "def plot_correlation_matrix(df):\n",
    "    correlation_matrix = df[['website_traffic', 'engagement_rate', 'sales_forecast']].corr()\n",
    "    fig = px.imshow(correlation_matrix, text_auto=True, color_continuous_scale='RdBu')\n",
    "    fig.update_layout(title='Correlation Matrix', xaxis_title='Variables', yaxis_title='Variables')\n",
    "    fig.show()\n",
    "plot_correlation_matrix(df)"
   ]
  },
  {
   "cell_type": "markdown",
   "id": "6998c2dc",
   "metadata": {},
   "source": [
    "Insight: there is a positive correlation between sales forecast and website traffic"
   ]
  },
  {
   "cell_type": "code",
   "execution_count": 46,
   "id": "597c545f",
   "metadata": {},
   "outputs": [
    {
     "name": "stdout",
     "output_type": "stream",
     "text": [
      "Explored data saved to C:\\Users\\Rebecca\\Desktop\\Marketing trends analysis\\explored_website_data.ipynb\n"
     ]
    }
   ],
   "source": [
    "#save explored data to a new ipynb file\n",
    "def save_explored_data(df, filepath):\n",
    "    with open(filepath, 'w') as file:\n",
    "        file.write(\"# Explored Data\\n\")\n",
    "        file.write(\"```python\\n\")\n",
    "        file.write(df.to_string())\n",
    "        file.write(\"\\n```\\n\")\n",
    "    print(f\"Explored data saved to {filepath}\")\n",
    "save_explored_data(df, r\"C:\\Users\\Rebecca\\Desktop\\Marketing trends analysis\\explored_website_data.ipynb\")"
   ]
  },
  {
   "cell_type": "markdown",
   "id": "a3c6158a",
   "metadata": {},
   "source": [
    "# Data Transformation"
   ]
  },
  {
   "cell_type": "code",
   "execution_count": 92,
   "id": "006b6ef1",
   "metadata": {},
   "outputs": [
    {
     "name": "stdout",
     "output_type": "stream",
     "text": [
      "Data scaled successfully.\n"
     ]
    }
   ],
   "source": [
    "Scaler = StandardScaler()\n",
    "def scale_data(df, columns):\n",
    "    df_scaled = df.copy()\n",
    "    df_scaled[columns] = Scaler.fit_transform(df[columns])\n",
    "    print(\"Data scaled successfully.\")\n",
    "    return df_scaled\n",
    "df_scaled = scale_data(df, ['website_traffic', 'sales_forecast'])\n"
   ]
  },
  {
   "cell_type": "markdown",
   "id": "8f9a52f9",
   "metadata": {},
   "source": [
    "# Feature Engineering"
   ]
  },
  {
   "cell_type": "code",
   "execution_count": 120,
   "id": "33fe1cb1",
   "metadata": {},
   "outputs": [],
   "source": [
    "# Derived features\n",
    "df['Conversion_Rate'] = df['sales_forecast'] / df['website_traffic']\n",
    "df['EngagePer_Visitor'] = df['engagement_rate'] / df['website_traffic']\n",
    "df['SalesPer_Engagement'] = df['sales_forecast'] / df['engagement_rate']\n"
   ]
  },
  {
   "cell_type": "code",
   "execution_count": 121,
   "id": "f2e006d5",
   "metadata": {},
   "outputs": [
    {
     "name": "stdout",
     "output_type": "stream",
     "text": [
      "Transformed data saved to C:\\Users\\Rebecca\\Desktop\\Marketing trends analysis\\scaled_website_data.csv\n"
     ]
    }
   ],
   "source": [
    "#save transformed data to a new CSV file\n",
    "def save_transformed_data(df, filepath):\n",
    "    df.to_csv(filepath, index=False)\n",
    "    print(f\"Transformed data saved to {filepath}\")\n",
    "save_transformed_data(df_scaled, r\"C:\\Users\\Rebecca\\Desktop\\Marketing trends analysis\\scaled_website_data.csv\")"
   ]
  },
  {
   "cell_type": "markdown",
   "id": "c99c648d",
   "metadata": {},
   "source": [
    "# Train a Random Forest Regressor"
   ]
  },
  {
   "cell_type": "code",
   "execution_count": 146,
   "id": "9d09919a",
   "metadata": {},
   "outputs": [],
   "source": [
    "from sklearn.metrics import mean_squared_error, r2_score\n",
    "from sklearn.model_selection import train_test_split"
   ]
  },
  {
   "cell_type": "code",
   "execution_count": 147,
   "id": "96d69535",
   "metadata": {},
   "outputs": [
    {
     "name": "stdout",
     "output_type": "stream",
     "text": [
      "Gradient Boosting MSE: 19.31616927652619\n",
      "Gradient Boosting R²: 0.9988010336279125\n"
     ]
    }
   ],
   "source": [
    "from sklearn.ensemble import GradientBoostingRegressor\n",
    "\n",
    "gb = GradientBoostingRegressor(n_estimators=200, learning_rate=0.1, max_depth=3, random_state=42)\n",
    "gb.fit(X_train, y_train)\n",
    "\n",
    "gb_preds = gb.predict(X_test)\n",
    "\n",
    "print(\"Gradient Boosting MSE:\", mean_squared_error(y_test, gb_preds))\n",
    "print(\"Gradient Boosting R²:\", r2_score(y_test, gb_preds))\n"
   ]
  },
  {
   "cell_type": "markdown",
   "id": "92fa2759",
   "metadata": {},
   "source": [
    "* Insight : the model is performing great"
   ]
  },
  {
   "cell_type": "markdown",
   "id": "aee435b9",
   "metadata": {},
   "source": [
    "# 🧪 1. Interpret the Model — Understand the \"Why\n"
   ]
  },
  {
   "cell_type": "code",
   "execution_count": 148,
   "id": "02cc9f67",
   "metadata": {},
   "outputs": [
    {
     "data": {
      "image/png": "[encoded data removed]",
      "text/plain": [
       "<Figure size 1000x600 with 1 Axes>"
      ]
     },
     "metadata": {},
     "output_type": "display_data"
    }
   ],
   "source": [
    "#feature importance\n",
    "def plot_feature_importance(model, feature_names):\n",
    "    importances = model.feature_importances_\n",
    "    indices = np.argsort(importances)[::-1]\n",
    "    \n",
    "    plt.figure(figsize=(10, 6))\n",
    "    plt.title(\"Feature Importance\")\n",
    "    plt.bar(range(len(importances)), importances[indices], align='center')\n",
    "    plt.xticks(range(len(importances)), [feature_names[i] for i in indices], rotation=45)\n",
    "    plt.xlim([-1, len(importances)])\n",
    "    plt.show()\n",
    "plot_feature_importance(rf, X.columns)"
   ]
  },
  {
   "cell_type": "markdown",
   "id": "d121ead3",
   "metadata": {},
   "source": [
    "# Linear Regression Model"
   ]
  },
  {
   "cell_type": "markdown",
   "id": "dd40445f",
   "metadata": {},
   "source": [
    "* Building a linear regression model to forecast sales based on Conversion Rate."
   ]
  },
  {
   "cell_type": "code",
   "execution_count": 140,
   "id": "7c0e67e6",
   "metadata": {},
   "outputs": [],
   "source": [
    "from sklearn.linear_model import LinearRegression"
   ]
  },
  {
   "cell_type": "code",
   "execution_count": 141,
   "id": "9eb0766f",
   "metadata": {},
   "outputs": [
    {
     "name": "stdout",
     "output_type": "stream",
     "text": [
      "Features and target variable defined successfully.\n"
     ]
    }
   ],
   "source": [
    "# define features and target variable\n",
    "def define_features_target(df):\n",
    "    features = ['website_traffic', 'engagement_rate', 'Conversion_Rate', 'EngagePer_Visitor', 'SalesPer_Engagement']\n",
    "    target = 'sales_forecast'\n",
    "    X = df[features]\n",
    "    y = df[target]\n",
    "    print(\"Features and target variable defined successfully.\")\n",
    "    return X, y\n",
    "\n",
    "X, y = define_features_target(df)"
   ]
  },
  {
   "cell_type": "code",
   "execution_count": 142,
   "id": "e7f3eaee",
   "metadata": {},
   "outputs": [
    {
     "name": "stdout",
     "output_type": "stream",
     "text": [
      "Data split into training and testing sets successfully.\n"
     ]
    }
   ],
   "source": [
    "#split data into training and testing sets\n",
    "from sklearn.model_selection import train_test_split\n",
    "\n",
    "def split_data(X, y, test_size=0.2, random_state=42):\n",
    "    X_train, X_test, y_train, y_test = train_test_split(X, y, test_size=test_size, random_state=random_state)\n",
    "    print(\"Data split into training and testing sets successfully.\")\n",
    "    return X_train, X_test, y_train, y_test\n",
    "X_train, X_test, y_train, y_test = split_data(X, y)"
   ]
  },
  {
   "cell_type": "code",
   "execution_count": null,
   "id": "2d160049",
   "metadata": {},
   "outputs": [
    {
     "name": "stdout",
     "output_type": "stream",
     "text": [
      "Predicted Sales if Engagement Increases by 20%: [338.98818517]\n"
     ]
    }
   ],
   "source": [
    "# Fit the linear regression model\n",
    "model = LinearRegression()\n",
    "model.fit(X_train, y_train)\n",
    "\n",
    "#  What happens if engagement increases by 20%?\n",
    "scenario = df.iloc[[-1]].copy() \n",
    "scenario['Conversion_Rate'] *= 1.2\n",
    "\n",
    "predicted_sales = model.predict(scenario[X.columns])\n",
    "print(\"Predicted Sales if Engagement Increases by 20%:\", predicted_sales)\n"
   ]
  }
 ],
 "metadata": {
  "kernelspec": {
   "display_name": "base",
   "language": "python",
   "name": "python3"
  },
  "language_info": {
   "codemirror_mode": {
    "name": "ipython",
    "version": 3
   },
   "file_extension": ".py",
   "mimetype": "text/x-python",
   "name": "python",
   "nbconvert_exporter": "python",
   "pygments_lexer": "ipython3",
   "version": "3.12.7"
  }
 },
 "nbformat": 4,
 "nbformat_minor": 5
}
